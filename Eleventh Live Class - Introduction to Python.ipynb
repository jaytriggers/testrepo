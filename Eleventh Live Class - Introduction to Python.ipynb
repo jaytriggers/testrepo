{
 "cells": [
  {
   "cell_type": "markdown",
   "id": "d2b93ea3",
   "metadata": {},
   "source": [
    "## Introduction to Python "
   ]
  },
  {
   "cell_type": "code",
   "execution_count": 2,
   "id": "d2e076de",
   "metadata": {
    "ExecuteTime": {
     "end_time": "2024-05-30T18:07:04.795749Z",
     "start_time": "2024-05-30T18:07:04.790719Z"
    }
   },
   "outputs": [],
   "source": [
    "# Why Python - Object oriented, Rich library for DS, Rich Community of Contributors"
   ]
  },
  {
   "cell_type": "code",
   "execution_count": 3,
   "id": "e21ddc5a",
   "metadata": {
    "ExecuteTime": {
     "end_time": "2024-05-30T18:07:05.276721Z",
     "start_time": "2024-05-30T18:07:05.272412Z"
    }
   },
   "outputs": [],
   "source": [
    "# As a Data Science Practitioner; Understand Problem, Relate to real live issue, deal with data, transform data\n",
    "# model real life scenarios, use historical data, do research, use algorithms...Predict, "
   ]
  },
  {
   "cell_type": "markdown",
   "id": "d3774801",
   "metadata": {},
   "source": [
    "## Learn Python "
   ]
  },
  {
   "cell_type": "code",
   "execution_count": 5,
   "id": "ecde0722",
   "metadata": {
    "ExecuteTime": {
     "end_time": "2024-05-30T18:07:05.884024Z",
     "start_time": "2024-05-30T18:07:05.878430Z"
    }
   },
   "outputs": [],
   "source": [
    "# Python has rules -> To avoid error"
   ]
  },
  {
   "cell_type": "markdown",
   "id": "7d28bde3",
   "metadata": {},
   "source": [
    "## Variables & Data Types"
   ]
  },
  {
   "cell_type": "code",
   "execution_count": 7,
   "id": "9e96a1d6",
   "metadata": {
    "ExecuteTime": {
     "end_time": "2024-05-30T18:07:06.463620Z",
     "start_time": "2024-05-30T18:07:06.460185Z"
    }
   },
   "outputs": [],
   "source": [
    "# Create a variable \n",
    "# Have a variable name"
   ]
  },
  {
   "cell_type": "code",
   "execution_count": 8,
   "id": "8536a6b9",
   "metadata": {
    "ExecuteTime": {
     "end_time": "2024-05-30T18:07:06.781249Z",
     "start_time": "2024-05-30T18:07:06.773765Z"
    }
   },
   "outputs": [],
   "source": [
    "name = \"Pablo\" # a variable containing Pablo\n",
    "# When you click run, Python stores the variable to memory "
   ]
  },
  {
   "cell_type": "code",
   "execution_count": 9,
   "id": "47f1488f",
   "metadata": {
    "ExecuteTime": {
     "end_time": "2024-05-30T18:07:07.180416Z",
     "start_time": "2024-05-30T18:07:07.154396Z"
    }
   },
   "outputs": [
    {
     "ename": "NameError",
     "evalue": "name 'Chisom' is not defined",
     "output_type": "error",
     "traceback": [
      "\u001b[0;31m---------------------------------------------------------------------------\u001b[0m",
      "\u001b[0;31mNameError\u001b[0m                                 Traceback (most recent call last)",
      "Cell \u001b[0;32mIn[9], line 2\u001b[0m\n\u001b[1;32m      1\u001b[0m \u001b[38;5;66;03m# Strings or objects are indicated with either a single/double/triple quote\u001b[39;00m\n\u001b[0;32m----> 2\u001b[0m name_student \u001b[38;5;241m=\u001b[39m Chisom\n",
      "\u001b[0;31mNameError\u001b[0m: name 'Chisom' is not defined"
     ]
    }
   ],
   "source": [
    "# Strings or objects are indicated with either a single/double/triple quote\n",
    "name_student = Chisom "
   ]
  },
  {
   "cell_type": "code",
   "execution_count": null,
   "id": "395a3009-0438-421b-8c10-5ee9b962f11f",
   "metadata": {},
   "outputs": [],
   "source": []
  },
  {
   "cell_type": "code",
   "execution_count": null,
   "id": "f40bdf4a",
   "metadata": {
    "ExecuteTime": {
     "end_time": "2024-05-30T18:07:07.523131Z",
     "start_time": "2024-05-30T18:07:07.365585Z"
    }
   },
   "outputs": [],
   "source": [
    "name_student = 'Chisom'"
   ]
  },
  {
   "cell_type": "code",
   "execution_count": null,
   "id": "f06a2eb1",
   "metadata": {
    "ExecuteTime": {
     "end_time": "2024-05-30T18:07:07.709197Z",
     "start_time": "2024-05-30T18:07:07.699118Z"
    }
   },
   "outputs": [],
   "source": [
    "print(name_student)"
   ]
  },
  {
   "cell_type": "code",
   "execution_count": null,
   "id": "f19105a9",
   "metadata": {
    "ExecuteTime": {
     "end_time": "2024-05-30T18:07:08.137430Z",
     "start_time": "2024-05-30T18:07:08.122692Z"
    }
   },
   "outputs": [],
   "source": [
    "print(name)"
   ]
  },
  {
   "cell_type": "markdown",
   "id": "0c62d1d3",
   "metadata": {},
   "source": [
    "## There are rules for naming & using Variables \n",
    "\n",
    "### If you break some of these rule; errors or your code will be difficult to understand "
   ]
  },
  {
   "cell_type": "code",
   "execution_count": null,
   "id": "68159c27",
   "metadata": {},
   "outputs": [],
   "source": [
    "# Rule 1\n",
    "# Variables names can contain; letters, numbers & underscores \n",
    "# Variables can start with; a letter, an underscore but not a number"
   ]
  },
  {
   "cell_type": "code",
   "execution_count": null,
   "id": "e4f77592",
   "metadata": {
    "ExecuteTime": {
     "end_time": "2024-05-30T18:15:10.901981Z",
     "start_time": "2024-05-30T18:15:10.895166Z"
    }
   },
   "outputs": [],
   "source": [
    "name_tutor = \"Pablo\""
   ]
  },
  {
   "cell_type": "code",
   "execution_count": null,
   "id": "902d36e6",
   "metadata": {
    "ExecuteTime": {
     "end_time": "2024-05-30T18:15:26.897296Z",
     "start_time": "2024-05-30T18:15:26.886048Z"
    }
   },
   "outputs": [],
   "source": [
    "_tutor_name = \"Peter\""
   ]
  },
  {
   "cell_type": "code",
   "execution_count": null,
   "id": "a7d5d075",
   "metadata": {
    "ExecuteTime": {
     "end_time": "2024-05-30T18:15:43.903083Z",
     "start_time": "2024-05-30T18:15:43.892316Z"
    }
   },
   "outputs": [],
   "source": [
    "1tutor = \"Pablo\""
   ]
  },
  {
   "cell_type": "code",
   "execution_count": null,
   "id": "b8dd6218",
   "metadata": {},
   "outputs": [],
   "source": [
    "# Rule 2\n",
    "# Spaces are not allowed in variables; underscores are useful"
   ]
  },
  {
   "cell_type": "code",
   "execution_count": null,
   "id": "2d1c4d59",
   "metadata": {
    "ExecuteTime": {
     "end_time": "2024-05-30T18:17:50.236673Z",
     "start_time": "2024-05-30T18:17:50.218825Z"
    }
   },
   "outputs": [],
   "source": [
    "student name = 'Chisom'"
   ]
  },
  {
   "cell_type": "code",
   "execution_count": null,
   "id": "6e5ae874",
   "metadata": {
    "ExecuteTime": {
     "end_time": "2024-05-30T18:18:15.704337Z",
     "start_time": "2024-05-30T18:18:15.638897Z"
    }
   },
   "outputs": [],
   "source": [
    "studentName = 'Chisom'"
   ]
  },
  {
   "cell_type": "code",
   "execution_count": null,
   "id": "363a51b7",
   "metadata": {},
   "outputs": [],
   "source": [
    "# Rule 3\n",
    "# Avoid using Python keywords and function names as variable names\n",
    "# If you use them, you will confuse yourself or the code reader"
   ]
  },
  {
   "cell_type": "code",
   "execution_count": 14,
   "id": "feb4ba94",
   "metadata": {
    "ExecuteTime": {
     "end_time": "2024-05-30T18:21:39.525976Z",
     "start_time": "2024-05-30T18:21:39.506784Z"
    }
   },
   "outputs": [
    {
     "name": "stdout",
     "output_type": "stream",
     "text": [
      "['False', 'None', 'True', 'and', 'as', 'assert', 'async', 'await', 'break', 'class', 'continue', 'def', 'del', 'elif', 'else', 'except', 'finally', 'for', 'from', 'global', 'if', 'import', 'in', 'is', 'lambda', 'nonlocal', 'not', 'or', 'pass', 'raise', 'return', 'try', 'while', 'with', 'yield']\n"
     ]
    }
   ],
   "source": [
    "# list all keywords in Python\n",
    "import keyword\n",
    "print(keyword.kwlist)"
   ]
  },
  {
   "cell_type": "code",
   "execution_count": 24,
   "id": "847904a3",
   "metadata": {
    "ExecuteTime": {
     "end_time": "2024-05-30T18:31:00.832260Z",
     "start_time": "2024-05-30T18:31:00.815864Z"
    }
   },
   "outputs": [],
   "source": [
    "# create a list\n",
    "list_number = [23, 45, 67, 78]"
   ]
  },
  {
   "cell_type": "code",
   "execution_count": 26,
   "id": "fa6903e4",
   "metadata": {
    "ExecuteTime": {
     "end_time": "2024-05-30T18:31:12.965106Z",
     "start_time": "2024-05-30T18:31:12.958958Z"
    }
   },
   "outputs": [
    {
     "name": "stdout",
     "output_type": "stream",
     "text": [
      "[23, 45, 67, 78]\n"
     ]
    }
   ],
   "source": [
    "print(list_number)"
   ]
  },
  {
   "cell_type": "code",
   "execution_count": 28,
   "id": "dfb9796e",
   "metadata": {
    "ExecuteTime": {
     "end_time": "2024-05-30T18:31:37.226891Z",
     "start_time": "2024-05-30T18:31:37.210977Z"
    }
   },
   "outputs": [
    {
     "data": {
      "text/plain": [
       "213"
      ]
     },
     "execution_count": 28,
     "metadata": {},
     "output_type": "execute_result"
    }
   ],
   "source": [
    "sum(list_number)"
   ]
  },
  {
   "cell_type": "code",
   "execution_count": 30,
   "id": "97842775",
   "metadata": {
    "ExecuteTime": {
     "end_time": "2024-05-30T18:31:07.815733Z",
     "start_time": "2024-05-30T18:31:07.805013Z"
    }
   },
   "outputs": [],
   "source": [
    "sum = \"numbers\""
   ]
  },
  {
   "cell_type": "code",
   "execution_count": 32,
   "id": "ef4062b0",
   "metadata": {
    "ExecuteTime": {
     "end_time": "2024-05-30T18:31:09.203418Z",
     "start_time": "2024-05-30T18:31:09.195489Z"
    }
   },
   "outputs": [
    {
     "name": "stdout",
     "output_type": "stream",
     "text": [
      "numbers\n"
     ]
    }
   ],
   "source": [
    "print(sum)"
   ]
  },
  {
   "cell_type": "code",
   "execution_count": 34,
   "id": "3feaee46",
   "metadata": {
    "ExecuteTime": {
     "end_time": "2024-05-30T18:31:33.719819Z",
     "start_time": "2024-05-30T18:31:33.683162Z"
    }
   },
   "outputs": [],
   "source": [
    "del sum "
   ]
  },
  {
   "cell_type": "code",
   "execution_count": 36,
   "id": "42046aef",
   "metadata": {
    "ExecuteTime": {
     "end_time": "2024-05-30T18:26:21.481285Z",
     "start_time": "2024-05-30T18:26:21.473203Z"
    }
   },
   "outputs": [],
   "source": [
    "# del sum use the del function to remove confusing variables"
   ]
  },
  {
   "cell_type": "code",
   "execution_count": 38,
   "id": "a8d62e51",
   "metadata": {},
   "outputs": [],
   "source": [
    "# Rule 4\n",
    "# Variable names should descriptive, it shouldn’t be long"
   ]
  },
  {
   "cell_type": "code",
   "execution_count": 40,
   "id": "b30b8150",
   "metadata": {},
   "outputs": [],
   "source": [
    "n_t = \"Pablo\" # Not descriptive"
   ]
  },
  {
   "cell_type": "code",
   "execution_count": 42,
   "id": "57e18816",
   "metadata": {},
   "outputs": [],
   "source": [
    "name_tutor = \"Pablo\" # Descriptive"
   ]
  },
  {
   "cell_type": "code",
   "execution_count": 44,
   "id": "8aa0b643",
   "metadata": {},
   "outputs": [],
   "source": [
    "the_name_data_science_tutur_alt_school_africa = \"Uncle Pablo\" # Too long"
   ]
  },
  {
   "cell_type": "code",
   "execution_count": 46,
   "id": "1aae1adb",
   "metadata": {},
   "outputs": [],
   "source": [
    "# Rule 5 \n",
    "# Careful using similar letters and numbers\n",
    "# l 1, 0 O - causes confusion"
   ]
  },
  {
   "cell_type": "code",
   "execution_count": 48,
   "id": "ffd1958c",
   "metadata": {},
   "outputs": [],
   "source": [
    "# You will read more code than you write "
   ]
  },
  {
   "cell_type": "code",
   "execution_count": 50,
   "id": "ed64947b",
   "metadata": {},
   "outputs": [],
   "source": [
    "# Camel case; nameTutor, name_tutor\n",
    "# NaMe_TUtor"
   ]
  },
  {
   "cell_type": "markdown",
   "id": "45c632ff",
   "metadata": {},
   "source": [
    "## Very popular error with naming variables"
   ]
  },
  {
   "cell_type": "code",
   "execution_count": 53,
   "id": "2d2292b8",
   "metadata": {},
   "outputs": [],
   "source": [
    "# name error"
   ]
  },
  {
   "cell_type": "code",
   "execution_count": 55,
   "id": "bf077f88",
   "metadata": {
    "ExecuteTime": {
     "end_time": "2024-05-30T18:37:06.540952Z",
     "start_time": "2024-05-30T18:37:06.535435Z"
    }
   },
   "outputs": [],
   "source": [
    "NaMe_TUtor = 'Gideon'"
   ]
  },
  {
   "cell_type": "code",
   "execution_count": 57,
   "id": "d54f1859",
   "metadata": {
    "ExecuteTime": {
     "end_time": "2024-05-30T18:37:28.005599Z",
     "start_time": "2024-05-30T18:37:27.856081Z"
    }
   },
   "outputs": [
    {
     "ename": "NameError",
     "evalue": "name 'nAme_TuTor' is not defined",
     "output_type": "error",
     "traceback": [
      "\u001b[0;31m---------------------------------------------------------------------------\u001b[0m",
      "\u001b[0;31mNameError\u001b[0m                                 Traceback (most recent call last)",
      "Cell \u001b[0;32mIn[57], line 1\u001b[0m\n\u001b[0;32m----> 1\u001b[0m \u001b[38;5;28mprint\u001b[39m(nAme_TuTor)\n",
      "\u001b[0;31mNameError\u001b[0m: name 'nAme_TuTor' is not defined"
     ]
    }
   ],
   "source": [
    "print(nAme_TuTor)"
   ]
  },
  {
   "cell_type": "markdown",
   "id": "c09f88fb",
   "metadata": {},
   "source": [
    "## Introducing Strings"
   ]
  },
  {
   "cell_type": "code",
   "execution_count": 60,
   "id": "106d3c4d",
   "metadata": {
    "ExecuteTime": {
     "end_time": "2024-05-30T18:42:47.187419Z",
     "start_time": "2024-05-30T18:42:47.161262Z"
    }
   },
   "outputs": [],
   "source": [
    "# A data type\n",
    "# String(s) are a series of characters\n",
    "# Anything inside a quote is considered a string in Python\n",
    "# You use a single/double/triple quotes "
   ]
  },
  {
   "cell_type": "markdown",
   "id": "f3e7a28e",
   "metadata": {},
   "source": [
    "### Anything started with # sign is a comment.\n",
    "\n",
    "#### Especially in a code cell"
   ]
  },
  {
   "cell_type": "code",
   "execution_count": 63,
   "id": "08aa3506",
   "metadata": {},
   "outputs": [],
   "source": [
    "# Relate to Something real \n",
    "# import a package - we need to perform a specific task\n",
    "# Read a dataset into a dataframe \n",
    "# Seen the firrst five rows\n",
    "# Extract the data types"
   ]
  },
  {
   "cell_type": "code",
   "execution_count": 65,
   "id": "27b70cbe",
   "metadata": {
    "ExecuteTime": {
     "end_time": "2024-05-30T18:50:48.341334Z",
     "start_time": "2024-05-30T18:50:48.329895Z"
    }
   },
   "outputs": [],
   "source": [
    "# an import statement\n",
    "import pandas as pd "
   ]
  },
  {
   "cell_type": "code",
   "execution_count": 67,
   "id": "311e8b54",
   "metadata": {},
   "outputs": [],
   "source": [
    "# Read this dataset into a dataframe\n",
    "# A dataframe is a 2 Dimensional table"
   ]
  },
  {
   "cell_type": "code",
   "execution_count": 69,
   "id": "220e7458",
   "metadata": {
    "ExecuteTime": {
     "end_time": "2024-05-30T18:52:20.744783Z",
     "start_time": "2024-05-30T18:52:20.286594Z"
    }
   },
   "outputs": [],
   "source": [
    "bank_data = pd.read_csv(\"bank-full.csv\", sep=';') # read a dataset into a dataframe"
   ]
  },
  {
   "cell_type": "code",
   "execution_count": 71,
   "id": "7ccade7b",
   "metadata": {
    "ExecuteTime": {
     "end_time": "2024-05-30T18:52:35.404365Z",
     "start_time": "2024-05-30T18:52:35.352245Z"
    }
   },
   "outputs": [
    {
     "data": {
      "text/html": [
       "<div>\n",
       "<style scoped>\n",
       "    .dataframe tbody tr th:only-of-type {\n",
       "        vertical-align: middle;\n",
       "    }\n",
       "\n",
       "    .dataframe tbody tr th {\n",
       "        vertical-align: top;\n",
       "    }\n",
       "\n",
       "    .dataframe thead th {\n",
       "        text-align: right;\n",
       "    }\n",
       "</style>\n",
       "<table border=\"1\" class=\"dataframe\">\n",
       "  <thead>\n",
       "    <tr style=\"text-align: right;\">\n",
       "      <th></th>\n",
       "      <th>age</th>\n",
       "      <th>job</th>\n",
       "      <th>marital</th>\n",
       "      <th>education</th>\n",
       "      <th>default</th>\n",
       "      <th>balance</th>\n",
       "      <th>housing</th>\n",
       "      <th>loan</th>\n",
       "      <th>contact</th>\n",
       "      <th>day</th>\n",
       "      <th>month</th>\n",
       "      <th>duration</th>\n",
       "      <th>campaign</th>\n",
       "      <th>pdays</th>\n",
       "      <th>previous</th>\n",
       "      <th>poutcome</th>\n",
       "      <th>y</th>\n",
       "    </tr>\n",
       "  </thead>\n",
       "  <tbody>\n",
       "    <tr>\n",
       "      <th>0</th>\n",
       "      <td>58</td>\n",
       "      <td>management</td>\n",
       "      <td>married</td>\n",
       "      <td>tertiary</td>\n",
       "      <td>no</td>\n",
       "      <td>2143</td>\n",
       "      <td>yes</td>\n",
       "      <td>no</td>\n",
       "      <td>unknown</td>\n",
       "      <td>5</td>\n",
       "      <td>may</td>\n",
       "      <td>261</td>\n",
       "      <td>1</td>\n",
       "      <td>-1</td>\n",
       "      <td>0</td>\n",
       "      <td>unknown</td>\n",
       "      <td>no</td>\n",
       "    </tr>\n",
       "    <tr>\n",
       "      <th>1</th>\n",
       "      <td>44</td>\n",
       "      <td>technician</td>\n",
       "      <td>single</td>\n",
       "      <td>secondary</td>\n",
       "      <td>no</td>\n",
       "      <td>29</td>\n",
       "      <td>yes</td>\n",
       "      <td>no</td>\n",
       "      <td>unknown</td>\n",
       "      <td>5</td>\n",
       "      <td>may</td>\n",
       "      <td>151</td>\n",
       "      <td>1</td>\n",
       "      <td>-1</td>\n",
       "      <td>0</td>\n",
       "      <td>unknown</td>\n",
       "      <td>no</td>\n",
       "    </tr>\n",
       "    <tr>\n",
       "      <th>2</th>\n",
       "      <td>33</td>\n",
       "      <td>entrepreneur</td>\n",
       "      <td>married</td>\n",
       "      <td>secondary</td>\n",
       "      <td>no</td>\n",
       "      <td>2</td>\n",
       "      <td>yes</td>\n",
       "      <td>yes</td>\n",
       "      <td>unknown</td>\n",
       "      <td>5</td>\n",
       "      <td>may</td>\n",
       "      <td>76</td>\n",
       "      <td>1</td>\n",
       "      <td>-1</td>\n",
       "      <td>0</td>\n",
       "      <td>unknown</td>\n",
       "      <td>no</td>\n",
       "    </tr>\n",
       "    <tr>\n",
       "      <th>3</th>\n",
       "      <td>47</td>\n",
       "      <td>blue-collar</td>\n",
       "      <td>married</td>\n",
       "      <td>unknown</td>\n",
       "      <td>no</td>\n",
       "      <td>1506</td>\n",
       "      <td>yes</td>\n",
       "      <td>no</td>\n",
       "      <td>unknown</td>\n",
       "      <td>5</td>\n",
       "      <td>may</td>\n",
       "      <td>92</td>\n",
       "      <td>1</td>\n",
       "      <td>-1</td>\n",
       "      <td>0</td>\n",
       "      <td>unknown</td>\n",
       "      <td>no</td>\n",
       "    </tr>\n",
       "    <tr>\n",
       "      <th>4</th>\n",
       "      <td>33</td>\n",
       "      <td>unknown</td>\n",
       "      <td>single</td>\n",
       "      <td>unknown</td>\n",
       "      <td>no</td>\n",
       "      <td>1</td>\n",
       "      <td>no</td>\n",
       "      <td>no</td>\n",
       "      <td>unknown</td>\n",
       "      <td>5</td>\n",
       "      <td>may</td>\n",
       "      <td>198</td>\n",
       "      <td>1</td>\n",
       "      <td>-1</td>\n",
       "      <td>0</td>\n",
       "      <td>unknown</td>\n",
       "      <td>no</td>\n",
       "    </tr>\n",
       "  </tbody>\n",
       "</table>\n",
       "</div>"
      ],
      "text/plain": [
       "   age           job  marital  education default  balance housing loan  \\\n",
       "0   58    management  married   tertiary      no     2143     yes   no   \n",
       "1   44    technician   single  secondary      no       29     yes   no   \n",
       "2   33  entrepreneur  married  secondary      no        2     yes  yes   \n",
       "3   47   blue-collar  married    unknown      no     1506     yes   no   \n",
       "4   33       unknown   single    unknown      no        1      no   no   \n",
       "\n",
       "   contact  day month  duration  campaign  pdays  previous poutcome   y  \n",
       "0  unknown    5   may       261         1     -1         0  unknown  no  \n",
       "1  unknown    5   may       151         1     -1         0  unknown  no  \n",
       "2  unknown    5   may        76         1     -1         0  unknown  no  \n",
       "3  unknown    5   may        92         1     -1         0  unknown  no  \n",
       "4  unknown    5   may       198         1     -1         0  unknown  no  "
      ]
     },
     "execution_count": 71,
     "metadata": {},
     "output_type": "execute_result"
    }
   ],
   "source": [
    "bank_data.head() "
   ]
  },
  {
   "cell_type": "code",
   "execution_count": 73,
   "id": "0d154d99",
   "metadata": {
    "ExecuteTime": {
     "end_time": "2024-05-30T18:56:37.931268Z",
     "start_time": "2024-05-30T18:56:37.826061Z"
    }
   },
   "outputs": [
    {
     "name": "stdout",
     "output_type": "stream",
     "text": [
      "<class 'pandas.core.frame.DataFrame'>\n",
      "RangeIndex: 45211 entries, 0 to 45210\n",
      "Data columns (total 17 columns):\n",
      " #   Column     Non-Null Count  Dtype \n",
      "---  ------     --------------  ----- \n",
      " 0   age        45211 non-null  int64 \n",
      " 1   job        45211 non-null  object\n",
      " 2   marital    45211 non-null  object\n",
      " 3   education  45211 non-null  object\n",
      " 4   default    45211 non-null  object\n",
      " 5   balance    45211 non-null  int64 \n",
      " 6   housing    45211 non-null  object\n",
      " 7   loan       45211 non-null  object\n",
      " 8   contact    45211 non-null  object\n",
      " 9   day        45211 non-null  int64 \n",
      " 10  month      45211 non-null  object\n",
      " 11  duration   45211 non-null  int64 \n",
      " 12  campaign   45211 non-null  int64 \n",
      " 13  pdays      45211 non-null  int64 \n",
      " 14  previous   45211 non-null  int64 \n",
      " 15  poutcome   45211 non-null  object\n",
      " 16  y          45211 non-null  object\n",
      "dtypes: int64(7), object(10)\n",
      "memory usage: 5.9+ MB\n"
     ]
    }
   ],
   "source": [
    "bank_data.info()"
   ]
  },
  {
   "cell_type": "code",
   "execution_count": 75,
   "id": "0eef13ef",
   "metadata": {
    "ExecuteTime": {
     "end_time": "2024-05-30T19:01:03.768449Z",
     "start_time": "2024-05-30T19:01:03.743384Z"
    }
   },
   "outputs": [],
   "source": [
    "#iris_data = pd.read_csv(\"/Users/pablo/Downloads/Iris.csv\")"
   ]
  },
  {
   "cell_type": "code",
   "execution_count": 77,
   "id": "af057986",
   "metadata": {
    "ExecuteTime": {
     "end_time": "2024-05-30T19:01:11.109524Z",
     "start_time": "2024-05-30T19:01:11.076612Z"
    }
   },
   "outputs": [],
   "source": [
    "#iris_data.head() "
   ]
  },
  {
   "cell_type": "markdown",
   "id": "8ae0381c-db0e-4554-abae-d05962c1aaab",
   "metadata": {},
   "source": [
    "### Comments\n",
    "\n",
    "What are comments? #"
   ]
  },
  {
   "cell_type": "code",
   "execution_count": 80,
   "id": "c3b19f48-0f7c-49c5-a6ae-715ab8d03da9",
   "metadata": {},
   "outputs": [],
   "source": [
    "# Important to document our code from start\n",
    "# It is crucial to document your variable names, function names...\n",
    "# Give them readable indentifier\n",
    "# This is done using comments"
   ]
  },
  {
   "cell_type": "code",
   "execution_count": 82,
   "id": "01a15612",
   "metadata": {},
   "outputs": [],
   "source": [
    "# Continuing with Strings\n",
    "# One of the most common data types in Python \n",
    "# A String is a series of characters "
   ]
  },
  {
   "cell_type": "code",
   "execution_count": 84,
   "id": "39657261-7cd0-44b6-bcf4-b885ffca147e",
   "metadata": {},
   "outputs": [
    {
     "data": {
      "text/plain": [
       "'This is the third Live Class'"
      ]
     },
     "execution_count": 84,
     "metadata": {},
     "output_type": "execute_result"
    }
   ],
   "source": [
    "\"This is the third Live Class\" "
   ]
  },
  {
   "cell_type": "code",
   "execution_count": 86,
   "id": "65db962a-5693-40e8-a619-2eb220b52e69",
   "metadata": {},
   "outputs": [
    {
     "data": {
      "text/plain": [
       "'This is the Karatu Session'"
      ]
     },
     "execution_count": 86,
     "metadata": {},
     "output_type": "execute_result"
    }
   ],
   "source": [
    "'This is the Karatu Session' "
   ]
  },
  {
   "cell_type": "markdown",
   "id": "a1c51c03-46aa-4ed3-9a0e-98ea7fb58a22",
   "metadata": {},
   "source": [
    "### Using a Variable with a string"
   ]
  },
  {
   "cell_type": "code",
   "execution_count": 89,
   "id": "01c04fdb-8920-40f6-9b73-1cbf817901f2",
   "metadata": {},
   "outputs": [],
   "source": [
    "live_class = \"This is the third Live Class\""
   ]
  },
  {
   "cell_type": "code",
   "execution_count": 91,
   "id": "9f600add-e562-4fa9-b77e-9b3b16cdb862",
   "metadata": {},
   "outputs": [
    {
     "data": {
      "text/plain": [
       "'This is the third Live Class'"
      ]
     },
     "execution_count": 91,
     "metadata": {},
     "output_type": "execute_result"
    }
   ],
   "source": [
    "live_class"
   ]
  },
  {
   "cell_type": "markdown",
   "id": "2c83935c-f017-4fb8-959b-a1219088b80d",
   "metadata": {},
   "source": [
    "### Python method - Python functionalities "
   ]
  },
  {
   "cell_type": "code",
   "execution_count": 94,
   "id": "3f4c9a44-3f8c-48f8-8d97-3d3b7bcf9266",
   "metadata": {},
   "outputs": [
    {
     "name": "stdout",
     "output_type": "stream",
     "text": [
      "THIS IS THE THIRD LIVE CLASS\n"
     ]
    }
   ],
   "source": [
    "print(live_class.upper())"
   ]
  },
  {
   "cell_type": "code",
   "execution_count": 96,
   "id": "90a8469d-e696-435f-acf2-ace398713f73",
   "metadata": {},
   "outputs": [
    {
     "name": "stdout",
     "output_type": "stream",
     "text": [
      "this is the third live class\n"
     ]
    }
   ],
   "source": [
    "print(live_class.lower())"
   ]
  },
  {
   "cell_type": "code",
   "execution_count": 98,
   "id": "7ef9aff4-a76e-4a99-9b98-460356eede97",
   "metadata": {},
   "outputs": [
    {
     "data": {
      "text/plain": [
       "68"
      ]
     },
     "execution_count": 98,
     "metadata": {},
     "output_type": "execute_result"
    }
   ],
   "source": [
    "sum([23,45]) # A built-in Python Function"
   ]
  },
  {
   "cell_type": "code",
   "execution_count": 100,
   "id": "021bba5f-24cc-4311-8f0f-75e0aa2c6ee3",
   "metadata": {},
   "outputs": [
    {
     "ename": "SyntaxError",
     "evalue": "unterminated string literal (detected at line 2) (4162842367.py, line 2)",
     "output_type": "error",
     "traceback": [
      "\u001b[0;36m  Cell \u001b[0;32mIn[100], line 2\u001b[0;36m\u001b[0m\n\u001b[0;31m    a_statement = 'Today's live class'\u001b[0m\n\u001b[0m                                     ^\u001b[0m\n\u001b[0;31mSyntaxError\u001b[0m\u001b[0;31m:\u001b[0m unterminated string literal (detected at line 2)\n"
     ]
    }
   ],
   "source": [
    "# Popular error\n",
    "a_statement = 'Today's live class'"
   ]
  },
  {
   "cell_type": "code",
   "execution_count": 102,
   "id": "bc1e0bf8-ff1e-4964-b5e2-79e913c62264",
   "metadata": {},
   "outputs": [],
   "source": [
    "a_statement = \"Today's live class\""
   ]
  },
  {
   "cell_type": "markdown",
   "id": "acad229d-75a3-4147-85c6-ecd8d15f9075",
   "metadata": {},
   "source": [
    "### Example for using Python strings"
   ]
  },
  {
   "cell_type": "code",
   "execution_count": 105,
   "id": "9702eca9-67f7-43ba-aca8-e71cd55e5183",
   "metadata": {},
   "outputs": [
    {
     "name": "stdout",
     "output_type": "stream",
     "text": [
      "Hello, world Alice\n"
     ]
    }
   ],
   "source": [
    "# Putting two strings together \n",
    "# Concatenating strings\n",
    "greeting = \"Hello, world\" # a variable containing hello world\n",
    "name = \"Alice\" # a variable with the name Alice\n",
    "personal_greeting = greeting + \" \" + name \n",
    "print(personal_greeting) "
   ]
  },
  {
   "cell_type": "code",
   "execution_count": 107,
   "id": "b7e7558a-3612-4d24-99f4-37f2045b6d07",
   "metadata": {},
   "outputs": [
    {
     "name": "stdout",
     "output_type": "stream",
     "text": [
      "13 12 14\n"
     ]
    }
   ],
   "source": [
    "# Question \n",
    "x, y, z = 13, 12, 14\n",
    "print(x, y, z)"
   ]
  },
  {
   "cell_type": "code",
   "execution_count": 109,
   "id": "66f4bd1b-ee26-4c42-adf3-315a9df0c80e",
   "metadata": {},
   "outputs": [
    {
     "name": "stdout",
     "output_type": "stream",
     "text": [
      "12\n"
     ]
    }
   ],
   "source": [
    "print(y)"
   ]
  },
  {
   "cell_type": "markdown",
   "id": "d7a4d478-6ad0-4ebf-ac3f-b79c0e304ee2",
   "metadata": {},
   "source": [
    "### Introduce Python Lists"
   ]
  },
  {
   "cell_type": "code",
   "execution_count": 112,
   "id": "929898ea-b83b-49be-b184-a3b5f733dfc0",
   "metadata": {},
   "outputs": [],
   "source": [
    "# It is a data structure \n",
    "# It can store sets of Information \n",
    "# From a few items to millions of items\n",
    "# A list is mutable - editable \n",
    "# To create a list - []\n",
    "# It is a collection of items in a particular "
   ]
  },
  {
   "cell_type": "code",
   "execution_count": 114,
   "id": "9a063831-08a5-4378-b382-32b241bf744d",
   "metadata": {},
   "outputs": [],
   "source": [
    "# Create our first list\n",
    "list_classNames = ['Saheed', 'Shukurah', 'Ndidi', 'Adeola', 'Sandra'] "
   ]
  },
  {
   "cell_type": "code",
   "execution_count": 116,
   "id": "82b572bc-9398-47d6-a994-e037efbdcaf1",
   "metadata": {},
   "outputs": [
    {
     "name": "stdout",
     "output_type": "stream",
     "text": [
      "['Saheed', 'Shukurah', 'Ndidi', 'Adeola', 'Sandra']\n"
     ]
    }
   ],
   "source": [
    "print(list_classNames)"
   ]
  },
  {
   "cell_type": "code",
   "execution_count": 118,
   "id": "f68344e0-40f2-4612-946b-f7719832eb47",
   "metadata": {},
   "outputs": [
    {
     "data": {
      "text/plain": [
       "str"
      ]
     },
     "execution_count": 118,
     "metadata": {},
     "output_type": "execute_result"
    }
   ],
   "source": [
    "# type method\n",
    "type(greeting)"
   ]
  },
  {
   "cell_type": "code",
   "execution_count": 120,
   "id": "5813b2ab-6c55-42f4-af0b-4f8ce0379e60",
   "metadata": {},
   "outputs": [
    {
     "data": {
      "text/plain": [
       "list"
      ]
     },
     "execution_count": 120,
     "metadata": {},
     "output_type": "execute_result"
    }
   ],
   "source": [
    "type(list_classNames)"
   ]
  },
  {
   "cell_type": "code",
   "execution_count": 122,
   "id": "5a4642bb-3340-4ad3-99b3-3fcb4b25c094",
   "metadata": {},
   "outputs": [],
   "source": [
    "# list can contain different data types\n",
    "list_difftypes = [234, 'Saheed', False, 'Pablo', 42.0]"
   ]
  },
  {
   "cell_type": "code",
   "execution_count": 124,
   "id": "c5645edd-dd16-45c0-9b75-6368248afc1e",
   "metadata": {},
   "outputs": [
    {
     "name": "stdout",
     "output_type": "stream",
     "text": [
      "[234, 'Saheed', False, 'Pablo', 42.0]\n"
     ]
    }
   ],
   "source": [
    "print(list_difftypes)"
   ]
  },
  {
   "cell_type": "code",
   "execution_count": 126,
   "id": "855a861d-9dce-4996-9670-301bdec69c74",
   "metadata": {},
   "outputs": [
    {
     "data": {
      "text/plain": [
       "list"
      ]
     },
     "execution_count": 126,
     "metadata": {},
     "output_type": "execute_result"
    }
   ],
   "source": [
    "type(list_difftypes)"
   ]
  },
  {
   "cell_type": "markdown",
   "id": "fbcc18ce-b890-4c3c-a170-67b1958beb0a",
   "metadata": {},
   "source": [
    "### Basic Operations with a List"
   ]
  },
  {
   "cell_type": "code",
   "execution_count": 129,
   "id": "4b2ffb49-3e71-4aff-885d-b561bf2946b6",
   "metadata": {},
   "outputs": [
    {
     "name": "stdout",
     "output_type": "stream",
     "text": [
      "['Saheed', 'Shukurah', 'Ndidi', 'Adeola', 'Sandra']\n"
     ]
    }
   ],
   "source": [
    "print(list_classNames)"
   ]
  },
  {
   "cell_type": "code",
   "execution_count": 131,
   "id": "b2497fac-5218-4095-8283-1894f1cda251",
   "metadata": {},
   "outputs": [
    {
     "data": {
      "text/plain": [
       "'Saheed'"
      ]
     },
     "execution_count": 131,
     "metadata": {},
     "output_type": "execute_result"
    }
   ],
   "source": [
    "# Accessing elements in a list\n",
    "# Elements in a list are indexed \n",
    "# Numbering(index positions) starts from 0\n",
    "list_classNames[0]"
   ]
  },
  {
   "cell_type": "code",
   "execution_count": 133,
   "id": "ca4470d7-2f76-462a-a306-dcafd50d1c7c",
   "metadata": {},
   "outputs": [
    {
     "data": {
      "text/plain": [
       "5"
      ]
     },
     "execution_count": 133,
     "metadata": {},
     "output_type": "execute_result"
    }
   ],
   "source": [
    "# number of elements in the list\n",
    "len(list_classNames)"
   ]
  },
  {
   "cell_type": "code",
   "execution_count": 135,
   "id": "93079acf-bdd8-495b-85a3-f411236cf7d6",
   "metadata": {},
   "outputs": [
    {
     "ename": "IndexError",
     "evalue": "list index out of range",
     "output_type": "error",
     "traceback": [
      "\u001b[0;31m---------------------------------------------------------------------------\u001b[0m",
      "\u001b[0;31mIndexError\u001b[0m                                Traceback (most recent call last)",
      "Cell \u001b[0;32mIn[135], line 1\u001b[0m\n\u001b[0;32m----> 1\u001b[0m list_classNames[\u001b[38;5;241m5\u001b[39m]\n",
      "\u001b[0;31mIndexError\u001b[0m: list index out of range"
     ]
    }
   ],
   "source": [
    "list_classNames[5] "
   ]
  },
  {
   "cell_type": "code",
   "execution_count": 137,
   "id": "5976a203-905b-4a2e-b8b2-0b1fd2ae9457",
   "metadata": {},
   "outputs": [
    {
     "data": {
      "text/plain": [
       "'Sandra'"
      ]
     },
     "execution_count": 137,
     "metadata": {},
     "output_type": "execute_result"
    }
   ],
   "source": [
    "list_classNames[4]"
   ]
  },
  {
   "cell_type": "code",
   "execution_count": 139,
   "id": "9449f677-3c21-4bef-a579-7f111cf0d09e",
   "metadata": {},
   "outputs": [
    {
     "data": {
      "text/plain": [
       "'Sandra'"
      ]
     },
     "execution_count": 139,
     "metadata": {},
     "output_type": "execute_result"
    }
   ],
   "source": [
    "list_classNames[-1]"
   ]
  },
  {
   "cell_type": "markdown",
   "id": "f05b591e-a434-465e-b336-6f3d2297fbd4",
   "metadata": {},
   "source": [
    "### Modify, Add & Remove Elements from a List"
   ]
  },
  {
   "cell_type": "code",
   "execution_count": 142,
   "id": "15e61fe0-bbdf-44ab-828d-c54941381e33",
   "metadata": {},
   "outputs": [],
   "source": [
    "# A list is mutable "
   ]
  },
  {
   "cell_type": "code",
   "execution_count": 144,
   "id": "cd5d7192-8b0e-4ba2-8079-9189f66421de",
   "metadata": {},
   "outputs": [
    {
     "name": "stdout",
     "output_type": "stream",
     "text": [
      "['Saheed', 'Shukurah', 'Ndidi', 'Adeola', 'Sandra']\n"
     ]
    }
   ],
   "source": [
    "print(list_classNames)"
   ]
  },
  {
   "cell_type": "code",
   "execution_count": 146,
   "id": "779a943d-d3d8-41f1-ae66-bd717c8c3279",
   "metadata": {},
   "outputs": [],
   "source": [
    "# Modifying an element in a list\n",
    "list_classNames[0] = 'Emeka'"
   ]
  },
  {
   "cell_type": "code",
   "execution_count": 148,
   "id": "5d6074cc-a4e6-4bf8-bb00-63c0c6ab8ab4",
   "metadata": {},
   "outputs": [
    {
     "name": "stdout",
     "output_type": "stream",
     "text": [
      "['Emeka', 'Shukurah', 'Ndidi', 'Adeola', 'Sandra']\n"
     ]
    }
   ],
   "source": [
    "print(list_classNames)"
   ]
  },
  {
   "cell_type": "code",
   "execution_count": 150,
   "id": "f134e98d-d1a2-4e43-bbf9-2819594cdfbf",
   "metadata": {},
   "outputs": [],
   "source": [
    "# To add - append() - will add to the end of a list\n",
    "list_classNames.append('Saheed')"
   ]
  },
  {
   "cell_type": "code",
   "execution_count": 152,
   "id": "39d1b867-7b88-4870-bacd-514374ee1635",
   "metadata": {},
   "outputs": [
    {
     "name": "stdout",
     "output_type": "stream",
     "text": [
      "['Emeka', 'Shukurah', 'Ndidi', 'Adeola', 'Sandra', 'Saheed']\n"
     ]
    }
   ],
   "source": [
    "print(list_classNames)"
   ]
  },
  {
   "cell_type": "code",
   "execution_count": 154,
   "id": "5dbaef6f-b74e-490d-8271-6605a0665e46",
   "metadata": {},
   "outputs": [],
   "source": [
    "# To add - insert() - takes advantage of index positions \n",
    "list_classNames.insert(1, 'Ebuka') "
   ]
  },
  {
   "cell_type": "code",
   "execution_count": 156,
   "id": "836b09f5-5619-4957-b12f-3b90da99696d",
   "metadata": {},
   "outputs": [
    {
     "name": "stdout",
     "output_type": "stream",
     "text": [
      "['Emeka', 'Ebuka', 'Shukurah', 'Ndidi', 'Adeola', 'Sandra', 'Saheed']\n"
     ]
    }
   ],
   "source": [
    "print(list_classNames)"
   ]
  },
  {
   "cell_type": "code",
   "execution_count": 158,
   "id": "43e269f3-d415-43be-bc3e-109579af81b9",
   "metadata": {},
   "outputs": [],
   "source": [
    "# To remove - del \n",
    "del list_classNames[1]"
   ]
  },
  {
   "cell_type": "code",
   "execution_count": 160,
   "id": "dbae1e6f-b059-4c05-9fca-959be88d5bf5",
   "metadata": {},
   "outputs": [
    {
     "name": "stdout",
     "output_type": "stream",
     "text": [
      "['Emeka', 'Shukurah', 'Ndidi', 'Adeola', 'Sandra', 'Saheed']\n"
     ]
    }
   ],
   "source": [
    "print(list_classNames)"
   ]
  },
  {
   "cell_type": "code",
   "execution_count": 162,
   "id": "e09c0e13-5ccc-4827-bff9-c0ec8e998957",
   "metadata": {},
   "outputs": [
    {
     "data": {
      "text/plain": [
       "'Saheed'"
      ]
     },
     "execution_count": 162,
     "metadata": {},
     "output_type": "execute_result"
    }
   ],
   "source": [
    "# To remove - pop() - last item\n",
    "list_classNames.pop()"
   ]
  },
  {
   "cell_type": "code",
   "execution_count": 164,
   "id": "0a6df27f-5379-4bb8-840f-9e67b4caba07",
   "metadata": {},
   "outputs": [
    {
     "name": "stdout",
     "output_type": "stream",
     "text": [
      "['Emeka', 'Shukurah', 'Ndidi', 'Adeola', 'Sandra']\n"
     ]
    }
   ],
   "source": [
    "print(list_classNames)"
   ]
  },
  {
   "cell_type": "code",
   "execution_count": 166,
   "id": "384f4dde-fc95-4a06-964d-45f7a79def87",
   "metadata": {},
   "outputs": [],
   "source": [
    "# To remove - pop() -index position \n",
    "patience = list_classNames.pop(2)"
   ]
  },
  {
   "cell_type": "code",
   "execution_count": 168,
   "id": "bccc610e-697b-4167-b6eb-accb3bbe7306",
   "metadata": {},
   "outputs": [
    {
     "name": "stdout",
     "output_type": "stream",
     "text": [
      "Ndidi\n"
     ]
    }
   ],
   "source": [
    "print(patience)"
   ]
  },
  {
   "cell_type": "code",
   "execution_count": 170,
   "id": "faf0f6a7-4fc6-4746-8f06-433c49b00df7",
   "metadata": {},
   "outputs": [],
   "source": [
    "# Recap to remove using del\n",
    "del list_classNames[3]"
   ]
  },
  {
   "cell_type": "code",
   "execution_count": 172,
   "id": "308855a1-45e7-45fc-bcee-cfa0372542c1",
   "metadata": {},
   "outputs": [
    {
     "name": "stdout",
     "output_type": "stream",
     "text": [
      "['Emeka', 'Shukurah', 'Adeola']\n"
     ]
    }
   ],
   "source": [
    "print(list_classNames)"
   ]
  },
  {
   "cell_type": "code",
   "execution_count": 174,
   "id": "8b804fc0-af23-4349-ae67-f208a9e9c3d4",
   "metadata": {},
   "outputs": [],
   "source": [
    "# Remove items - remove value\n",
    "list_classNames.remove('Shukurah')"
   ]
  },
  {
   "cell_type": "code",
   "execution_count": 176,
   "id": "503c852b-b906-4d34-a1b1-e30bb6f3d662",
   "metadata": {},
   "outputs": [
    {
     "name": "stdout",
     "output_type": "stream",
     "text": [
      "['Emeka', 'Adeola']\n"
     ]
    }
   ],
   "source": [
    "print(list_classNames)"
   ]
  },
  {
   "cell_type": "code",
   "execution_count": 178,
   "id": "373389b7-f58c-42b0-bb57-5b03425c6272",
   "metadata": {},
   "outputs": [
    {
     "ename": "IndexError",
     "evalue": "list index out of range",
     "output_type": "error",
     "traceback": [
      "\u001b[0;31m---------------------------------------------------------------------------\u001b[0m",
      "\u001b[0;31mIndexError\u001b[0m                                Traceback (most recent call last)",
      "Cell \u001b[0;32mIn[178], line 2\u001b[0m\n\u001b[1;32m      1\u001b[0m \u001b[38;5;66;03m# Popular error\u001b[39;00m\n\u001b[0;32m----> 2\u001b[0m \u001b[38;5;28mprint\u001b[39m(list_classNames[\u001b[38;5;241m2\u001b[39m])\n",
      "\u001b[0;31mIndexError\u001b[0m: list index out of range"
     ]
    }
   ],
   "source": [
    "# Popular error\n",
    "print(list_classNames[2])"
   ]
  },
  {
   "cell_type": "markdown",
   "id": "9ffcac86-0584-4eef-9d9d-01a600268ed6",
   "metadata": {},
   "source": [
    "### Recreate a dataframe"
   ]
  },
  {
   "cell_type": "code",
   "execution_count": 181,
   "id": "9a225502-9f33-4945-9894-cc7d6af7a451",
   "metadata": {},
   "outputs": [],
   "source": [
    "# import a package \n",
    "import pandas as pd "
   ]
  },
  {
   "cell_type": "code",
   "execution_count": 183,
   "id": "0ab1ea42-ab17-48fc-8d42-9d2a5c3844f3",
   "metadata": {},
   "outputs": [],
   "source": [
    "bank_data = pd.read_csv('bank-full.csv', sep = ';') # Reading the data into a dataframe"
   ]
  },
  {
   "cell_type": "code",
   "execution_count": 185,
   "id": "78214b38-a58e-4da7-9a70-4d0c0966a83c",
   "metadata": {},
   "outputs": [
    {
     "data": {
      "text/html": [
       "<div>\n",
       "<style scoped>\n",
       "    .dataframe tbody tr th:only-of-type {\n",
       "        vertical-align: middle;\n",
       "    }\n",
       "\n",
       "    .dataframe tbody tr th {\n",
       "        vertical-align: top;\n",
       "    }\n",
       "\n",
       "    .dataframe thead th {\n",
       "        text-align: right;\n",
       "    }\n",
       "</style>\n",
       "<table border=\"1\" class=\"dataframe\">\n",
       "  <thead>\n",
       "    <tr style=\"text-align: right;\">\n",
       "      <th></th>\n",
       "      <th>age</th>\n",
       "      <th>job</th>\n",
       "      <th>marital</th>\n",
       "      <th>education</th>\n",
       "      <th>default</th>\n",
       "      <th>balance</th>\n",
       "      <th>housing</th>\n",
       "      <th>loan</th>\n",
       "      <th>contact</th>\n",
       "      <th>day</th>\n",
       "      <th>month</th>\n",
       "      <th>duration</th>\n",
       "      <th>campaign</th>\n",
       "      <th>pdays</th>\n",
       "      <th>previous</th>\n",
       "      <th>poutcome</th>\n",
       "      <th>y</th>\n",
       "    </tr>\n",
       "  </thead>\n",
       "  <tbody>\n",
       "    <tr>\n",
       "      <th>0</th>\n",
       "      <td>58</td>\n",
       "      <td>management</td>\n",
       "      <td>married</td>\n",
       "      <td>tertiary</td>\n",
       "      <td>no</td>\n",
       "      <td>2143</td>\n",
       "      <td>yes</td>\n",
       "      <td>no</td>\n",
       "      <td>unknown</td>\n",
       "      <td>5</td>\n",
       "      <td>may</td>\n",
       "      <td>261</td>\n",
       "      <td>1</td>\n",
       "      <td>-1</td>\n",
       "      <td>0</td>\n",
       "      <td>unknown</td>\n",
       "      <td>no</td>\n",
       "    </tr>\n",
       "    <tr>\n",
       "      <th>1</th>\n",
       "      <td>44</td>\n",
       "      <td>technician</td>\n",
       "      <td>single</td>\n",
       "      <td>secondary</td>\n",
       "      <td>no</td>\n",
       "      <td>29</td>\n",
       "      <td>yes</td>\n",
       "      <td>no</td>\n",
       "      <td>unknown</td>\n",
       "      <td>5</td>\n",
       "      <td>may</td>\n",
       "      <td>151</td>\n",
       "      <td>1</td>\n",
       "      <td>-1</td>\n",
       "      <td>0</td>\n",
       "      <td>unknown</td>\n",
       "      <td>no</td>\n",
       "    </tr>\n",
       "    <tr>\n",
       "      <th>2</th>\n",
       "      <td>33</td>\n",
       "      <td>entrepreneur</td>\n",
       "      <td>married</td>\n",
       "      <td>secondary</td>\n",
       "      <td>no</td>\n",
       "      <td>2</td>\n",
       "      <td>yes</td>\n",
       "      <td>yes</td>\n",
       "      <td>unknown</td>\n",
       "      <td>5</td>\n",
       "      <td>may</td>\n",
       "      <td>76</td>\n",
       "      <td>1</td>\n",
       "      <td>-1</td>\n",
       "      <td>0</td>\n",
       "      <td>unknown</td>\n",
       "      <td>no</td>\n",
       "    </tr>\n",
       "    <tr>\n",
       "      <th>3</th>\n",
       "      <td>47</td>\n",
       "      <td>blue-collar</td>\n",
       "      <td>married</td>\n",
       "      <td>unknown</td>\n",
       "      <td>no</td>\n",
       "      <td>1506</td>\n",
       "      <td>yes</td>\n",
       "      <td>no</td>\n",
       "      <td>unknown</td>\n",
       "      <td>5</td>\n",
       "      <td>may</td>\n",
       "      <td>92</td>\n",
       "      <td>1</td>\n",
       "      <td>-1</td>\n",
       "      <td>0</td>\n",
       "      <td>unknown</td>\n",
       "      <td>no</td>\n",
       "    </tr>\n",
       "    <tr>\n",
       "      <th>4</th>\n",
       "      <td>33</td>\n",
       "      <td>unknown</td>\n",
       "      <td>single</td>\n",
       "      <td>unknown</td>\n",
       "      <td>no</td>\n",
       "      <td>1</td>\n",
       "      <td>no</td>\n",
       "      <td>no</td>\n",
       "      <td>unknown</td>\n",
       "      <td>5</td>\n",
       "      <td>may</td>\n",
       "      <td>198</td>\n",
       "      <td>1</td>\n",
       "      <td>-1</td>\n",
       "      <td>0</td>\n",
       "      <td>unknown</td>\n",
       "      <td>no</td>\n",
       "    </tr>\n",
       "  </tbody>\n",
       "</table>\n",
       "</div>"
      ],
      "text/plain": [
       "   age           job  marital  education default  balance housing loan  \\\n",
       "0   58    management  married   tertiary      no     2143     yes   no   \n",
       "1   44    technician   single  secondary      no       29     yes   no   \n",
       "2   33  entrepreneur  married  secondary      no        2     yes  yes   \n",
       "3   47   blue-collar  married    unknown      no     1506     yes   no   \n",
       "4   33       unknown   single    unknown      no        1      no   no   \n",
       "\n",
       "   contact  day month  duration  campaign  pdays  previous poutcome   y  \n",
       "0  unknown    5   may       261         1     -1         0  unknown  no  \n",
       "1  unknown    5   may       151         1     -1         0  unknown  no  \n",
       "2  unknown    5   may        76         1     -1         0  unknown  no  \n",
       "3  unknown    5   may        92         1     -1         0  unknown  no  \n",
       "4  unknown    5   may       198         1     -1         0  unknown  no  "
      ]
     },
     "execution_count": 185,
     "metadata": {},
     "output_type": "execute_result"
    }
   ],
   "source": [
    "bank_data.head() # firrst 5 rows"
   ]
  },
  {
   "cell_type": "code",
   "execution_count": 187,
   "id": "c7826194-94f9-4eb6-9183-db47689af72b",
   "metadata": {},
   "outputs": [
    {
     "data": {
      "text/html": [
       "<div>\n",
       "<style scoped>\n",
       "    .dataframe tbody tr th:only-of-type {\n",
       "        vertical-align: middle;\n",
       "    }\n",
       "\n",
       "    .dataframe tbody tr th {\n",
       "        vertical-align: top;\n",
       "    }\n",
       "\n",
       "    .dataframe thead th {\n",
       "        text-align: right;\n",
       "    }\n",
       "</style>\n",
       "<table border=\"1\" class=\"dataframe\">\n",
       "  <thead>\n",
       "    <tr style=\"text-align: right;\">\n",
       "      <th></th>\n",
       "      <th>age</th>\n",
       "      <th>job</th>\n",
       "      <th>marital</th>\n",
       "      <th>education</th>\n",
       "      <th>default</th>\n",
       "      <th>balance</th>\n",
       "      <th>housing</th>\n",
       "      <th>loan</th>\n",
       "      <th>contact</th>\n",
       "      <th>day</th>\n",
       "      <th>month</th>\n",
       "      <th>duration</th>\n",
       "      <th>campaign</th>\n",
       "      <th>pdays</th>\n",
       "      <th>previous</th>\n",
       "      <th>poutcome</th>\n",
       "      <th>y</th>\n",
       "    </tr>\n",
       "  </thead>\n",
       "  <tbody>\n",
       "    <tr>\n",
       "      <th>0</th>\n",
       "      <td>58</td>\n",
       "      <td>management</td>\n",
       "      <td>married</td>\n",
       "      <td>tertiary</td>\n",
       "      <td>no</td>\n",
       "      <td>2143</td>\n",
       "      <td>yes</td>\n",
       "      <td>no</td>\n",
       "      <td>unknown</td>\n",
       "      <td>5</td>\n",
       "      <td>may</td>\n",
       "      <td>261</td>\n",
       "      <td>1</td>\n",
       "      <td>-1</td>\n",
       "      <td>0</td>\n",
       "      <td>unknown</td>\n",
       "      <td>no</td>\n",
       "    </tr>\n",
       "    <tr>\n",
       "      <th>1</th>\n",
       "      <td>44</td>\n",
       "      <td>technician</td>\n",
       "      <td>single</td>\n",
       "      <td>secondary</td>\n",
       "      <td>no</td>\n",
       "      <td>29</td>\n",
       "      <td>yes</td>\n",
       "      <td>no</td>\n",
       "      <td>unknown</td>\n",
       "      <td>5</td>\n",
       "      <td>may</td>\n",
       "      <td>151</td>\n",
       "      <td>1</td>\n",
       "      <td>-1</td>\n",
       "      <td>0</td>\n",
       "      <td>unknown</td>\n",
       "      <td>no</td>\n",
       "    </tr>\n",
       "    <tr>\n",
       "      <th>2</th>\n",
       "      <td>33</td>\n",
       "      <td>entrepreneur</td>\n",
       "      <td>married</td>\n",
       "      <td>secondary</td>\n",
       "      <td>no</td>\n",
       "      <td>2</td>\n",
       "      <td>yes</td>\n",
       "      <td>yes</td>\n",
       "      <td>unknown</td>\n",
       "      <td>5</td>\n",
       "      <td>may</td>\n",
       "      <td>76</td>\n",
       "      <td>1</td>\n",
       "      <td>-1</td>\n",
       "      <td>0</td>\n",
       "      <td>unknown</td>\n",
       "      <td>no</td>\n",
       "    </tr>\n",
       "    <tr>\n",
       "      <th>3</th>\n",
       "      <td>47</td>\n",
       "      <td>blue-collar</td>\n",
       "      <td>married</td>\n",
       "      <td>unknown</td>\n",
       "      <td>no</td>\n",
       "      <td>1506</td>\n",
       "      <td>yes</td>\n",
       "      <td>no</td>\n",
       "      <td>unknown</td>\n",
       "      <td>5</td>\n",
       "      <td>may</td>\n",
       "      <td>92</td>\n",
       "      <td>1</td>\n",
       "      <td>-1</td>\n",
       "      <td>0</td>\n",
       "      <td>unknown</td>\n",
       "      <td>no</td>\n",
       "    </tr>\n",
       "    <tr>\n",
       "      <th>4</th>\n",
       "      <td>33</td>\n",
       "      <td>unknown</td>\n",
       "      <td>single</td>\n",
       "      <td>unknown</td>\n",
       "      <td>no</td>\n",
       "      <td>1</td>\n",
       "      <td>no</td>\n",
       "      <td>no</td>\n",
       "      <td>unknown</td>\n",
       "      <td>5</td>\n",
       "      <td>may</td>\n",
       "      <td>198</td>\n",
       "      <td>1</td>\n",
       "      <td>-1</td>\n",
       "      <td>0</td>\n",
       "      <td>unknown</td>\n",
       "      <td>no</td>\n",
       "    </tr>\n",
       "    <tr>\n",
       "      <th>...</th>\n",
       "      <td>...</td>\n",
       "      <td>...</td>\n",
       "      <td>...</td>\n",
       "      <td>...</td>\n",
       "      <td>...</td>\n",
       "      <td>...</td>\n",
       "      <td>...</td>\n",
       "      <td>...</td>\n",
       "      <td>...</td>\n",
       "      <td>...</td>\n",
       "      <td>...</td>\n",
       "      <td>...</td>\n",
       "      <td>...</td>\n",
       "      <td>...</td>\n",
       "      <td>...</td>\n",
       "      <td>...</td>\n",
       "      <td>...</td>\n",
       "    </tr>\n",
       "    <tr>\n",
       "      <th>45206</th>\n",
       "      <td>51</td>\n",
       "      <td>technician</td>\n",
       "      <td>married</td>\n",
       "      <td>tertiary</td>\n",
       "      <td>no</td>\n",
       "      <td>825</td>\n",
       "      <td>no</td>\n",
       "      <td>no</td>\n",
       "      <td>cellular</td>\n",
       "      <td>17</td>\n",
       "      <td>nov</td>\n",
       "      <td>977</td>\n",
       "      <td>3</td>\n",
       "      <td>-1</td>\n",
       "      <td>0</td>\n",
       "      <td>unknown</td>\n",
       "      <td>yes</td>\n",
       "    </tr>\n",
       "    <tr>\n",
       "      <th>45207</th>\n",
       "      <td>71</td>\n",
       "      <td>retired</td>\n",
       "      <td>divorced</td>\n",
       "      <td>primary</td>\n",
       "      <td>no</td>\n",
       "      <td>1729</td>\n",
       "      <td>no</td>\n",
       "      <td>no</td>\n",
       "      <td>cellular</td>\n",
       "      <td>17</td>\n",
       "      <td>nov</td>\n",
       "      <td>456</td>\n",
       "      <td>2</td>\n",
       "      <td>-1</td>\n",
       "      <td>0</td>\n",
       "      <td>unknown</td>\n",
       "      <td>yes</td>\n",
       "    </tr>\n",
       "    <tr>\n",
       "      <th>45208</th>\n",
       "      <td>72</td>\n",
       "      <td>retired</td>\n",
       "      <td>married</td>\n",
       "      <td>secondary</td>\n",
       "      <td>no</td>\n",
       "      <td>5715</td>\n",
       "      <td>no</td>\n",
       "      <td>no</td>\n",
       "      <td>cellular</td>\n",
       "      <td>17</td>\n",
       "      <td>nov</td>\n",
       "      <td>1127</td>\n",
       "      <td>5</td>\n",
       "      <td>184</td>\n",
       "      <td>3</td>\n",
       "      <td>success</td>\n",
       "      <td>yes</td>\n",
       "    </tr>\n",
       "    <tr>\n",
       "      <th>45209</th>\n",
       "      <td>57</td>\n",
       "      <td>blue-collar</td>\n",
       "      <td>married</td>\n",
       "      <td>secondary</td>\n",
       "      <td>no</td>\n",
       "      <td>668</td>\n",
       "      <td>no</td>\n",
       "      <td>no</td>\n",
       "      <td>telephone</td>\n",
       "      <td>17</td>\n",
       "      <td>nov</td>\n",
       "      <td>508</td>\n",
       "      <td>4</td>\n",
       "      <td>-1</td>\n",
       "      <td>0</td>\n",
       "      <td>unknown</td>\n",
       "      <td>no</td>\n",
       "    </tr>\n",
       "    <tr>\n",
       "      <th>45210</th>\n",
       "      <td>37</td>\n",
       "      <td>entrepreneur</td>\n",
       "      <td>married</td>\n",
       "      <td>secondary</td>\n",
       "      <td>no</td>\n",
       "      <td>2971</td>\n",
       "      <td>no</td>\n",
       "      <td>no</td>\n",
       "      <td>cellular</td>\n",
       "      <td>17</td>\n",
       "      <td>nov</td>\n",
       "      <td>361</td>\n",
       "      <td>2</td>\n",
       "      <td>188</td>\n",
       "      <td>11</td>\n",
       "      <td>other</td>\n",
       "      <td>no</td>\n",
       "    </tr>\n",
       "  </tbody>\n",
       "</table>\n",
       "<p>45211 rows × 17 columns</p>\n",
       "</div>"
      ],
      "text/plain": [
       "       age           job   marital  education default  balance housing loan  \\\n",
       "0       58    management   married   tertiary      no     2143     yes   no   \n",
       "1       44    technician    single  secondary      no       29     yes   no   \n",
       "2       33  entrepreneur   married  secondary      no        2     yes  yes   \n",
       "3       47   blue-collar   married    unknown      no     1506     yes   no   \n",
       "4       33       unknown    single    unknown      no        1      no   no   \n",
       "...    ...           ...       ...        ...     ...      ...     ...  ...   \n",
       "45206   51    technician   married   tertiary      no      825      no   no   \n",
       "45207   71       retired  divorced    primary      no     1729      no   no   \n",
       "45208   72       retired   married  secondary      no     5715      no   no   \n",
       "45209   57   blue-collar   married  secondary      no      668      no   no   \n",
       "45210   37  entrepreneur   married  secondary      no     2971      no   no   \n",
       "\n",
       "         contact  day month  duration  campaign  pdays  previous poutcome    y  \n",
       "0        unknown    5   may       261         1     -1         0  unknown   no  \n",
       "1        unknown    5   may       151         1     -1         0  unknown   no  \n",
       "2        unknown    5   may        76         1     -1         0  unknown   no  \n",
       "3        unknown    5   may        92         1     -1         0  unknown   no  \n",
       "4        unknown    5   may       198         1     -1         0  unknown   no  \n",
       "...          ...  ...   ...       ...       ...    ...       ...      ...  ...  \n",
       "45206   cellular   17   nov       977         3     -1         0  unknown  yes  \n",
       "45207   cellular   17   nov       456         2     -1         0  unknown  yes  \n",
       "45208   cellular   17   nov      1127         5    184         3  success  yes  \n",
       "45209  telephone   17   nov       508         4     -1         0  unknown   no  \n",
       "45210   cellular   17   nov       361         2    188        11    other   no  \n",
       "\n",
       "[45211 rows x 17 columns]"
      ]
     },
     "execution_count": 187,
     "metadata": {},
     "output_type": "execute_result"
    }
   ],
   "source": [
    "bank_data"
   ]
  },
  {
   "cell_type": "markdown",
   "id": "8ab10c86-a597-4eeb-8cce-3b2bdf5843da",
   "metadata": {},
   "source": [
    "### Creating a list from a dataframe"
   ]
  },
  {
   "cell_type": "code",
   "execution_count": 190,
   "id": "f44519f6-bd49-45ba-9848-5b9cf4e7fbed",
   "metadata": {},
   "outputs": [],
   "source": [
    "list_bankJob = list(bank_data['job'].unique())"
   ]
  },
  {
   "cell_type": "code",
   "execution_count": 192,
   "id": "5e0ba8b7-5c34-4056-8e40-ef30d8b579a9",
   "metadata": {},
   "outputs": [
    {
     "name": "stdout",
     "output_type": "stream",
     "text": [
      "['management', 'technician', 'entrepreneur', 'blue-collar', 'unknown', 'retired', 'admin.', 'services', 'self-employed', 'unemployed', 'housemaid', 'student']\n"
     ]
    }
   ],
   "source": [
    "print(list_bankJob)"
   ]
  },
  {
   "cell_type": "code",
   "execution_count": 194,
   "id": "90240887-b654-46ba-a941-3622e9b25e47",
   "metadata": {},
   "outputs": [
    {
     "data": {
      "text/plain": [
       "'unknown'"
      ]
     },
     "execution_count": 194,
     "metadata": {},
     "output_type": "execute_result"
    }
   ],
   "source": [
    "list_bankJob[4]"
   ]
  },
  {
   "cell_type": "code",
   "execution_count": 196,
   "id": "9ef84cc7-b76e-4b25-9067-82664ee19163",
   "metadata": {},
   "outputs": [
    {
     "data": {
      "text/plain": [
       "['management',\n",
       " 'technician',\n",
       " 'entrepreneur',\n",
       " 'blue-collar',\n",
       " 'unknown',\n",
       " 'retired',\n",
       " 'admin.',\n",
       " 'services',\n",
       " 'self-employed',\n",
       " 'unemployed',\n",
       " 'housemaid',\n",
       " 'student']"
      ]
     },
     "execution_count": 196,
     "metadata": {},
     "output_type": "execute_result"
    }
   ],
   "source": [
    "# Print this list\n",
    "list_bankJob"
   ]
  },
  {
   "cell_type": "markdown",
   "id": "8d07e1e6-6f6f-41ff-b894-6ef6dc9d6e71",
   "metadata": {},
   "source": [
    "### Introduction to for Loops with Lists"
   ]
  },
  {
   "cell_type": "code",
   "execution_count": 199,
   "id": "5a173ce1-0576-4be7-9a81-5d14404bf7d8",
   "metadata": {},
   "outputs": [],
   "source": [
    "# Looping let's you perform an action on each element in a list"
   ]
  },
  {
   "cell_type": "code",
   "execution_count": 201,
   "id": "7ffc5003-ad05-4840-b162-fba14d55ec59",
   "metadata": {},
   "outputs": [],
   "source": [
    "# Creating a for loop:\n",
    "# 1. for keyword\n",
    "# 2. Iterator variable - temporary \n",
    "# 3. In keyword - operator\n",
    "# 4. the list\n",
    "# 5. colon - leads to an indentation \n",
    "# 6. Block of codes"
   ]
  },
  {
   "cell_type": "code",
   "execution_count": 203,
   "id": "c968c369-6975-4f57-9a73-5d7ec34835f2",
   "metadata": {},
   "outputs": [
    {
     "name": "stdout",
     "output_type": "stream",
     "text": [
      "MANAGEMENT\n",
      "TECHNICIAN\n",
      "ENTREPRENEUR\n",
      "BLUE-COLLAR\n",
      "UNKNOWN\n",
      "RETIRED\n",
      "ADMIN.\n",
      "SERVICES\n",
      "SELF-EMPLOYED\n",
      "UNEMPLOYED\n",
      "HOUSEMAID\n",
      "STUDENT\n"
     ]
    }
   ],
   "source": [
    "for jobs in list_bankJob:\n",
    "    print(jobs.upper())"
   ]
  },
  {
   "cell_type": "markdown",
   "id": "828565b5-522e-4215-a461-c8dc1ad6c688",
   "metadata": {},
   "source": [
    "### Avoid Indentation Errors"
   ]
  },
  {
   "cell_type": "code",
   "execution_count": 206,
   "id": "9403708e-3b15-4dbe-92fb-5830ca87e036",
   "metadata": {},
   "outputs": [
    {
     "name": "stdout",
     "output_type": "stream",
     "text": [
      "MANAGEMENT\n",
      "TECHNICIAN\n",
      "ENTREPRENEUR\n",
      "BLUE-COLLAR\n",
      "UNKNOWN\n",
      "RETIRED\n",
      "ADMIN.\n",
      "SERVICES\n",
      "SELF-EMPLOYED\n",
      "UNEMPLOYED\n",
      "HOUSEMAID\n",
      "STUDENT\n"
     ]
    }
   ],
   "source": [
    "for jobs in list_bankJob:\n",
    "    print(jobs.upper())"
   ]
  },
  {
   "cell_type": "code",
   "execution_count": 208,
   "id": "83e84c38-5daf-467d-8d68-694957f8bc95",
   "metadata": {},
   "outputs": [
    {
     "ename": "NameError",
     "evalue": "name 'fruits' is not defined",
     "output_type": "error",
     "traceback": [
      "\u001b[0;31m---------------------------------------------------------------------------\u001b[0m",
      "\u001b[0;31mNameError\u001b[0m                                 Traceback (most recent call last)",
      "Cell \u001b[0;32mIn[208], line 1\u001b[0m\n\u001b[0;32m----> 1\u001b[0m \u001b[38;5;28;01mfor\u001b[39;00m fruit \u001b[38;5;129;01min\u001b[39;00m fruits:\n\u001b[1;32m      2\u001b[0m     \u001b[38;5;28mprint\u001b[39m(\u001b[38;5;124mf\u001b[39m\u001b[38;5;124m\"\u001b[39m\u001b[38;5;124mI like \u001b[39m\u001b[38;5;132;01m{\u001b[39;00mfruit\u001b[38;5;132;01m}\u001b[39;00m\u001b[38;5;124m\"\u001b[39m)\n",
      "\u001b[0;31mNameError\u001b[0m: name 'fruits' is not defined"
     ]
    }
   ],
   "source": [
    "for fruit in fruits:\n",
    "    print(f\"I like {fruit}\")"
   ]
  },
  {
   "cell_type": "code",
   "execution_count": 210,
   "id": "96236407-be45-42bf-9021-cd0433c9de68",
   "metadata": {},
   "outputs": [],
   "source": [
    "fruits = ['apple', 'banana', 'cherry', 'durian', 'peach']"
   ]
  },
  {
   "cell_type": "markdown",
   "id": "7234fcec-49f8-4ce9-806c-682bfdaa24ae",
   "metadata": {},
   "source": [
    "### Indenting Unnecessarily "
   ]
  },
  {
   "cell_type": "code",
   "execution_count": 213,
   "id": "0fc86e82-9392-4c59-8cea-8cb762494519",
   "metadata": {},
   "outputs": [
    {
     "name": "stdout",
     "output_type": "stream",
     "text": [
      "I like apple\n",
      "I like banana\n",
      "I like cherry\n",
      "I like durian\n",
      "I like peach\n",
      "I love fruits\n"
     ]
    }
   ],
   "source": [
    "for fruit in fruits:\n",
    "    print(f\"I like {fruit}\")\n",
    "print(\"I love fruits\")"
   ]
  },
  {
   "cell_type": "code",
   "execution_count": 215,
   "id": "13e2e0d5-8ab6-4c2a-a079-fde7f4af9d82",
   "metadata": {},
   "outputs": [
    {
     "name": "stdout",
     "output_type": "stream",
     "text": [
      "I like apple\n",
      "I love fruits\n",
      "I like banana\n",
      "I love fruits\n",
      "I like cherry\n",
      "I love fruits\n",
      "I like durian\n",
      "I love fruits\n",
      "I like peach\n",
      "I love fruits\n"
     ]
    }
   ],
   "source": [
    "# Indenting unnecessarily \n",
    "for fruit in fruits:\n",
    "    print(f\"I like {fruit}\")\n",
    "    print(\"I love fruits\")"
   ]
  },
  {
   "cell_type": "code",
   "execution_count": 217,
   "id": "a1d7b01e-3e23-428f-a296-907afd41a738",
   "metadata": {},
   "outputs": [],
   "source": [
    "# String formatting \n",
    "name = \"Pablo\" \n",
    "age = 21"
   ]
  },
  {
   "cell_type": "code",
   "execution_count": 219,
   "id": "9e64b41f-c621-47eb-a06e-0ca5228a8d51",
   "metadata": {},
   "outputs": [
    {
     "name": "stdout",
     "output_type": "stream",
     "text": [
      "My name is Pablo & my age is 21\n"
     ]
    }
   ],
   "source": [
    "print(f\"My name is {name} & my age is {age}\") # f string (string formatting)"
   ]
  },
  {
   "cell_type": "code",
   "execution_count": 221,
   "id": "29f6c49f-cf6e-451e-ad68-21b3d01b5914",
   "metadata": {},
   "outputs": [
    {
     "name": "stdout",
     "output_type": "stream",
     "text": [
      "My name is Pablo\n"
     ]
    }
   ],
   "source": [
    "# Old string formatter\n",
    "print('My name is %s' % name)"
   ]
  },
  {
   "cell_type": "markdown",
   "id": "88ae4427-0a38-40ba-9ff0-bbc740329240",
   "metadata": {},
   "source": [
    "### List Comprehension "
   ]
  },
  {
   "cell_type": "code",
   "execution_count": 224,
   "id": "1be1dfb3-b136-4fff-a735-76d5e9dac3e9",
   "metadata": {},
   "outputs": [],
   "source": [
    "list_squares = [] # an empty list\n",
    "for value in range(1,11):\n",
    "    square = value ** 2\n",
    "    list_squares.append(square)\n"
   ]
  },
  {
   "cell_type": "code",
   "execution_count": 226,
   "id": "1626aaf5-fafa-4565-bed0-2ff8ec8d1229",
   "metadata": {},
   "outputs": [
    {
     "name": "stdout",
     "output_type": "stream",
     "text": [
      "[1, 4, 9, 16, 25, 36, 49, 64, 81, 100]\n"
     ]
    }
   ],
   "source": [
    "print(list_squares)"
   ]
  },
  {
   "cell_type": "code",
   "execution_count": 228,
   "id": "a2549c41-6da1-4f34-a037-fb43f2dac239",
   "metadata": {},
   "outputs": [],
   "source": [
    "# Achieve this with list comprehension\n",
    "list_cubed = [value ** 3 for value in range(1,11)]"
   ]
  },
  {
   "cell_type": "code",
   "execution_count": 230,
   "id": "6d927786-6fd6-4ba4-bb70-fe6cfc40fea1",
   "metadata": {},
   "outputs": [
    {
     "data": {
      "text/plain": [
       "[1, 8, 27, 64, 125, 216, 343, 512, 729, 1000]"
      ]
     },
     "execution_count": 230,
     "metadata": {},
     "output_type": "execute_result"
    }
   ],
   "source": [
    "list_cubed"
   ]
  },
  {
   "cell_type": "code",
   "execution_count": 232,
   "id": "e2832a06-c1fc-4d28-800b-533b48148228",
   "metadata": {},
   "outputs": [],
   "source": [
    "# List comprehension with strings\n",
    "sentence = \"hello world\"\n",
    "words = [word.upper() for word in sentence.split()]"
   ]
  },
  {
   "cell_type": "code",
   "execution_count": 234,
   "id": "3df3b0cc-d845-40ce-b73d-af83935ed73f",
   "metadata": {},
   "outputs": [
    {
     "name": "stdout",
     "output_type": "stream",
     "text": [
      "['HELLO', 'WORLD']\n"
     ]
    }
   ],
   "source": [
    "print(words)"
   ]
  },
  {
   "cell_type": "markdown",
   "id": "829e2851-4007-4eab-8ff6-1b23d6f40bc1",
   "metadata": {},
   "source": [
    "### List Slicing"
   ]
  },
  {
   "cell_type": "code",
   "execution_count": 237,
   "id": "b6cc0a77-708a-415b-a170-23af757c6e49",
   "metadata": {},
   "outputs": [],
   "source": [
    "# A list is indexed \n",
    "# In python, indexing starts from 0"
   ]
  },
  {
   "cell_type": "code",
   "execution_count": 239,
   "id": "050788c3-5495-416f-ab01-5203380c5363",
   "metadata": {},
   "outputs": [
    {
     "data": {
      "text/plain": [
       "12"
      ]
     },
     "execution_count": 239,
     "metadata": {},
     "output_type": "execute_result"
    }
   ],
   "source": [
    "len(list_bankJob)"
   ]
  },
  {
   "cell_type": "code",
   "execution_count": 241,
   "id": "f748f4bf-b8e0-4cd7-ae23-1436ee35b5d1",
   "metadata": {},
   "outputs": [
    {
     "data": {
      "text/plain": [
       "['management',\n",
       " 'technician',\n",
       " 'entrepreneur',\n",
       " 'blue-collar',\n",
       " 'unknown',\n",
       " 'retired',\n",
       " 'admin.',\n",
       " 'services',\n",
       " 'self-employed',\n",
       " 'unemployed',\n",
       " 'housemaid',\n",
       " 'student']"
      ]
     },
     "execution_count": 241,
     "metadata": {},
     "output_type": "execute_result"
    }
   ],
   "source": [
    "list_bankJob"
   ]
  },
  {
   "cell_type": "code",
   "execution_count": 243,
   "id": "2e67d643-67ce-4049-8585-80d25c5cadde",
   "metadata": {},
   "outputs": [
    {
     "name": "stdout",
     "output_type": "stream",
     "text": [
      "['management', 'technician', 'entrepreneur', 'blue-collar']\n"
     ]
    }
   ],
   "source": [
    "print(list_bankJob[0:4]) # Slicing"
   ]
  },
  {
   "cell_type": "code",
   "execution_count": 245,
   "id": "be16cc55-0bf8-4117-bb02-42ff2b2656c6",
   "metadata": {},
   "outputs": [],
   "source": [
    "# Here is the poll of the day\n",
    "letters_list = ['a','b','c','d'] "
   ]
  },
  {
   "cell_type": "code",
   "execution_count": 247,
   "id": "a99a3a93-30ab-4f92-9954-b31162227cd4",
   "metadata": {},
   "outputs": [
    {
     "name": "stdout",
     "output_type": "stream",
     "text": [
      "['b', 'c']\n"
     ]
    }
   ],
   "source": [
    "print(letters_list[1:3])"
   ]
  },
  {
   "cell_type": "code",
   "execution_count": 249,
   "id": "88c294ad-2cce-470a-8c09-d15c8c300179",
   "metadata": {},
   "outputs": [
    {
     "data": {
      "text/plain": [
       "['management',\n",
       " 'technician',\n",
       " 'entrepreneur',\n",
       " 'blue-collar',\n",
       " 'unknown',\n",
       " 'retired',\n",
       " 'admin.',\n",
       " 'services',\n",
       " 'self-employed',\n",
       " 'unemployed',\n",
       " 'housemaid',\n",
       " 'student']"
      ]
     },
     "execution_count": 249,
     "metadata": {},
     "output_type": "execute_result"
    }
   ],
   "source": [
    "list_bankJob"
   ]
  },
  {
   "cell_type": "code",
   "execution_count": 251,
   "id": "b1b41766-481c-44ac-b6de-276e89c26475",
   "metadata": {},
   "outputs": [
    {
     "data": {
      "text/plain": [
       "['technician', 'entrepreneur']"
      ]
     },
     "execution_count": 251,
     "metadata": {},
     "output_type": "execute_result"
    }
   ],
   "source": [
    "list_bankJob[1:3]"
   ]
  },
  {
   "cell_type": "code",
   "execution_count": 253,
   "id": "c523dfbb-0d0f-4f8e-b900-50106558d39f",
   "metadata": {},
   "outputs": [
    {
     "data": {
      "text/plain": [
       "['management', 'technician', 'entrepreneur', 'blue-collar']"
      ]
     },
     "execution_count": 253,
     "metadata": {},
     "output_type": "execute_result"
    }
   ],
   "source": [
    "list_bankJob[:4] # omitting the first value for the slice index "
   ]
  },
  {
   "cell_type": "code",
   "execution_count": 255,
   "id": "10a98c8b-9a30-4db5-ba32-9b3fdc114822",
   "metadata": {},
   "outputs": [
    {
     "data": {
      "text/plain": [
       "['entrepreneur',\n",
       " 'blue-collar',\n",
       " 'unknown',\n",
       " 'retired',\n",
       " 'admin.',\n",
       " 'services',\n",
       " 'self-employed',\n",
       " 'unemployed',\n",
       " 'housemaid',\n",
       " 'student']"
      ]
     },
     "execution_count": 255,
     "metadata": {},
     "output_type": "execute_result"
    }
   ],
   "source": [
    "list_bankJob[2:]"
   ]
  },
  {
   "cell_type": "code",
   "execution_count": 257,
   "id": "59dda77a-1ef6-4891-893c-ae2f9a6cab53",
   "metadata": {},
   "outputs": [
    {
     "data": {
      "text/plain": [
       "['entrepreneur', 'blue-collar']"
      ]
     },
     "execution_count": 257,
     "metadata": {},
     "output_type": "execute_result"
    }
   ],
   "source": [
    "list_bankJob[2:4]"
   ]
  },
  {
   "cell_type": "code",
   "execution_count": 259,
   "id": "f65d2394-f1c7-487d-9eef-2e370ced1b9e",
   "metadata": {},
   "outputs": [
    {
     "data": {
      "text/plain": [
       "['unemployed', 'housemaid', 'student']"
      ]
     },
     "execution_count": 259,
     "metadata": {},
     "output_type": "execute_result"
    }
   ],
   "source": [
    "list_bankJob[-3:]"
   ]
  },
  {
   "cell_type": "code",
   "execution_count": 261,
   "id": "5aa8b354-f40b-4c81-adf6-8dc2c945d7e0",
   "metadata": {},
   "outputs": [
    {
     "data": {
      "text/plain": [
       "['management',\n",
       " 'technician',\n",
       " 'entrepreneur',\n",
       " 'blue-collar',\n",
       " 'unknown',\n",
       " 'retired',\n",
       " 'admin.',\n",
       " 'services',\n",
       " 'self-employed',\n",
       " 'unemployed',\n",
       " 'housemaid',\n",
       " 'student']"
      ]
     },
     "execution_count": 261,
     "metadata": {},
     "output_type": "execute_result"
    }
   ],
   "source": [
    "list_bankJob"
   ]
  },
  {
   "cell_type": "code",
   "execution_count": 263,
   "id": "2c3c1559-2b74-48d3-a857-a97d49bb7d3a",
   "metadata": {},
   "outputs": [
    {
     "data": {
      "text/plain": [
       "['management',\n",
       " 'technician',\n",
       " 'entrepreneur',\n",
       " 'blue-collar',\n",
       " 'unknown',\n",
       " 'retired',\n",
       " 'admin.',\n",
       " 'services',\n",
       " 'self-employed']"
      ]
     },
     "execution_count": 263,
     "metadata": {},
     "output_type": "execute_result"
    }
   ],
   "source": [
    "list_bankJob[:-3]"
   ]
  },
  {
   "cell_type": "markdown",
   "id": "c7d8fcc7-baa2-48cf-be9a-38cbc2535df1",
   "metadata": {},
   "source": [
    "### Loop & Slice "
   ]
  },
  {
   "cell_type": "code",
   "execution_count": 266,
   "id": "56aaf278-e414-4db0-8301-1b16d0b75cb6",
   "metadata": {},
   "outputs": [
    {
     "name": "stdout",
     "output_type": "stream",
     "text": [
      "Here are the first three job placements\n",
      "Management\n",
      "Technician\n",
      "Entrepreneur\n"
     ]
    }
   ],
   "source": [
    "print(\"Here are the first three job placements\")\n",
    "for jobs in list_bankJob[:3]:\n",
    "    print(jobs.title())\n",
    "    "
   ]
  },
  {
   "cell_type": "markdown",
   "id": "a60417dd-46d4-4fa2-91d1-2d99a811b284",
   "metadata": {},
   "source": [
    "### Copying a list using slicing"
   ]
  },
  {
   "cell_type": "code",
   "execution_count": 269,
   "id": "48413af6-a971-478b-85a3-3d98c7d8e41f",
   "metadata": {},
   "outputs": [],
   "source": [
    "list_bankJob_copy = list_bankJob[:]"
   ]
  },
  {
   "cell_type": "code",
   "execution_count": 271,
   "id": "2e211c62-1112-4ffa-b8f3-cc8c4434bbce",
   "metadata": {},
   "outputs": [
    {
     "data": {
      "text/plain": [
       "['management',\n",
       " 'technician',\n",
       " 'entrepreneur',\n",
       " 'blue-collar',\n",
       " 'unknown',\n",
       " 'retired',\n",
       " 'admin.',\n",
       " 'services',\n",
       " 'self-employed',\n",
       " 'unemployed',\n",
       " 'housemaid',\n",
       " 'student']"
      ]
     },
     "execution_count": 271,
     "metadata": {},
     "output_type": "execute_result"
    }
   ],
   "source": [
    "list_bankJob_copy"
   ]
  },
  {
   "cell_type": "markdown",
   "id": "9f15435f-a326-411b-95e2-0b1c28a8e6bf",
   "metadata": {},
   "source": [
    "### Data Structures: \n",
    "\n",
    "1. List\n",
    "\n",
    "2. Tuple\n",
    "\n",
    "3. Dictionary \n",
    "\n",
    "4. Set"
   ]
  },
  {
   "cell_type": "markdown",
   "id": "f76e8833-835e-4a32-b681-88e527b566c1",
   "metadata": {},
   "source": [
    "### Tuple "
   ]
  },
  {
   "cell_type": "code",
   "execution_count": 275,
   "id": "d1a641ec-166d-4f97-a558-b8bec22710ac",
   "metadata": {},
   "outputs": [],
   "source": [
    "# With a list, you can change data throughout its lifetime \n",
    "# With a list, you can modify entries\n",
    "# With a tuple, it is immutable \n",
    "# A tuple is created using ()"
   ]
  },
  {
   "cell_type": "code",
   "execution_count": 277,
   "id": "3f32e072-8d97-4635-a9d9-b6ee3257e2f4",
   "metadata": {},
   "outputs": [],
   "source": [
    "tuple_bankJob = tuple(list_bankJob)"
   ]
  },
  {
   "cell_type": "code",
   "execution_count": 279,
   "id": "95e95c57-a618-469b-9ec1-8bed67fb0cd3",
   "metadata": {},
   "outputs": [
    {
     "data": {
      "text/plain": [
       "tuple"
      ]
     },
     "execution_count": 279,
     "metadata": {},
     "output_type": "execute_result"
    }
   ],
   "source": [
    "type(tuple_bankJob)"
   ]
  },
  {
   "cell_type": "code",
   "execution_count": 281,
   "id": "1f71265f-213a-418f-9d40-d71bf5ab1336",
   "metadata": {},
   "outputs": [
    {
     "name": "stdout",
     "output_type": "stream",
     "text": [
      "('management', 'technician', 'entrepreneur', 'blue-collar', 'unknown', 'retired', 'admin.', 'services', 'self-employed', 'unemployed', 'housemaid', 'student')\n"
     ]
    }
   ],
   "source": [
    "print(tuple_bankJob)"
   ]
  },
  {
   "cell_type": "code",
   "execution_count": 283,
   "id": "dae317bc-f2f8-4e4f-a910-b81a5c112f0a",
   "metadata": {},
   "outputs": [
    {
     "data": {
      "text/plain": [
       "('management',\n",
       " 'technician',\n",
       " 'entrepreneur',\n",
       " 'blue-collar',\n",
       " 'unknown',\n",
       " 'retired',\n",
       " 'admin.',\n",
       " 'services',\n",
       " 'self-employed',\n",
       " 'unemployed',\n",
       " 'housemaid',\n",
       " 'student')"
      ]
     },
     "execution_count": 283,
     "metadata": {},
     "output_type": "execute_result"
    }
   ],
   "source": [
    "tuple_bankJob"
   ]
  },
  {
   "cell_type": "markdown",
   "id": "dcaa6379-d18a-4be6-96ab-4739f0ce196e",
   "metadata": {},
   "source": [
    "### Characteristics of Tuples"
   ]
  },
  {
   "cell_type": "code",
   "execution_count": 286,
   "id": "e314c77d-7576-4acf-bbdb-1c02329211c2",
   "metadata": {},
   "outputs": [],
   "source": [
    "# Python tuples are immutable - it cannot change\n",
    "# Tuples are a secure choice for data integrity\n",
    "# Tuples are used where data isn't altered unexpectedly "
   ]
  },
  {
   "cell_type": "markdown",
   "id": "164b260d-f9f3-436d-a94a-8eff097c0663",
   "metadata": {},
   "source": [
    "### Create a Tuple"
   ]
  },
  {
   "cell_type": "code",
   "execution_count": 289,
   "id": "eabec4c9-3567-42bc-a387-bb5218307bf4",
   "metadata": {},
   "outputs": [],
   "source": [
    "dimensions = (200, 50) # Creating a Tuple"
   ]
  },
  {
   "cell_type": "code",
   "execution_count": 291,
   "id": "7c509a67-f312-4422-98a8-c9e6776a3afe",
   "metadata": {},
   "outputs": [
    {
     "data": {
      "text/plain": [
       "tuple"
      ]
     },
     "execution_count": 291,
     "metadata": {},
     "output_type": "execute_result"
    }
   ],
   "source": [
    "type(dimensions) # confirms a data type"
   ]
  },
  {
   "cell_type": "code",
   "execution_count": 293,
   "id": "07f185b5-7819-46a9-902e-1f448f0f794d",
   "metadata": {},
   "outputs": [
    {
     "name": "stdout",
     "output_type": "stream",
     "text": [
      "(200, 50)\n"
     ]
    }
   ],
   "source": [
    "print(dimensions)"
   ]
  },
  {
   "cell_type": "code",
   "execution_count": 295,
   "id": "c33f4681-403a-4309-aef5-9421f88c2299",
   "metadata": {},
   "outputs": [
    {
     "name": "stdout",
     "output_type": "stream",
     "text": [
      "50\n"
     ]
    }
   ],
   "source": [
    "print(dimensions[1])"
   ]
  },
  {
   "cell_type": "code",
   "execution_count": 297,
   "id": "0071f2a4-60e2-4736-91e6-a7ffcd225b7e",
   "metadata": {},
   "outputs": [
    {
     "ename": "TypeError",
     "evalue": "'tuple' object does not support item assignment",
     "output_type": "error",
     "traceback": [
      "\u001b[0;31m---------------------------------------------------------------------------\u001b[0m",
      "\u001b[0;31mTypeError\u001b[0m                                 Traceback (most recent call last)",
      "Cell \u001b[0;32mIn[297], line 2\u001b[0m\n\u001b[1;32m      1\u001b[0m \u001b[38;5;66;03m# What happens if I try to modify a Tuple\u001b[39;00m\n\u001b[0;32m----> 2\u001b[0m dimensions[\u001b[38;5;241m0\u001b[39m] \u001b[38;5;241m=\u001b[39m \u001b[38;5;241m250\u001b[39m\n",
      "\u001b[0;31mTypeError\u001b[0m: 'tuple' object does not support item assignment"
     ]
    }
   ],
   "source": [
    "# What happens if I try to modify a Tuple\n",
    "dimensions[0] = 250 "
   ]
  },
  {
   "cell_type": "code",
   "execution_count": 299,
   "id": "9a370107-cdc1-4b99-b3e4-b9c0345e8b7b",
   "metadata": {},
   "outputs": [
    {
     "name": "stdout",
     "output_type": "stream",
     "text": [
      "(200, 50)\n"
     ]
    }
   ],
   "source": [
    "print(dimensions)"
   ]
  },
  {
   "cell_type": "code",
   "execution_count": 301,
   "id": "16f32d88-4126-414e-bdaa-19e1dccb5a67",
   "metadata": {},
   "outputs": [
    {
     "name": "stdout",
     "output_type": "stream",
     "text": [
      "200\n"
     ]
    }
   ],
   "source": [
    "print(dimensions[0])"
   ]
  },
  {
   "cell_type": "code",
   "execution_count": 303,
   "id": "54bd073f-68cf-4270-80b5-c9fde8d37bac",
   "metadata": {},
   "outputs": [
    {
     "data": {
      "text/plain": [
       "['__add__',\n",
       " '__class__',\n",
       " '__class_getitem__',\n",
       " '__contains__',\n",
       " '__delattr__',\n",
       " '__delitem__',\n",
       " '__dir__',\n",
       " '__doc__',\n",
       " '__eq__',\n",
       " '__format__',\n",
       " '__ge__',\n",
       " '__getattribute__',\n",
       " '__getitem__',\n",
       " '__getstate__',\n",
       " '__gt__',\n",
       " '__hash__',\n",
       " '__iadd__',\n",
       " '__imul__',\n",
       " '__init__',\n",
       " '__init_subclass__',\n",
       " '__iter__',\n",
       " '__le__',\n",
       " '__len__',\n",
       " '__lt__',\n",
       " '__mul__',\n",
       " '__ne__',\n",
       " '__new__',\n",
       " '__reduce__',\n",
       " '__reduce_ex__',\n",
       " '__repr__',\n",
       " '__reversed__',\n",
       " '__rmul__',\n",
       " '__setattr__',\n",
       " '__setitem__',\n",
       " '__sizeof__',\n",
       " '__str__',\n",
       " '__subclasshook__',\n",
       " 'append',\n",
       " 'clear',\n",
       " 'copy',\n",
       " 'count',\n",
       " 'extend',\n",
       " 'index',\n",
       " 'insert',\n",
       " 'pop',\n",
       " 'remove',\n",
       " 'reverse',\n",
       " 'sort']"
      ]
     },
     "execution_count": 303,
     "metadata": {},
     "output_type": "execute_result"
    }
   ],
   "source": [
    "dir(list_bankJob)"
   ]
  },
  {
   "cell_type": "code",
   "execution_count": 305,
   "id": "24b601f5-52d0-4729-a076-53e19cfb8ce1",
   "metadata": {},
   "outputs": [
    {
     "data": {
      "text/plain": [
       "['__add__',\n",
       " '__class__',\n",
       " '__class_getitem__',\n",
       " '__contains__',\n",
       " '__delattr__',\n",
       " '__dir__',\n",
       " '__doc__',\n",
       " '__eq__',\n",
       " '__format__',\n",
       " '__ge__',\n",
       " '__getattribute__',\n",
       " '__getitem__',\n",
       " '__getnewargs__',\n",
       " '__getstate__',\n",
       " '__gt__',\n",
       " '__hash__',\n",
       " '__init__',\n",
       " '__init_subclass__',\n",
       " '__iter__',\n",
       " '__le__',\n",
       " '__len__',\n",
       " '__lt__',\n",
       " '__mul__',\n",
       " '__ne__',\n",
       " '__new__',\n",
       " '__reduce__',\n",
       " '__reduce_ex__',\n",
       " '__repr__',\n",
       " '__rmul__',\n",
       " '__setattr__',\n",
       " '__sizeof__',\n",
       " '__str__',\n",
       " '__subclasshook__',\n",
       " 'count',\n",
       " 'index']"
      ]
     },
     "execution_count": 305,
     "metadata": {},
     "output_type": "execute_result"
    }
   ],
   "source": [
    "dir(dimensions) # Exposes all the functionalities of the data structure "
   ]
  },
  {
   "cell_type": "code",
   "execution_count": 307,
   "id": "b501aa3c-9909-44dc-8e71-9770d9bb67eb",
   "metadata": {},
   "outputs": [
    {
     "data": {
      "text/plain": [
       "1"
      ]
     },
     "execution_count": 307,
     "metadata": {},
     "output_type": "execute_result"
    }
   ],
   "source": [
    "dimensions.index(50)"
   ]
  },
  {
   "cell_type": "code",
   "execution_count": 309,
   "id": "7aeade90-0658-423d-a44b-7d827c94dcc4",
   "metadata": {},
   "outputs": [
    {
     "data": {
      "text/plain": [
       "1"
      ]
     },
     "execution_count": 309,
     "metadata": {},
     "output_type": "execute_result"
    }
   ],
   "source": [
    "dimensions.count(200)"
   ]
  },
  {
   "cell_type": "code",
   "execution_count": 311,
   "id": "a93862a4-e0a9-496c-9ef0-db58e3463cff",
   "metadata": {},
   "outputs": [],
   "source": [
    "# Let me a share a use case"
   ]
  },
  {
   "cell_type": "code",
   "execution_count": 313,
   "id": "2cc80af2-cc96-460b-ae8e-223e81db14f8",
   "metadata": {},
   "outputs": [
    {
     "data": {
      "text/plain": [
       "['management',\n",
       " 'technician',\n",
       " 'entrepreneur',\n",
       " 'blue-collar',\n",
       " 'unknown',\n",
       " 'retired',\n",
       " 'admin.',\n",
       " 'services',\n",
       " 'self-employed',\n",
       " 'unemployed',\n",
       " 'housemaid',\n",
       " 'student']"
      ]
     },
     "execution_count": 313,
     "metadata": {},
     "output_type": "execute_result"
    }
   ],
   "source": [
    "list_bankJob"
   ]
  },
  {
   "cell_type": "code",
   "execution_count": 315,
   "id": "d1478fbb-4415-4355-a8fc-24e300d9b1fe",
   "metadata": {},
   "outputs": [],
   "source": [
    "# Modify the list \n",
    "list_bankJob[0] = \"technology\""
   ]
  },
  {
   "cell_type": "code",
   "execution_count": 317,
   "id": "ed508422-9a14-48ea-8b23-854f657764b2",
   "metadata": {},
   "outputs": [
    {
     "data": {
      "text/plain": [
       "['technology',\n",
       " 'technician',\n",
       " 'entrepreneur',\n",
       " 'blue-collar',\n",
       " 'unknown',\n",
       " 'retired',\n",
       " 'admin.',\n",
       " 'services',\n",
       " 'self-employed',\n",
       " 'unemployed',\n",
       " 'housemaid',\n",
       " 'student']"
      ]
     },
     "execution_count": 317,
     "metadata": {},
     "output_type": "execute_result"
    }
   ],
   "source": [
    "list_bankJob"
   ]
  },
  {
   "cell_type": "code",
   "execution_count": 319,
   "id": "c7523d40-8ee1-45d0-85cc-2dae140da719",
   "metadata": {},
   "outputs": [],
   "source": [
    "# Convert a list to a tuple\n",
    "tuple_bankJob = tuple(list_bankJob)"
   ]
  },
  {
   "cell_type": "code",
   "execution_count": 321,
   "id": "47d16be7-86fa-45c0-8a1f-1fe3be9da718",
   "metadata": {},
   "outputs": [
    {
     "data": {
      "text/plain": [
       "tuple"
      ]
     },
     "execution_count": 321,
     "metadata": {},
     "output_type": "execute_result"
    }
   ],
   "source": [
    "type(tuple_bankJob)"
   ]
  },
  {
   "cell_type": "code",
   "execution_count": 323,
   "id": "16fc6e0f-ce79-4feb-a9a6-b2a44dad2d64",
   "metadata": {},
   "outputs": [
    {
     "data": {
      "text/plain": [
       "('technology',\n",
       " 'technician',\n",
       " 'entrepreneur',\n",
       " 'blue-collar',\n",
       " 'unknown',\n",
       " 'retired',\n",
       " 'admin.',\n",
       " 'services',\n",
       " 'self-employed',\n",
       " 'unemployed',\n",
       " 'housemaid',\n",
       " 'student')"
      ]
     },
     "execution_count": 323,
     "metadata": {},
     "output_type": "execute_result"
    }
   ],
   "source": [
    "tuple_bankJob"
   ]
  },
  {
   "cell_type": "code",
   "execution_count": 325,
   "id": "3a8f293f-d019-43b0-9a25-d645db7f999f",
   "metadata": {},
   "outputs": [
    {
     "ename": "TypeError",
     "evalue": "'tuple' object does not support item assignment",
     "output_type": "error",
     "traceback": [
      "\u001b[0;31m---------------------------------------------------------------------------\u001b[0m",
      "\u001b[0;31mTypeError\u001b[0m                                 Traceback (most recent call last)",
      "Cell \u001b[0;32mIn[325], line 2\u001b[0m\n\u001b[1;32m      1\u001b[0m \u001b[38;5;66;03m# Try to modify a tuple\u001b[39;00m\n\u001b[0;32m----> 2\u001b[0m tuple_bankJob[\u001b[38;5;241m0\u001b[39m] \u001b[38;5;241m=\u001b[39m \u001b[38;5;124m'\u001b[39m\u001b[38;5;124mmanagement\u001b[39m\u001b[38;5;124m'\u001b[39m\n",
      "\u001b[0;31mTypeError\u001b[0m: 'tuple' object does not support item assignment"
     ]
    }
   ],
   "source": [
    "# Try to modify a tuple\n",
    "tuple_bankJob[0] = 'management'"
   ]
  },
  {
   "cell_type": "code",
   "execution_count": 327,
   "id": "25eea754-4246-40bf-a612-1647b89981f3",
   "metadata": {},
   "outputs": [],
   "source": [
    "# List of weather stations and their data\n",
    "weather_data = [\n",
    "    ((\"34.05°N\", \"118.25°W\"), (\"Temperature\", 20, \"Humidity\", 30)),  # Los Angeles\n",
    "    ((\"40.71°N\", \"74.01°W\"), (\"Temperature\", 16, \"Humidity\", 50)),  # New York\n",
    "    ((\"47.61°N\", \"122.33°W\"), (\"Temperature\", 13, \"Humidity\", 65))  # Seattle\n",
    "]\n"
   ]
  },
  {
   "cell_type": "code",
   "execution_count": 329,
   "id": "445b32bd-e323-42f7-b124-1725b705b7a6",
   "metadata": {},
   "outputs": [
    {
     "name": "stdout",
     "output_type": "stream",
     "text": [
      "Station Coordinates and Data:\n",
      "Coordinates: ('34.05°N', '118.25°W'), Data: ('Temperature', 20, 'Humidity', 30)\n",
      "Coordinates: ('40.71°N', '74.01°W'), Data: ('Temperature', 16, 'Humidity', 50)\n",
      "Coordinates: ('47.61°N', '122.33°W'), Data: ('Temperature', 13, 'Humidity', 65)\n"
     ]
    }
   ],
   "source": [
    "print(\"Station Coordinates and Data:\")\n",
    "for station in weather_data:\n",
    "    print(f\"Coordinates: {station[0]}, Data: {station[1]}\")"
   ]
  },
  {
   "cell_type": "code",
   "execution_count": 331,
   "id": "54c109a3-d9e4-4f3d-bb1b-1388a81b9416",
   "metadata": {},
   "outputs": [
    {
     "ename": "TypeError",
     "evalue": "'tuple' object does not support item assignment",
     "output_type": "error",
     "traceback": [
      "\u001b[0;31m---------------------------------------------------------------------------\u001b[0m",
      "\u001b[0;31mTypeError\u001b[0m                                 Traceback (most recent call last)",
      "Cell \u001b[0;32mIn[331], line 1\u001b[0m\n\u001b[0;32m----> 1\u001b[0m weather_data[\u001b[38;5;241m0\u001b[39m][\u001b[38;5;241m0\u001b[39m] \u001b[38;5;241m=\u001b[39m (\u001b[38;5;124m'\u001b[39m\u001b[38;5;124m35.05°N\u001b[39m\u001b[38;5;124m'\u001b[39m, \u001b[38;5;124m'\u001b[39m\u001b[38;5;124m118.25°W\u001b[39m\u001b[38;5;124m'\u001b[39m)\n",
      "\u001b[0;31mTypeError\u001b[0m: 'tuple' object does not support item assignment"
     ]
    }
   ],
   "source": [
    "weather_data[0][0] = ('35.05°N', '118.25°W')"
   ]
  },
  {
   "cell_type": "code",
   "execution_count": 333,
   "id": "ebe08cf3-c5d9-4766-a4c4-480cfbabed8f",
   "metadata": {},
   "outputs": [],
   "source": [
    "list_tuple_bankJob = list(tuple_bankJob)"
   ]
  },
  {
   "cell_type": "code",
   "execution_count": 335,
   "id": "7a58c26a-56b5-49cd-a3f9-5a98b544ab72",
   "metadata": {},
   "outputs": [
    {
     "data": {
      "text/plain": [
       "list"
      ]
     },
     "execution_count": 335,
     "metadata": {},
     "output_type": "execute_result"
    }
   ],
   "source": [
    "type(list_tuple_bankJob)"
   ]
  },
  {
   "cell_type": "markdown",
   "id": "e4312eff-f7dc-4dcc-8dc3-93daaadc7243",
   "metadata": {},
   "source": [
    "### Styling Your Code"
   ]
  },
  {
   "cell_type": "code",
   "execution_count": 338,
   "id": "1dbc219c-5657-4c2d-a2b5-55a1cbb16a18",
   "metadata": {},
   "outputs": [],
   "source": [
    "# Make your code readable \n",
    "# Make your code maintainable \n",
    "# Because of future collaborations \n",
    "# Have consistency \n",
    "# Error Reduction "
   ]
  },
  {
   "cell_type": "markdown",
   "id": "25bc5fd8-373e-4b18-9d7d-2bf5414f0b1e",
   "metadata": {},
   "source": [
    "#### Meaningful names for your variable "
   ]
  },
  {
   "cell_type": "code",
   "execution_count": 341,
   "id": "908d1648-d0fe-4675-b4ad-63638de2d572",
   "metadata": {},
   "outputs": [
    {
     "ename": "FileNotFoundError",
     "evalue": "[Errno 2] No such file or directory: 'data.csv'",
     "output_type": "error",
     "traceback": [
      "\u001b[0;31m---------------------------------------------------------------------------\u001b[0m",
      "\u001b[0;31mFileNotFoundError\u001b[0m                         Traceback (most recent call last)",
      "Cell \u001b[0;32mIn[341], line 2\u001b[0m\n\u001b[1;32m      1\u001b[0m \u001b[38;5;66;03m# Bad example\u001b[39;00m\n\u001b[0;32m----> 2\u001b[0m df1 \u001b[38;5;241m=\u001b[39m pd\u001b[38;5;241m.\u001b[39mread_csv(\u001b[38;5;124m\"\u001b[39m\u001b[38;5;124mdata.csv\u001b[39m\u001b[38;5;124m\"\u001b[39m)\n\u001b[1;32m      3\u001b[0m df2 \u001b[38;5;241m=\u001b[39m df1[df1[\u001b[38;5;124m\"\u001b[39m\u001b[38;5;124msales\u001b[39m\u001b[38;5;124m\"\u001b[39m] \u001b[38;5;241m>\u001b[39m \u001b[38;5;241m500\u001b[39m]\n\u001b[1;32m      5\u001b[0m \u001b[38;5;66;03m# Good example\u001b[39;00m\n",
      "File \u001b[0;32m/opt/anaconda3/lib/python3.12/site-packages/pandas/io/parsers/readers.py:1026\u001b[0m, in \u001b[0;36mread_csv\u001b[0;34m(filepath_or_buffer, sep, delimiter, header, names, index_col, usecols, dtype, engine, converters, true_values, false_values, skipinitialspace, skiprows, skipfooter, nrows, na_values, keep_default_na, na_filter, verbose, skip_blank_lines, parse_dates, infer_datetime_format, keep_date_col, date_parser, date_format, dayfirst, cache_dates, iterator, chunksize, compression, thousands, decimal, lineterminator, quotechar, quoting, doublequote, escapechar, comment, encoding, encoding_errors, dialect, on_bad_lines, delim_whitespace, low_memory, memory_map, float_precision, storage_options, dtype_backend)\u001b[0m\n\u001b[1;32m   1013\u001b[0m kwds_defaults \u001b[38;5;241m=\u001b[39m _refine_defaults_read(\n\u001b[1;32m   1014\u001b[0m     dialect,\n\u001b[1;32m   1015\u001b[0m     delimiter,\n\u001b[0;32m   (...)\u001b[0m\n\u001b[1;32m   1022\u001b[0m     dtype_backend\u001b[38;5;241m=\u001b[39mdtype_backend,\n\u001b[1;32m   1023\u001b[0m )\n\u001b[1;32m   1024\u001b[0m kwds\u001b[38;5;241m.\u001b[39mupdate(kwds_defaults)\n\u001b[0;32m-> 1026\u001b[0m \u001b[38;5;28;01mreturn\u001b[39;00m _read(filepath_or_buffer, kwds)\n",
      "File \u001b[0;32m/opt/anaconda3/lib/python3.12/site-packages/pandas/io/parsers/readers.py:620\u001b[0m, in \u001b[0;36m_read\u001b[0;34m(filepath_or_buffer, kwds)\u001b[0m\n\u001b[1;32m    617\u001b[0m _validate_names(kwds\u001b[38;5;241m.\u001b[39mget(\u001b[38;5;124m\"\u001b[39m\u001b[38;5;124mnames\u001b[39m\u001b[38;5;124m\"\u001b[39m, \u001b[38;5;28;01mNone\u001b[39;00m))\n\u001b[1;32m    619\u001b[0m \u001b[38;5;66;03m# Create the parser.\u001b[39;00m\n\u001b[0;32m--> 620\u001b[0m parser \u001b[38;5;241m=\u001b[39m TextFileReader(filepath_or_buffer, \u001b[38;5;241m*\u001b[39m\u001b[38;5;241m*\u001b[39mkwds)\n\u001b[1;32m    622\u001b[0m \u001b[38;5;28;01mif\u001b[39;00m chunksize \u001b[38;5;129;01mor\u001b[39;00m iterator:\n\u001b[1;32m    623\u001b[0m     \u001b[38;5;28;01mreturn\u001b[39;00m parser\n",
      "File \u001b[0;32m/opt/anaconda3/lib/python3.12/site-packages/pandas/io/parsers/readers.py:1620\u001b[0m, in \u001b[0;36mTextFileReader.__init__\u001b[0;34m(self, f, engine, **kwds)\u001b[0m\n\u001b[1;32m   1617\u001b[0m     \u001b[38;5;28mself\u001b[39m\u001b[38;5;241m.\u001b[39moptions[\u001b[38;5;124m\"\u001b[39m\u001b[38;5;124mhas_index_names\u001b[39m\u001b[38;5;124m\"\u001b[39m] \u001b[38;5;241m=\u001b[39m kwds[\u001b[38;5;124m\"\u001b[39m\u001b[38;5;124mhas_index_names\u001b[39m\u001b[38;5;124m\"\u001b[39m]\n\u001b[1;32m   1619\u001b[0m \u001b[38;5;28mself\u001b[39m\u001b[38;5;241m.\u001b[39mhandles: IOHandles \u001b[38;5;241m|\u001b[39m \u001b[38;5;28;01mNone\u001b[39;00m \u001b[38;5;241m=\u001b[39m \u001b[38;5;28;01mNone\u001b[39;00m\n\u001b[0;32m-> 1620\u001b[0m \u001b[38;5;28mself\u001b[39m\u001b[38;5;241m.\u001b[39m_engine \u001b[38;5;241m=\u001b[39m \u001b[38;5;28mself\u001b[39m\u001b[38;5;241m.\u001b[39m_make_engine(f, \u001b[38;5;28mself\u001b[39m\u001b[38;5;241m.\u001b[39mengine)\n",
      "File \u001b[0;32m/opt/anaconda3/lib/python3.12/site-packages/pandas/io/parsers/readers.py:1880\u001b[0m, in \u001b[0;36mTextFileReader._make_engine\u001b[0;34m(self, f, engine)\u001b[0m\n\u001b[1;32m   1878\u001b[0m     \u001b[38;5;28;01mif\u001b[39;00m \u001b[38;5;124m\"\u001b[39m\u001b[38;5;124mb\u001b[39m\u001b[38;5;124m\"\u001b[39m \u001b[38;5;129;01mnot\u001b[39;00m \u001b[38;5;129;01min\u001b[39;00m mode:\n\u001b[1;32m   1879\u001b[0m         mode \u001b[38;5;241m+\u001b[39m\u001b[38;5;241m=\u001b[39m \u001b[38;5;124m\"\u001b[39m\u001b[38;5;124mb\u001b[39m\u001b[38;5;124m\"\u001b[39m\n\u001b[0;32m-> 1880\u001b[0m \u001b[38;5;28mself\u001b[39m\u001b[38;5;241m.\u001b[39mhandles \u001b[38;5;241m=\u001b[39m get_handle(\n\u001b[1;32m   1881\u001b[0m     f,\n\u001b[1;32m   1882\u001b[0m     mode,\n\u001b[1;32m   1883\u001b[0m     encoding\u001b[38;5;241m=\u001b[39m\u001b[38;5;28mself\u001b[39m\u001b[38;5;241m.\u001b[39moptions\u001b[38;5;241m.\u001b[39mget(\u001b[38;5;124m\"\u001b[39m\u001b[38;5;124mencoding\u001b[39m\u001b[38;5;124m\"\u001b[39m, \u001b[38;5;28;01mNone\u001b[39;00m),\n\u001b[1;32m   1884\u001b[0m     compression\u001b[38;5;241m=\u001b[39m\u001b[38;5;28mself\u001b[39m\u001b[38;5;241m.\u001b[39moptions\u001b[38;5;241m.\u001b[39mget(\u001b[38;5;124m\"\u001b[39m\u001b[38;5;124mcompression\u001b[39m\u001b[38;5;124m\"\u001b[39m, \u001b[38;5;28;01mNone\u001b[39;00m),\n\u001b[1;32m   1885\u001b[0m     memory_map\u001b[38;5;241m=\u001b[39m\u001b[38;5;28mself\u001b[39m\u001b[38;5;241m.\u001b[39moptions\u001b[38;5;241m.\u001b[39mget(\u001b[38;5;124m\"\u001b[39m\u001b[38;5;124mmemory_map\u001b[39m\u001b[38;5;124m\"\u001b[39m, \u001b[38;5;28;01mFalse\u001b[39;00m),\n\u001b[1;32m   1886\u001b[0m     is_text\u001b[38;5;241m=\u001b[39mis_text,\n\u001b[1;32m   1887\u001b[0m     errors\u001b[38;5;241m=\u001b[39m\u001b[38;5;28mself\u001b[39m\u001b[38;5;241m.\u001b[39moptions\u001b[38;5;241m.\u001b[39mget(\u001b[38;5;124m\"\u001b[39m\u001b[38;5;124mencoding_errors\u001b[39m\u001b[38;5;124m\"\u001b[39m, \u001b[38;5;124m\"\u001b[39m\u001b[38;5;124mstrict\u001b[39m\u001b[38;5;124m\"\u001b[39m),\n\u001b[1;32m   1888\u001b[0m     storage_options\u001b[38;5;241m=\u001b[39m\u001b[38;5;28mself\u001b[39m\u001b[38;5;241m.\u001b[39moptions\u001b[38;5;241m.\u001b[39mget(\u001b[38;5;124m\"\u001b[39m\u001b[38;5;124mstorage_options\u001b[39m\u001b[38;5;124m\"\u001b[39m, \u001b[38;5;28;01mNone\u001b[39;00m),\n\u001b[1;32m   1889\u001b[0m )\n\u001b[1;32m   1890\u001b[0m \u001b[38;5;28;01massert\u001b[39;00m \u001b[38;5;28mself\u001b[39m\u001b[38;5;241m.\u001b[39mhandles \u001b[38;5;129;01mis\u001b[39;00m \u001b[38;5;129;01mnot\u001b[39;00m \u001b[38;5;28;01mNone\u001b[39;00m\n\u001b[1;32m   1891\u001b[0m f \u001b[38;5;241m=\u001b[39m \u001b[38;5;28mself\u001b[39m\u001b[38;5;241m.\u001b[39mhandles\u001b[38;5;241m.\u001b[39mhandle\n",
      "File \u001b[0;32m/opt/anaconda3/lib/python3.12/site-packages/pandas/io/common.py:873\u001b[0m, in \u001b[0;36mget_handle\u001b[0;34m(path_or_buf, mode, encoding, compression, memory_map, is_text, errors, storage_options)\u001b[0m\n\u001b[1;32m    868\u001b[0m \u001b[38;5;28;01melif\u001b[39;00m \u001b[38;5;28misinstance\u001b[39m(handle, \u001b[38;5;28mstr\u001b[39m):\n\u001b[1;32m    869\u001b[0m     \u001b[38;5;66;03m# Check whether the filename is to be opened in binary mode.\u001b[39;00m\n\u001b[1;32m    870\u001b[0m     \u001b[38;5;66;03m# Binary mode does not support 'encoding' and 'newline'.\u001b[39;00m\n\u001b[1;32m    871\u001b[0m     \u001b[38;5;28;01mif\u001b[39;00m ioargs\u001b[38;5;241m.\u001b[39mencoding \u001b[38;5;129;01mand\u001b[39;00m \u001b[38;5;124m\"\u001b[39m\u001b[38;5;124mb\u001b[39m\u001b[38;5;124m\"\u001b[39m \u001b[38;5;129;01mnot\u001b[39;00m \u001b[38;5;129;01min\u001b[39;00m ioargs\u001b[38;5;241m.\u001b[39mmode:\n\u001b[1;32m    872\u001b[0m         \u001b[38;5;66;03m# Encoding\u001b[39;00m\n\u001b[0;32m--> 873\u001b[0m         handle \u001b[38;5;241m=\u001b[39m \u001b[38;5;28mopen\u001b[39m(\n\u001b[1;32m    874\u001b[0m             handle,\n\u001b[1;32m    875\u001b[0m             ioargs\u001b[38;5;241m.\u001b[39mmode,\n\u001b[1;32m    876\u001b[0m             encoding\u001b[38;5;241m=\u001b[39mioargs\u001b[38;5;241m.\u001b[39mencoding,\n\u001b[1;32m    877\u001b[0m             errors\u001b[38;5;241m=\u001b[39merrors,\n\u001b[1;32m    878\u001b[0m             newline\u001b[38;5;241m=\u001b[39m\u001b[38;5;124m\"\u001b[39m\u001b[38;5;124m\"\u001b[39m,\n\u001b[1;32m    879\u001b[0m         )\n\u001b[1;32m    880\u001b[0m     \u001b[38;5;28;01melse\u001b[39;00m:\n\u001b[1;32m    881\u001b[0m         \u001b[38;5;66;03m# Binary mode\u001b[39;00m\n\u001b[1;32m    882\u001b[0m         handle \u001b[38;5;241m=\u001b[39m \u001b[38;5;28mopen\u001b[39m(handle, ioargs\u001b[38;5;241m.\u001b[39mmode)\n",
      "\u001b[0;31mFileNotFoundError\u001b[0m: [Errno 2] No such file or directory: 'data.csv'"
     ]
    }
   ],
   "source": [
    "# Bad example\n",
    "df1 = pd.read_csv(\"data.csv\")\n",
    "df2 = df1[df1[\"sales\"] > 500]\n",
    "\n",
    "# Good example\n",
    "sales_data = pd.read_csv(\"data.csv\")\n",
    "high_sales_data = sales_data[sales_data[\"sales\"] > 500]"
   ]
  },
  {
   "cell_type": "markdown",
   "id": "e1e14bdf-35bc-4ee8-a05b-9cf32d18b5f0",
   "metadata": {},
   "source": [
    "#### Consistent Indentation & Spacing"
   ]
  },
  {
   "cell_type": "code",
   "execution_count": null,
   "id": "3e8ace13-a570-4c49-826b-b81a025f81d9",
   "metadata": {},
   "outputs": [],
   "source": [
    "# Bad example\n",
    "def calculate_mean(numbers):\n",
    " result = sum(numbers)/len(numbers)\n",
    " return result\n",
    "\n",
    "# Good example\n",
    "def calculate_mean(numbers):\n",
    "    result = sum(numbers) / len(numbers)\n",
    "    return result\n"
   ]
  },
  {
   "cell_type": "markdown",
   "id": "a305f12d-90aa-470c-ba84-5960b85c9c76",
   "metadata": {},
   "source": [
    "#### Limit Line Length "
   ]
  },
  {
   "cell_type": "code",
   "execution_count": 345,
   "id": "ca9bb766-f3e5-4ecc-a677-63f6f75b8aa4",
   "metadata": {},
   "outputs": [
    {
     "ename": "NameError",
     "evalue": "name 'dataset' is not defined",
     "output_type": "error",
     "traceback": [
      "\u001b[0;31m---------------------------------------------------------------------------\u001b[0m",
      "\u001b[0;31mNameError\u001b[0m                                 Traceback (most recent call last)",
      "Cell \u001b[0;32mIn[345], line 2\u001b[0m\n\u001b[1;32m      1\u001b[0m \u001b[38;5;66;03m# Bad example\u001b[39;00m\n\u001b[0;32m----> 2\u001b[0m data \u001b[38;5;241m=\u001b[39m dataset\u001b[38;5;241m.\u001b[39mget_data(\u001b[38;5;124m\"\u001b[39m\u001b[38;5;124m20200901\u001b[39m\u001b[38;5;124m\"\u001b[39m, \u001b[38;5;124m\"\u001b[39m\u001b[38;5;124m20201001\u001b[39m\u001b[38;5;124m\"\u001b[39m, [\u001b[38;5;124m\"\u001b[39m\u001b[38;5;124mtemperature\u001b[39m\u001b[38;5;124m\"\u001b[39m, \u001b[38;5;124m\"\u001b[39m\u001b[38;5;124mhumidity\u001b[39m\u001b[38;5;124m\"\u001b[39m, \u001b[38;5;124m\"\u001b[39m\u001b[38;5;124mprecipitation\u001b[39m\u001b[38;5;124m\"\u001b[39m, \u001b[38;5;124m\"\u001b[39m\u001b[38;5;124mwind_speed\u001b[39m\u001b[38;5;124m\"\u001b[39m, \u001b[38;5;124m\"\u001b[39m\u001b[38;5;124msunshine_hours\u001b[39m\u001b[38;5;124m\"\u001b[39m])\n\u001b[1;32m      4\u001b[0m \u001b[38;5;66;03m# Good example\u001b[39;00m\n\u001b[1;32m      5\u001b[0m data \u001b[38;5;241m=\u001b[39m dataset\u001b[38;5;241m.\u001b[39mget_data(\n\u001b[1;32m      6\u001b[0m     \u001b[38;5;124m\"\u001b[39m\u001b[38;5;124m20200901\u001b[39m\u001b[38;5;124m\"\u001b[39m, \u001b[38;5;124m\"\u001b[39m\u001b[38;5;124m20201001\u001b[39m\u001b[38;5;124m\"\u001b[39m, \n\u001b[1;32m      7\u001b[0m     [\u001b[38;5;124m\"\u001b[39m\u001b[38;5;124mtemperature\u001b[39m\u001b[38;5;124m\"\u001b[39m, \u001b[38;5;124m\"\u001b[39m\u001b[38;5;124mhumidity\u001b[39m\u001b[38;5;124m\"\u001b[39m, \u001b[38;5;124m\"\u001b[39m\u001b[38;5;124mprecipitation\u001b[39m\u001b[38;5;124m\"\u001b[39m, \u001b[38;5;124m\"\u001b[39m\u001b[38;5;124mwind_speed\u001b[39m\u001b[38;5;124m\"\u001b[39m, \u001b[38;5;124m\"\u001b[39m\u001b[38;5;124msunshine_hours\u001b[39m\u001b[38;5;124m\"\u001b[39m]\n\u001b[1;32m      8\u001b[0m )\n",
      "\u001b[0;31mNameError\u001b[0m: name 'dataset' is not defined"
     ]
    }
   ],
   "source": [
    "# Bad example\n",
    "data = dataset.get_data(\"20200901\", \"20201001\", [\"temperature\", \"humidity\", \"precipitation\", \"wind_speed\", \"sunshine_hours\"])\n",
    "\n",
    "# Good example\n",
    "data = dataset.get_data(\n",
    "    \"20200901\", \"20201001\", \n",
    "    [\"temperature\", \"humidity\", \"precipitation\", \"wind_speed\", \"sunshine_hours\"]\n",
    ")\n"
   ]
  },
  {
   "cell_type": "markdown",
   "id": "2845530d-1076-435e-bf56-f4d09125fd02",
   "metadata": {},
   "source": [
    "#### Docstrings(\"\"\" \"\"\") & Comments(#)"
   ]
  },
  {
   "cell_type": "code",
   "execution_count": 348,
   "id": "16dd5dd2-dfc1-463f-9a16-de5dade50479",
   "metadata": {},
   "outputs": [],
   "source": [
    "# Good example\n",
    "def calculate_mean(numbers):\n",
    "    \"\"\"\n",
    "    Calculate and return the arithmetic mean of a list of numbers.\n",
    "\n",
    "    Args:\n",
    "    numbers (list): A list of numbers.\n",
    "\n",
    "    Returns:\n",
    "    float: The arithmetic mean of the numbers.\n",
    "    \"\"\"\n",
    "    return sum(numbers) / len(numbers)\n"
   ]
  },
  {
   "cell_type": "markdown",
   "id": "fa873157-06ef-4f58-a394-02f012223077",
   "metadata": {},
   "source": [
    "#### Follow the PEP8 Style Guide\n",
    "\n",
    "https://peps.python.org/pep-0008/"
   ]
  },
  {
   "cell_type": "markdown",
   "id": "eba6c8cd-5f33-4c2e-bcfa-9ea14d012c44",
   "metadata": {},
   "source": [
    "### Conditional Statements"
   ]
  },
  {
   "cell_type": "code",
   "execution_count": 1164,
   "id": "df6b658a-a1c5-414c-9dde-c8c09e44094b",
   "metadata": {},
   "outputs": [],
   "source": [
    "# Make decisions \n",
    "# Using Python code\n",
    "# Asking questions\n",
    "\n",
    "# Flow control\n",
    "# Statements: if, elif & else"
   ]
  },
  {
   "cell_type": "code",
   "execution_count": 1166,
   "id": "4a417c3f-30ce-40aa-88f2-847c5db4c5e9",
   "metadata": {},
   "outputs": [],
   "source": [
    "# Example\n",
    "cars = ['Mercedes', 'Korope', 'Toyota', 'Mustang', 'Dodge']"
   ]
  },
  {
   "cell_type": "code",
   "execution_count": 1168,
   "id": "c8b31a09-70f5-4c65-a344-f56321751041",
   "metadata": {},
   "outputs": [
    {
     "name": "stdout",
     "output_type": "stream",
     "text": [
      "mercedes\n",
      "KOROPE\n",
      "toyota\n",
      "mustang\n",
      "dodge\n"
     ]
    }
   ],
   "source": [
    "for car in cars: \n",
    "    if car == 'Korope':\n",
    "        print(car.upper())\n",
    "    else:\n",
    "        print(car.lower())"
   ]
  },
  {
   "cell_type": "markdown",
   "id": "c78ac8c2-b216-4280-a641-aa2896cc48a4",
   "metadata": {},
   "source": [
    "### Comparison Operators\n",
    "\n",
    "#### Rules"
   ]
  },
  {
   "cell_type": "code",
   "execution_count": 1171,
   "id": "8085668a-3c9d-4e2c-b710-6c1ce88cadf4",
   "metadata": {},
   "outputs": [
    {
     "data": {
      "text/plain": [
       "True"
      ]
     },
     "execution_count": 1171,
     "metadata": {},
     "output_type": "execute_result"
    }
   ],
   "source": [
    "# > Greater than - This is True if the value on the left is greater than the \n",
    "# value on the right\n",
    "\n",
    "a = 4\n",
    "b = 3\n",
    "a > b"
   ]
  },
  {
   "cell_type": "code",
   "execution_count": 1173,
   "id": "b6ba9454-e599-4afb-b951-b378693be2db",
   "metadata": {},
   "outputs": [
    {
     "data": {
      "text/plain": [
       "True"
      ]
     },
     "execution_count": 1173,
     "metadata": {},
     "output_type": "execute_result"
    }
   ],
   "source": [
    "# < Less than - This is True if the value on the left is less than the value on the \n",
    "# the right\n",
    "b < a"
   ]
  },
  {
   "cell_type": "code",
   "execution_count": 1175,
   "id": "e30b224a-b46f-4739-9c37-4d6ab8a56bf5",
   "metadata": {},
   "outputs": [
    {
     "data": {
      "text/plain": [
       "True"
      ]
     },
     "execution_count": 1175,
     "metadata": {},
     "output_type": "execute_result"
    }
   ],
   "source": [
    "# == Equal to - This is True if the values on the left & right are equal\n",
    "c = 4\n",
    "d = 4 \n",
    "c == d "
   ]
  },
  {
   "cell_type": "code",
   "execution_count": 1177,
   "id": "52e38006-c62a-45c4-a80c-752a09c93e6c",
   "metadata": {},
   "outputs": [
    {
     "data": {
      "text/plain": [
       "True"
      ]
     },
     "execution_count": 1177,
     "metadata": {},
     "output_type": "execute_result"
    }
   ],
   "source": [
    "# != Not Equal to - This is True if the values on the left and right are not equal\n",
    "\n",
    "e = 4\n",
    "f = 9 \n",
    "e != f "
   ]
  },
  {
   "cell_type": "code",
   "execution_count": 1179,
   "id": "f86796c4-b042-41f3-9a82-7e5d2e14f803",
   "metadata": {},
   "outputs": [
    {
     "data": {
      "text/plain": [
       "True"
      ]
     },
     "execution_count": 1179,
     "metadata": {},
     "output_type": "execute_result"
    }
   ],
   "source": [
    "# >= Greater than or equal to - This is True when the left value is greater than\n",
    "# or equal to the value on the right\n",
    "f >= e "
   ]
  },
  {
   "cell_type": "code",
   "execution_count": 1181,
   "id": "af1484cf-dfb1-41a2-807b-7b58b7d9ae59",
   "metadata": {},
   "outputs": [
    {
     "data": {
      "text/plain": [
       "True"
      ]
     },
     "execution_count": 1181,
     "metadata": {},
     "output_type": "execute_result"
    }
   ],
   "source": [
    "# <= Less than or equal to - This is True when the left value is less than\n",
    "# or equal to the value on the right\n",
    "\n",
    "e <= f "
   ]
  },
  {
   "cell_type": "markdown",
   "id": "fa910129-b86d-4008-87f7-ce9fd79d2649",
   "metadata": {},
   "source": [
    "### Create a conditional statement\n",
    "\n",
    "#### Rules"
   ]
  },
  {
   "cell_type": "code",
   "execution_count": 1184,
   "id": "c4461f05-ac27-445c-bc4d-7bce16d29f98",
   "metadata": {},
   "outputs": [],
   "source": [
    "# A conditional statement allows our code to branch in two or more directions \n",
    "# if statement evaluates if the condition is True\n",
    "# else statement evaluates if the condition is False\n",
    "# elif statement evaluates if we have an additional condition that's True"
   ]
  },
  {
   "cell_type": "code",
   "execution_count": 1186,
   "id": "3576b2cb-5120-4efa-b47a-91250004af5f",
   "metadata": {},
   "outputs": [],
   "source": [
    "authenticated = True # variable containing a Boolean \n",
    "unauthenticated = False # variable containing a Boolean"
   ]
  },
  {
   "cell_type": "code",
   "execution_count": 1188,
   "id": "092ea275-454e-410e-8555-f5aecce8a336",
   "metadata": {},
   "outputs": [
    {
     "name": "stdout",
     "output_type": "stream",
     "text": [
      "You are an AltSchooler\n"
     ]
    }
   ],
   "source": [
    "# The True condition \n",
    "if authenticated:\n",
    "    print(\"You are an AltSchooler\")"
   ]
  },
  {
   "cell_type": "code",
   "execution_count": 1190,
   "id": "18b85719-f156-423f-b5d3-59a31ce18a84",
   "metadata": {},
   "outputs": [
    {
     "name": "stdout",
     "output_type": "stream",
     "text": [
      "You not eligible\n"
     ]
    }
   ],
   "source": [
    "# The False condition\n",
    "if unauthenticated:\n",
    "    print(\"You are an AltSchooler\")\n",
    "else: \n",
    "    print(\"You not eligible\")"
   ]
  },
  {
   "cell_type": "code",
   "execution_count": 1192,
   "id": "c452bec2-e896-40ba-8eb1-3f45db0a98f0",
   "metadata": {},
   "outputs": [
    {
     "name": "stdout",
     "output_type": "stream",
     "text": [
      "You can vote and run for office\n"
     ]
    }
   ],
   "source": [
    "# Create an elif statement scenario \n",
    "age = 41\n",
    "if age < 18:\n",
    "    print(\"You are not eligible to vote\")\n",
    "elif age < 35:\n",
    "    print(\"You can vote in any election\")\n",
    "elif age >= 40:\n",
    "    print(\"You can vote and run for office\")\n",
    "else: \n",
    "    print(\"You are eligible to vote\")"
   ]
  },
  {
   "cell_type": "code",
   "execution_count": 1194,
   "id": "3222405d-3c99-404a-84a2-29b172e595d7",
   "metadata": {},
   "outputs": [
    {
     "name": "stdout",
     "output_type": "stream",
     "text": [
      "Your grade is D\n"
     ]
    }
   ],
   "source": [
    "# Create a grades scenario \n",
    "# Grades A 70 - 100, B 60 - 69, C 50 - 59, D 40 - 49\n",
    "grades = 40\n",
    "if grades >= 70:\n",
    "    print('Your grade is A')\n",
    "elif grades >= 60:\n",
    "    print('Your grade is B')\n",
    "elif grades >= 50:\n",
    "    print('Your grade is C')\n",
    "else:\n",
    "    print('Your grade is D')\n",
    "          "
   ]
  },
  {
   "cell_type": "code",
   "execution_count": 1196,
   "id": "d2b0522a-d8c0-47f8-8461-85cb38c68e18",
   "metadata": {},
   "outputs": [
    {
     "name": "stdout",
     "output_type": "stream",
     "text": [
      "A\n"
     ]
    }
   ],
   "source": [
    "# Folusho used logical operators\n",
    "x= 80\n",
    "if x<40:\n",
    "    print('F')\n",
    "elif x>=40 and x<50:\n",
    "    print('D')\n",
    "elif x>=50 and x<60:\n",
    "    print('C')\n",
    "elif x>=60 and x<69:\n",
    "    print('B')\n",
    "else:\n",
    "    print('A')"
   ]
  },
  {
   "cell_type": "markdown",
   "id": "4268c798-236a-44c5-99d6-bc42f7b4bde7",
   "metadata": {},
   "source": [
    "### Nesting conditions"
   ]
  },
  {
   "cell_type": "code",
   "execution_count": 1199,
   "id": "e998a563-d172-4b30-9226-12291ffa5abd",
   "metadata": {},
   "outputs": [],
   "source": [
    " # An if statement inside another if statement\n",
    "age = 18\n",
    "car = 'Korope'\n",
    "\n",
    "if age >= 18:\n",
    "    if car in ['Honda', 'Toyota']: \n",
    "        print('You buy Japanese cars')\n",
    "    \n",
    "    elif car in ['Ford', 'Chevrolet']:\n",
    "        print('You buy American cars')\n",
    "\n",
    "else:\n",
    "    print('You are too young to buy cars')"
   ]
  },
  {
   "cell_type": "markdown",
   "id": "a3126bee-ab64-4af1-8cee-364c97d7082e",
   "metadata": {},
   "source": [
    "### Logical Operators\n",
    "\n",
    "Rules"
   ]
  },
  {
   "cell_type": "code",
   "execution_count": 1202,
   "id": "8aa162fc-7733-40f0-9448-406331414352",
   "metadata": {},
   "outputs": [],
   "source": [
    "# Allows you to chain multiple expressions together "
   ]
  },
  {
   "cell_type": "code",
   "execution_count": 1204,
   "id": "bee36853-9024-4993-9b5f-24705ddc805e",
   "metadata": {},
   "outputs": [
    {
     "data": {
      "text/plain": [
       "True"
      ]
     },
     "execution_count": 1204,
     "metadata": {},
     "output_type": "execute_result"
    }
   ],
   "source": [
    "# and - Only True if both values are True \n",
    "x = 40\n",
    "y = 41 \n",
    "\n",
    "x > 20 and y < 51"
   ]
  },
  {
   "cell_type": "code",
   "execution_count": 1206,
   "id": "4d6bde95-09ab-49b4-a1b3-1a8ba147c8c1",
   "metadata": {},
   "outputs": [
    {
     "data": {
      "text/plain": [
       "False"
      ]
     },
     "execution_count": 1206,
     "metadata": {},
     "output_type": "execute_result"
    }
   ],
   "source": [
    "x > 20 and y > 51 "
   ]
  },
  {
   "cell_type": "code",
   "execution_count": 1208,
   "id": "5b0f5394-8c87-4891-bcfa-d8fa1c277455",
   "metadata": {},
   "outputs": [
    {
     "data": {
      "text/plain": [
       "True"
      ]
     },
     "execution_count": 1208,
     "metadata": {},
     "output_type": "execute_result"
    }
   ],
   "source": [
    "# or - True if either of the values are True\n",
    "x > 20 or y > 51 "
   ]
  },
  {
   "cell_type": "code",
   "execution_count": 1210,
   "id": "b6ab1ffd-387d-4631-9b83-ee79b0a74b22",
   "metadata": {},
   "outputs": [
    {
     "data": {
      "text/plain": [
       "False"
      ]
     },
     "execution_count": 1210,
     "metadata": {},
     "output_type": "execute_result"
    }
   ],
   "source": [
    "# not - True if the values are false\n",
    "unauthenticated"
   ]
  },
  {
   "cell_type": "code",
   "execution_count": 1212,
   "id": "acc8db29-9f1f-435d-9027-8a7659b9b295",
   "metadata": {},
   "outputs": [
    {
     "name": "stdout",
     "output_type": "stream",
     "text": [
      "Please login\n"
     ]
    }
   ],
   "source": [
    "if not unauthenticated: \n",
    "    print(\"Please login\")"
   ]
  },
  {
   "cell_type": "code",
   "execution_count": 1214,
   "id": "b22328d9-0f9c-4641-9900-6a66e71e94a0",
   "metadata": {},
   "outputs": [
    {
     "name": "stdout",
     "output_type": "stream",
     "text": [
      "You are too young to buy cars\n"
     ]
    }
   ],
   "source": [
    "# Logical operator - and\n",
    "age = 18\n",
    "car = 'Korope'\n",
    "\n",
    "if age >= 18 and car in ['Honda', 'Toyota']:\n",
    "        print('You buy Japanese cars')\n",
    "    \n",
    "elif age >= 18 and car in ['Ford', 'Chevrolet']:\n",
    "    print('You buy American cars')\n",
    "\n",
    "else:\n",
    "    print('You are too young to buy cars')"
   ]
  },
  {
   "cell_type": "code",
   "execution_count": 1216,
   "id": "9f9522f8-30ca-4f01-95af-3cafd4c66a08",
   "metadata": {},
   "outputs": [
    {
     "data": {
      "text/plain": [
       "True"
      ]
     },
     "execution_count": 1216,
     "metadata": {},
     "output_type": "execute_result"
    }
   ],
   "source": [
    "# The if statement evaluates if the condition is True \n",
    "authenticated"
   ]
  },
  {
   "cell_type": "code",
   "execution_count": 1218,
   "id": "04ee5c23-61e8-4707-827d-8b310b304c11",
   "metadata": {},
   "outputs": [
    {
     "name": "stdout",
     "output_type": "stream",
     "text": [
      "Emmanuel Peter is an AltSchooler\n"
     ]
    }
   ],
   "source": [
    "if authenticated: \n",
    "    print(\"Emmanuel Peter is an AltSchooler\")"
   ]
  },
  {
   "cell_type": "code",
   "execution_count": 1220,
   "id": "714fe60c-bba7-40c6-8e30-9275a788bd45",
   "metadata": {},
   "outputs": [],
   "source": [
    "# The else statement evaluates if the condition is false "
   ]
  },
  {
   "cell_type": "code",
   "execution_count": 1222,
   "id": "be9a9c53-94ef-4ccb-bdf8-a3838728eb56",
   "metadata": {},
   "outputs": [
    {
     "data": {
      "text/plain": [
       "False"
      ]
     },
     "execution_count": 1222,
     "metadata": {},
     "output_type": "execute_result"
    }
   ],
   "source": [
    "unauthenticated"
   ]
  },
  {
   "cell_type": "code",
   "execution_count": 1224,
   "id": "a054d03b-27da-474d-b156-4fc43e76132f",
   "metadata": {},
   "outputs": [
    {
     "name": "stdout",
     "output_type": "stream",
     "text": [
      "This individual is ineligible\n"
     ]
    }
   ],
   "source": [
    "if unauthenticated:\n",
    "    print(\"Emmanuel Peter is an Altschooler\")\n",
    "else:\n",
    "    print(\"This individual is ineligible\")"
   ]
  },
  {
   "cell_type": "code",
   "execution_count": 1226,
   "id": "79c1e8d8-d1e8-43b0-8a09-0d09919b1b63",
   "metadata": {},
   "outputs": [
    {
     "name": "stdout",
     "output_type": "stream",
     "text": [
      "Okay\n"
     ]
    }
   ],
   "source": [
    "# What is the role of elif\n",
    "score = 19\n",
    "\n",
    "if score >= 21:\n",
    "    print(\"Good work\")\n",
    "elif score <= 20:\n",
    "    print(\"Okay\")\n",
    "else:\n",
    "    print(\"Steeze\")"
   ]
  },
  {
   "cell_type": "code",
   "execution_count": 1230,
   "id": "7d96b46a-2909-4d13-a3aa-8446ab69d083",
   "metadata": {},
   "outputs": [
    {
     "name": "stdin",
     "output_type": "stream",
     "text": [
      "Enter marks 55\n"
     ]
    },
    {
     "name": "stdout",
     "output_type": "stream",
     "text": [
      "Grade E\n"
     ]
    }
   ],
   "source": [
    "# Let's check out this example code \n",
    "marks = int(input(\"Enter marks\"))\n",
    "\n",
    "if marks >= 90:\n",
    "    print(\"Grade A\")\n",
    "elif marks >= 80 and marks <= 89:\n",
    "    print(\"Grade B\")\n",
    "elif marks >= 70 and marks <= 79:\n",
    "    print(\"Grade C\")\n",
    "elif marks >= 60 and marks <= 69:\n",
    "    print(\"Grade D\")\n",
    "elif marks >= 50 and marks <= 59:\n",
    "    print(\"Grade E\")\n",
    "else:\n",
    "    print(\"Sorry you got an F\")"
   ]
  },
  {
   "cell_type": "markdown",
   "id": "76f5356c-7922-4280-b467-e384f46f3c43",
   "metadata": {},
   "source": [
    "### Special Operators\n",
    "\n",
    "Rules"
   ]
  },
  {
   "cell_type": "code",
   "execution_count": 1232,
   "id": "f095d9eb-d384-44d7-a1ce-6e643b561099",
   "metadata": {},
   "outputs": [],
   "source": [
    "# Examples: is, is not, in, not in\n",
    "# Enhance efficiency and clarity \n",
    "# Create complex conditions - Outputs data"
   ]
  },
  {
   "cell_type": "code",
   "execution_count": 1233,
   "id": "fc7eace4-9af4-4701-9b6d-709af3070801",
   "metadata": {},
   "outputs": [],
   "source": [
    "# is - True when the values are identical - they have the same memory id "
   ]
  },
  {
   "cell_type": "code",
   "execution_count": 1235,
   "id": "22b3ded7-e0c7-4e7e-98a9-16c0ef52890a",
   "metadata": {},
   "outputs": [],
   "source": [
    "# Every variable is stored in memory\n",
    "name = \"Onyia\""
   ]
  },
  {
   "cell_type": "code",
   "execution_count": 1238,
   "id": "9fab7d77-fda7-4a5d-9916-946bfcf784c3",
   "metadata": {},
   "outputs": [
    {
     "data": {
      "text/plain": [
       "140549442679280"
      ]
     },
     "execution_count": 1238,
     "metadata": {},
     "output_type": "execute_result"
    }
   ],
   "source": [
    "id(name)"
   ]
  },
  {
   "cell_type": "code",
   "execution_count": 1240,
   "id": "17f338cd-ffc4-4e1d-96fa-61f0543693d1",
   "metadata": {},
   "outputs": [],
   "source": [
    "x = [1,2,3]\n",
    "y = [1,2,3] \n",
    "# Is x and y identical"
   ]
  },
  {
   "cell_type": "code",
   "execution_count": 1242,
   "id": "509f12aa-331e-4118-a66f-67532b240193",
   "metadata": {},
   "outputs": [
    {
     "data": {
      "text/plain": [
       "False"
      ]
     },
     "execution_count": 1242,
     "metadata": {},
     "output_type": "execute_result"
    }
   ],
   "source": [
    "x is y "
   ]
  },
  {
   "cell_type": "code",
   "execution_count": 1244,
   "id": "ed1744ed-0ee7-4483-be6c-7c14907faa6f",
   "metadata": {},
   "outputs": [
    {
     "name": "stdout",
     "output_type": "stream",
     "text": [
      "[1, 2, 3]\n"
     ]
    }
   ],
   "source": [
    "print(x)"
   ]
  },
  {
   "cell_type": "code",
   "execution_count": 1246,
   "id": "c0b3256d-3f95-4540-bb1b-7d63545d8439",
   "metadata": {},
   "outputs": [
    {
     "name": "stdout",
     "output_type": "stream",
     "text": [
      "[1, 2, 3]\n"
     ]
    }
   ],
   "source": [
    "print(y)"
   ]
  },
  {
   "cell_type": "code",
   "execution_count": 1248,
   "id": "53a1c8db-3d4a-44fd-8dc5-36628ad4f79f",
   "metadata": {},
   "outputs": [],
   "source": [
    "a = 'Onyia'\n",
    "b = 'Onyia'\n",
    "# Is a and b identical?"
   ]
  },
  {
   "cell_type": "code",
   "execution_count": 1250,
   "id": "28bda0b3-44c9-4882-bd13-86da57314eff",
   "metadata": {},
   "outputs": [
    {
     "data": {
      "text/plain": [
       "True"
      ]
     },
     "execution_count": 1250,
     "metadata": {},
     "output_type": "execute_result"
    }
   ],
   "source": [
    "a is b "
   ]
  },
  {
   "cell_type": "code",
   "execution_count": 1252,
   "id": "7792e9d0-fa40-4261-8427-1767cfb433c7",
   "metadata": {},
   "outputs": [
    {
     "data": {
      "text/plain": [
       "140549457641024"
      ]
     },
     "execution_count": 1252,
     "metadata": {},
     "output_type": "execute_result"
    }
   ],
   "source": [
    "id(x) # memory id"
   ]
  },
  {
   "cell_type": "code",
   "execution_count": 1253,
   "id": "7297b6ee-5bf6-4a3f-ba9c-10d4e2d04b64",
   "metadata": {},
   "outputs": [
    {
     "data": {
      "text/plain": [
       "140549457634816"
      ]
     },
     "execution_count": 1253,
     "metadata": {},
     "output_type": "execute_result"
    }
   ],
   "source": [
    "id(y) # memory id "
   ]
  },
  {
   "cell_type": "code",
   "execution_count": 1255,
   "id": "2b43d2a8-5175-4778-b865-f7b70f92d03d",
   "metadata": {},
   "outputs": [
    {
     "data": {
      "text/plain": [
       "140549442679280"
      ]
     },
     "execution_count": 1255,
     "metadata": {},
     "output_type": "execute_result"
    }
   ],
   "source": [
    "id(a)"
   ]
  },
  {
   "cell_type": "code",
   "execution_count": 1256,
   "id": "d8d815c0-8710-4b01-b5da-87e1fd0eedb1",
   "metadata": {},
   "outputs": [
    {
     "data": {
      "text/plain": [
       "140549442679280"
      ]
     },
     "execution_count": 1256,
     "metadata": {},
     "output_type": "execute_result"
    }
   ],
   "source": [
    "id(b)"
   ]
  },
  {
   "cell_type": "code",
   "execution_count": 1257,
   "id": "7606418a-f8fa-46dc-b19d-4f12851005fb",
   "metadata": {},
   "outputs": [
    {
     "data": {
      "text/plain": [
       "list"
      ]
     },
     "execution_count": 1257,
     "metadata": {},
     "output_type": "execute_result"
    }
   ],
   "source": [
    "type(x)"
   ]
  },
  {
   "cell_type": "code",
   "execution_count": 1262,
   "id": "0a2ef37f-9506-4a09-b6b4-aebd37df512f",
   "metadata": {},
   "outputs": [],
   "source": [
    "x_t = tuple(x)"
   ]
  },
  {
   "cell_type": "code",
   "execution_count": 1263,
   "id": "c9d0d959-2a0a-4667-9199-b80105f2c59f",
   "metadata": {},
   "outputs": [
    {
     "data": {
      "text/plain": [
       "tuple"
      ]
     },
     "execution_count": 1263,
     "metadata": {},
     "output_type": "execute_result"
    }
   ],
   "source": [
    "type(x_t)"
   ]
  },
  {
   "cell_type": "code",
   "execution_count": 1266,
   "id": "42897d23-cf9f-4a2f-a801-2763e3a00c68",
   "metadata": {},
   "outputs": [
    {
     "data": {
      "text/plain": [
       "140549457679232"
      ]
     },
     "execution_count": 1266,
     "metadata": {},
     "output_type": "execute_result"
    }
   ],
   "source": [
    "id(x_t)"
   ]
  },
  {
   "cell_type": "code",
   "execution_count": 1268,
   "id": "cbb51e56-e764-4864-b4f1-be0030d11060",
   "metadata": {},
   "outputs": [],
   "source": [
    "y_t = tuple(y)"
   ]
  },
  {
   "cell_type": "code",
   "execution_count": 1270,
   "id": "9bfb9c51-7e30-44c8-bd5c-46129be6154a",
   "metadata": {},
   "outputs": [
    {
     "data": {
      "text/plain": [
       "140549463928000"
      ]
     },
     "execution_count": 1270,
     "metadata": {},
     "output_type": "execute_result"
    }
   ],
   "source": [
    "id(y_t)"
   ]
  },
  {
   "cell_type": "code",
   "execution_count": 1272,
   "id": "12130f55-041b-4632-9d06-fdea542b6c4d",
   "metadata": {},
   "outputs": [],
   "source": [
    "# What does the 'is' operator do\n",
    "a = 'a'\n",
    "b = 'a'"
   ]
  },
  {
   "cell_type": "code",
   "execution_count": 1274,
   "id": "6443c6d7-e45d-4c5b-b3db-15ecd5a13c9d",
   "metadata": {},
   "outputs": [
    {
     "data": {
      "text/plain": [
       "True"
      ]
     },
     "execution_count": 1274,
     "metadata": {},
     "output_type": "execute_result"
    }
   ],
   "source": [
    "a is b "
   ]
  },
  {
   "cell_type": "code",
   "execution_count": 1276,
   "id": "20b8577d-eb4e-4f2e-b318-37e7ec49f8ae",
   "metadata": {},
   "outputs": [],
   "source": [
    "b = 'b'"
   ]
  },
  {
   "cell_type": "code",
   "execution_count": 1278,
   "id": "f0b9988d-3c97-40fa-82c4-420685efd730",
   "metadata": {},
   "outputs": [
    {
     "data": {
      "text/plain": [
       "False"
      ]
     },
     "execution_count": 1278,
     "metadata": {},
     "output_type": "execute_result"
    }
   ],
   "source": [
    "a is b "
   ]
  },
  {
   "cell_type": "code",
   "execution_count": 1280,
   "id": "efead7fa-aa59-4426-8636-f00b766015f8",
   "metadata": {},
   "outputs": [
    {
     "data": {
      "text/plain": [
       "True"
      ]
     },
     "execution_count": 1280,
     "metadata": {},
     "output_type": "execute_result"
    }
   ],
   "source": [
    "# is not - True when they are not identical \n",
    "a is not b "
   ]
  },
  {
   "cell_type": "code",
   "execution_count": 1282,
   "id": "2dd909e7-b6bf-405a-8b72-dc2d6a10e1cc",
   "metadata": {},
   "outputs": [],
   "source": [
    "# in - True when the value is in a collection "
   ]
  },
  {
   "cell_type": "code",
   "execution_count": 1284,
   "id": "d902b1c9-4dbd-4d99-a8d9-412cf42c8af8",
   "metadata": {},
   "outputs": [
    {
     "data": {
      "text/plain": [
       "[1, 2, 3]"
      ]
     },
     "execution_count": 1284,
     "metadata": {},
     "output_type": "execute_result"
    }
   ],
   "source": [
    "y"
   ]
  },
  {
   "cell_type": "code",
   "execution_count": 1286,
   "id": "2e2b4089-e810-40da-8f05-87bf0477bd74",
   "metadata": {},
   "outputs": [
    {
     "data": {
      "text/plain": [
       "True"
      ]
     },
     "execution_count": 1286,
     "metadata": {},
     "output_type": "execute_result"
    }
   ],
   "source": [
    "1 in y "
   ]
  },
  {
   "cell_type": "code",
   "execution_count": 1288,
   "id": "1b6b8695-39f3-42f2-a061-d66aa8fd8ffc",
   "metadata": {},
   "outputs": [
    {
     "data": {
      "text/plain": [
       "True"
      ]
     },
     "execution_count": 1288,
     "metadata": {},
     "output_type": "execute_result"
    }
   ],
   "source": [
    "# not in - True when the value is not in the collection \n",
    "4 not in y "
   ]
  },
  {
   "cell_type": "code",
   "execution_count": 1290,
   "id": "79927b02-3a44-44db-8a0e-8fd23310d6f3",
   "metadata": {},
   "outputs": [],
   "source": [
    "# We did a survey\n",
    "# Extracted a sample survey \n",
    "# Sample survey data\n",
    "survey_data = [\n",
    "    {\"id\": 1, \"has_allergy\": False, \"diet\": \"Vegetarian\"},\n",
    "    {\"id\": 2, \"has_allergy\": True, \"diet\": \"Keto\"},\n",
    "    {\"id\": 3, \"has_allergy\": None, \"diet\": \"Vegan\"},\n",
    "    {\"id\": 4, \"has_allergy\": False, \"diet\": \"Mediterranean\"}\n",
    "]\n"
   ]
  },
  {
   "cell_type": "code",
   "execution_count": 1292,
   "id": "3a4e7fa1-605d-4576-9303-92298ef359d7",
   "metadata": {},
   "outputs": [
    {
     "name": "stdout",
     "output_type": "stream",
     "text": [
      "[{'id': 1, 'has_allergy': False, 'diet': 'Vegetarian'}, {'id': 2, 'has_allergy': True, 'diet': 'Keto'}, {'id': 3, 'has_allergy': None, 'diet': 'Vegan'}, {'id': 4, 'has_allergy': False, 'diet': 'Mediterranean'}]\n"
     ]
    }
   ],
   "source": [
    "print(survey_data)"
   ]
  },
  {
   "cell_type": "code",
   "execution_count": 1294,
   "id": "53d851a3-6447-4da2-acee-376e2d2ba5e3",
   "metadata": {},
   "outputs": [
    {
     "name": "stdout",
     "output_type": "stream",
     "text": [
      "Not so sure\n",
      "Participant ID 2 has allergies.\n",
      "Participant ID 3 did not answer the allergy question.\n",
      "Not so sure\n"
     ]
    }
   ],
   "source": [
    "# Check for specific dietary restrictions and allergies\n",
    "for response in survey_data: \n",
    "    if response[\"has_allergy\"] is True:\n",
    "        print(f\"Participant ID {response['id']} has allergies.\")\n",
    "    elif response[\"has_allergy\"] is None:\n",
    "        print(f\"Participant ID {response['id']} did not answer the allergy question.\")\n",
    "    else:\n",
    "        print(\"Not so sure\")\n",
    "        "
   ]
  },
  {
   "cell_type": "markdown",
   "id": "249ffbfa-a010-48dc-a659-a57c82a32681",
   "metadata": {},
   "source": [
    "Understanding and using Python's special operators can dramatically improve your ability to process and analyze data efficiently and accurately. They allow you to write clearer, more intuitive code that can perform complex checks and manipulations with ease, making them invaluable tools in data analysis and beyond."
   ]
  },
  {
   "cell_type": "code",
   "execution_count": 1297,
   "id": "1e9c4678-2a06-4a41-81c7-e57589527be0",
   "metadata": {},
   "outputs": [
    {
     "data": {
      "text/plain": [
       "'Onyia'"
      ]
     },
     "execution_count": 1297,
     "metadata": {},
     "output_type": "execute_result"
    }
   ],
   "source": [
    "# What does the f string do \n",
    "name"
   ]
  },
  {
   "cell_type": "code",
   "execution_count": 1299,
   "id": "079dd87e-ab11-40e6-a844-5c2f9a7bb189",
   "metadata": {},
   "outputs": [
    {
     "name": "stdout",
     "output_type": "stream",
     "text": [
      "My last name is Onyia\n"
     ]
    }
   ],
   "source": [
    "print(f\"My last name is {name}\") "
   ]
  },
  {
   "cell_type": "code",
   "execution_count": 1301,
   "id": "a13bf353-1466-44c7-89dd-86ef220c663c",
   "metadata": {},
   "outputs": [
    {
     "name": "stdout",
     "output_type": "stream",
     "text": [
      "Programming Languages: Python, Rust, JavaScript, Go\n"
     ]
    }
   ],
   "source": [
    "# What does the \\n newline do\n",
    "print(\"Programming Languages: Python, Rust, JavaScript, Go\")"
   ]
  },
  {
   "cell_type": "code",
   "execution_count": 1303,
   "id": "07c40992-4a9e-4384-9967-3d4a5ab21115",
   "metadata": {},
   "outputs": [
    {
     "name": "stdout",
     "output_type": "stream",
     "text": [
      "Programming Languages:\n",
      "Python\n",
      "Rust\n",
      "JavaScript\n",
      "Go\n"
     ]
    }
   ],
   "source": [
    "print(\"Programming Languages:\\nPython\\nRust\\nJavaScript\\nGo\")"
   ]
  },
  {
   "cell_type": "code",
   "execution_count": 1305,
   "id": "a930f0e8-7978-4d46-9a81-9fbba674cf6d",
   "metadata": {},
   "outputs": [],
   "source": [
    "# List\n",
    "# Tuples \n",
    "# Dictionaries"
   ]
  },
  {
   "cell_type": "markdown",
   "id": "39b31862-6b36-43c7-8d95-ee4653e79706",
   "metadata": {},
   "source": [
    "### Python Dictionaries "
   ]
  },
  {
   "cell_type": "code",
   "execution_count": 1308,
   "id": "d91627a4-edc7-4996-bf0c-337963d94b69",
   "metadata": {},
   "outputs": [],
   "source": [
    "# A dictionary is a data type & data structure \n",
    "# It is the closest way to humanize data (represent real-world objects\n",
    "# more accurately)\n",
    "# It is used to store and retrieve data\n",
    "# Dictionaries are mutable "
   ]
  },
  {
   "cell_type": "code",
   "execution_count": 1310,
   "id": "4955bca9-d257-4022-acb7-2dc2b5db2ba7",
   "metadata": {},
   "outputs": [],
   "source": [
    "# Create a dictionary - curly brace {}\n",
    "# Dictionaries have key, value pairs"
   ]
  },
  {
   "cell_type": "code",
   "execution_count": 1312,
   "id": "1b940289-4e4c-47f1-a3ae-e6887cbda450",
   "metadata": {},
   "outputs": [],
   "source": [
    "# A simple dictionary \n",
    "instructor_profile = {'first_name': 'Pablo', 'last_name': 'Okwukogu', \n",
    "                      'email': 'pablo@altschoolafrica.com'}"
   ]
  },
  {
   "cell_type": "code",
   "execution_count": 1314,
   "id": "82ca2fed-a33e-443e-bc71-d520924b6de1",
   "metadata": {},
   "outputs": [
    {
     "name": "stdout",
     "output_type": "stream",
     "text": [
      "{'first_name': 'Pablo', 'last_name': 'Okwukogu', 'email': 'pablo@altschoolafrica.com'}\n"
     ]
    }
   ],
   "source": [
    "print(instructor_profile)"
   ]
  },
  {
   "cell_type": "code",
   "execution_count": 1316,
   "id": "2bad5276-241d-4c59-93dc-454863b64948",
   "metadata": {},
   "outputs": [],
   "source": [
    "restaurants_location = {\"Chicken Republic\": ['Lagos', 'Kaduna', 'Ogun'],\n",
    "                        'KFC': ['Lagos', 'Ogun ', 'Delta'],\n",
    "                        'Chicken Man': ['Accra', 'Kumasi', 'Takoradi'],\n",
    "                        'Festival de glace': ['Calavy','Tokpa', 'Pekadis']}"
   ]
  },
  {
   "cell_type": "code",
   "execution_count": 1318,
   "id": "0983c7f3-5f6c-4893-9738-a271d5a513c9",
   "metadata": {},
   "outputs": [
    {
     "data": {
      "text/plain": [
       "['Lagos', 'Kaduna', 'Ogun']"
      ]
     },
     "execution_count": 1318,
     "metadata": {},
     "output_type": "execute_result"
    }
   ],
   "source": [
    "restaurants_location['Chicken Republic'] "
   ]
  },
  {
   "cell_type": "code",
   "execution_count": 1320,
   "id": "b6b07478-b7bc-4eed-9184-9d65c747a04b",
   "metadata": {},
   "outputs": [
    {
     "data": {
      "text/plain": [
       "['Calavy', 'Tokpa', 'Pekadis']"
      ]
     },
     "execution_count": 1320,
     "metadata": {},
     "output_type": "execute_result"
    }
   ],
   "source": [
    "restaurants_location['Festival de glace']"
   ]
  },
  {
   "cell_type": "code",
   "execution_count": 1322,
   "id": "67728104-65d8-4825-b703-29cf3830b3d2",
   "metadata": {},
   "outputs": [],
   "source": [
    "# Convert a dictionary into a dataframe \n",
    "# Two-dimensional Tabular Structure \n",
    "import pandas as pd "
   ]
  },
  {
   "cell_type": "code",
   "execution_count": 1324,
   "id": "4af5ed4b-b284-48ec-9342-33f0829a6854",
   "metadata": {},
   "outputs": [],
   "source": [
    "rest_data = pd.DataFrame(restaurants_location)"
   ]
  },
  {
   "cell_type": "code",
   "execution_count": 1326,
   "id": "bc80d171-f098-4d97-904e-043be4f16ac9",
   "metadata": {},
   "outputs": [
    {
     "data": {
      "text/html": [
       "<div>\n",
       "<style scoped>\n",
       "    .dataframe tbody tr th:only-of-type {\n",
       "        vertical-align: middle;\n",
       "    }\n",
       "\n",
       "    .dataframe tbody tr th {\n",
       "        vertical-align: top;\n",
       "    }\n",
       "\n",
       "    .dataframe thead th {\n",
       "        text-align: right;\n",
       "    }\n",
       "</style>\n",
       "<table border=\"1\" class=\"dataframe\">\n",
       "  <thead>\n",
       "    <tr style=\"text-align: right;\">\n",
       "      <th></th>\n",
       "      <th>Chicken Republic</th>\n",
       "      <th>KFC</th>\n",
       "      <th>Chicken Man</th>\n",
       "      <th>Festival de glace</th>\n",
       "    </tr>\n",
       "  </thead>\n",
       "  <tbody>\n",
       "    <tr>\n",
       "      <th>0</th>\n",
       "      <td>Lagos</td>\n",
       "      <td>Lagos</td>\n",
       "      <td>Accra</td>\n",
       "      <td>Calavy</td>\n",
       "    </tr>\n",
       "    <tr>\n",
       "      <th>1</th>\n",
       "      <td>Kaduna</td>\n",
       "      <td>Ogun</td>\n",
       "      <td>Kumasi</td>\n",
       "      <td>Tokpa</td>\n",
       "    </tr>\n",
       "    <tr>\n",
       "      <th>2</th>\n",
       "      <td>Ogun</td>\n",
       "      <td>Delta</td>\n",
       "      <td>Takoradi</td>\n",
       "      <td>Pekadis</td>\n",
       "    </tr>\n",
       "  </tbody>\n",
       "</table>\n",
       "</div>"
      ],
      "text/plain": [
       "  Chicken Republic    KFC Chicken Man Festival de glace\n",
       "0            Lagos  Lagos       Accra            Calavy\n",
       "1           Kaduna  Ogun       Kumasi             Tokpa\n",
       "2             Ogun  Delta    Takoradi           Pekadis"
      ]
     },
     "execution_count": 1326,
     "metadata": {},
     "output_type": "execute_result"
    }
   ],
   "source": [
    "rest_data"
   ]
  },
  {
   "cell_type": "code",
   "execution_count": 1328,
   "id": "65b74ac0-c860-42b2-8c70-a3afad77896d",
   "metadata": {},
   "outputs": [],
   "source": [
    "rest_data.to_csv('restaurant_location.csv', index = False)"
   ]
  },
  {
   "cell_type": "code",
   "execution_count": 1330,
   "id": "4da97322-22f6-4ded-bdef-f9e06b003787",
   "metadata": {},
   "outputs": [],
   "source": [
    "# Use a dictionary function to create a dictionary \n",
    "numbers = dict(one=1, two=2, three=3, four=4, five=5)"
   ]
  },
  {
   "cell_type": "code",
   "execution_count": 1332,
   "id": "c1fcf3c3-23fc-462e-a928-03ce37996e6e",
   "metadata": {},
   "outputs": [
    {
     "name": "stdout",
     "output_type": "stream",
     "text": [
      "{'one': 1, 'two': 2, 'three': 3, 'four': 4, 'five': 5}\n"
     ]
    }
   ],
   "source": [
    "print(numbers)"
   ]
  },
  {
   "cell_type": "markdown",
   "id": "d2878ce6-745a-4d8f-a0cc-9935e9dbe75d",
   "metadata": {},
   "source": [
    "### Accessing Dictionaries "
   ]
  },
  {
   "cell_type": "code",
   "execution_count": 1335,
   "id": "397bc86b-b24f-4bc7-9bf5-cc3f9d0cf90b",
   "metadata": {},
   "outputs": [
    {
     "data": {
      "text/plain": [
       "1"
      ]
     },
     "execution_count": 1335,
     "metadata": {},
     "output_type": "execute_result"
    }
   ],
   "source": [
    "numbers['one'] "
   ]
  },
  {
   "cell_type": "code",
   "execution_count": 1337,
   "id": "66d62fab-b9c1-46bd-a6b0-e9e2be22329f",
   "metadata": {},
   "outputs": [
    {
     "data": {
      "text/plain": [
       "['Lagos', 'Ogun ', 'Delta']"
      ]
     },
     "execution_count": 1337,
     "metadata": {},
     "output_type": "execute_result"
    }
   ],
   "source": [
    "restaurants_location['KFC'] "
   ]
  },
  {
   "cell_type": "code",
   "execution_count": 1339,
   "id": "3ade8aee-b2c3-4ec8-b998-7ad0e140c55e",
   "metadata": {},
   "outputs": [
    {
     "ename": "KeyError",
     "evalue": "'Kilmanjaroo'",
     "output_type": "error",
     "traceback": [
      "\u001b[0;31m---------------------------------------------------------------------------\u001b[0m",
      "\u001b[0;31mKeyError\u001b[0m                                  Traceback (most recent call last)",
      "Cell \u001b[0;32mIn[1339], line 1\u001b[0m\n\u001b[0;32m----> 1\u001b[0m \u001b[43mrestaurants_location\u001b[49m\u001b[43m[\u001b[49m\u001b[38;5;124;43m'\u001b[39;49m\u001b[38;5;124;43mKilmanjaroo\u001b[39;49m\u001b[38;5;124;43m'\u001b[39;49m\u001b[43m]\u001b[49m\n",
      "\u001b[0;31mKeyError\u001b[0m: 'Kilmanjaroo'"
     ]
    }
   ],
   "source": [
    "restaurants_location['Kilmanjaroo']"
   ]
  },
  {
   "cell_type": "code",
   "execution_count": 1341,
   "id": "d3cbed98-e085-4f1e-82c5-ba8d9ab2862f",
   "metadata": {},
   "outputs": [
    {
     "data": {
      "text/plain": [
       "False"
      ]
     },
     "execution_count": 1341,
     "metadata": {},
     "output_type": "execute_result"
    }
   ],
   "source": [
    "'Kilmanjaroo' in restaurants_location"
   ]
  },
  {
   "cell_type": "code",
   "execution_count": 1343,
   "id": "1e0c27a1-acd5-4ed8-a539-c73dd75671c6",
   "metadata": {},
   "outputs": [],
   "source": [
    "numbers_names = {0: 'Mayowa' ,1 : 'Sandra', 2: 'Andrew', 3: 'Abayomi'}"
   ]
  },
  {
   "cell_type": "code",
   "execution_count": 1345,
   "id": "5f1b3cd8-147d-4a05-96ac-f402fcf99549",
   "metadata": {},
   "outputs": [
    {
     "data": {
      "text/plain": [
       "'Mayowa'"
      ]
     },
     "execution_count": 1345,
     "metadata": {},
     "output_type": "execute_result"
    }
   ],
   "source": [
    "numbers_names[0]"
   ]
  },
  {
   "cell_type": "markdown",
   "id": "4dc9b29e-c6e7-42ec-a091-076cea0e6d63",
   "metadata": {},
   "source": [
    "### Dictionary Methods "
   ]
  },
  {
   "cell_type": "code",
   "execution_count": 1348,
   "id": "ff90b0d0-452f-48a1-ab8c-9ec4b9f1c7f1",
   "metadata": {},
   "outputs": [
    {
     "data": {
      "text/plain": [
       "['__class__',\n",
       " '__class_getitem__',\n",
       " '__contains__',\n",
       " '__delattr__',\n",
       " '__delitem__',\n",
       " '__dir__',\n",
       " '__doc__',\n",
       " '__eq__',\n",
       " '__format__',\n",
       " '__ge__',\n",
       " '__getattribute__',\n",
       " '__getitem__',\n",
       " '__gt__',\n",
       " '__hash__',\n",
       " '__init__',\n",
       " '__init_subclass__',\n",
       " '__ior__',\n",
       " '__iter__',\n",
       " '__le__',\n",
       " '__len__',\n",
       " '__lt__',\n",
       " '__ne__',\n",
       " '__new__',\n",
       " '__or__',\n",
       " '__reduce__',\n",
       " '__reduce_ex__',\n",
       " '__repr__',\n",
       " '__reversed__',\n",
       " '__ror__',\n",
       " '__setattr__',\n",
       " '__setitem__',\n",
       " '__sizeof__',\n",
       " '__str__',\n",
       " '__subclasshook__',\n",
       " 'clear',\n",
       " 'copy',\n",
       " 'fromkeys',\n",
       " 'get',\n",
       " 'items',\n",
       " 'keys',\n",
       " 'pop',\n",
       " 'popitem',\n",
       " 'setdefault',\n",
       " 'update',\n",
       " 'values']"
      ]
     },
     "execution_count": 1348,
     "metadata": {},
     "output_type": "execute_result"
    }
   ],
   "source": [
    "# To see the functionalities - Methods\n",
    "dir(restaurants_location)"
   ]
  },
  {
   "cell_type": "code",
   "execution_count": 1350,
   "id": "a514bac5-711a-4d37-8166-176e856a333f",
   "metadata": {},
   "outputs": [
    {
     "ename": "KeyError",
     "evalue": "'Kilmanjaroo'",
     "output_type": "error",
     "traceback": [
      "\u001b[0;31m---------------------------------------------------------------------------\u001b[0m",
      "\u001b[0;31mKeyError\u001b[0m                                  Traceback (most recent call last)",
      "Cell \u001b[0;32mIn[1350], line 2\u001b[0m\n\u001b[1;32m      1\u001b[0m \u001b[38;5;66;03m# Using the get method\u001b[39;00m\n\u001b[0;32m----> 2\u001b[0m \u001b[43mrestaurants_location\u001b[49m\u001b[43m[\u001b[49m\u001b[38;5;124;43m'\u001b[39;49m\u001b[38;5;124;43mKilmanjaroo\u001b[39;49m\u001b[38;5;124;43m'\u001b[39;49m\u001b[43m]\u001b[49m\n",
      "\u001b[0;31mKeyError\u001b[0m: 'Kilmanjaroo'"
     ]
    }
   ],
   "source": [
    "# Using the get method\n",
    "restaurants_location['Kilmanjaroo']"
   ]
  },
  {
   "cell_type": "code",
   "execution_count": 1352,
   "id": "842433de-2407-4db0-ac73-57fc3e22aebc",
   "metadata": {},
   "outputs": [
    {
     "name": "stdout",
     "output_type": "stream",
     "text": [
      "not found\n"
     ]
    }
   ],
   "source": [
    "print(restaurants_location.get('Kilmanjaroo', 'not found'))"
   ]
  },
  {
   "cell_type": "code",
   "execution_count": 1354,
   "id": "5a4f11a6-54cd-4b0a-ab17-d7d138df6b60",
   "metadata": {},
   "outputs": [
    {
     "data": {
      "text/plain": [
       "{0: 'Mayowa', 1: 'Sandra', 2: 'Andrew', 3: 'Abayomi'}"
      ]
     },
     "execution_count": 1354,
     "metadata": {},
     "output_type": "execute_result"
    }
   ],
   "source": [
    "numbers_names"
   ]
  },
  {
   "cell_type": "code",
   "execution_count": 1356,
   "id": "ec7cfadd-ccf5-42de-8a97-c101a26a16e1",
   "metadata": {},
   "outputs": [],
   "source": [
    "# Copy method\n",
    "\n",
    "copy_restaurants_location = restaurants_location.copy()"
   ]
  },
  {
   "cell_type": "code",
   "execution_count": 1358,
   "id": "ac0b0497-b93c-4869-aa6a-3b494ced50c2",
   "metadata": {},
   "outputs": [
    {
     "name": "stdout",
     "output_type": "stream",
     "text": [
      "{'Chicken Republic': ['Lagos', 'Kaduna', 'Ogun'], 'KFC': ['Lagos', 'Ogun ', 'Delta'], 'Chicken Man': ['Accra', 'Kumasi', 'Takoradi'], 'Festival de glace': ['Calavy', 'Tokpa', 'Pekadis']}\n"
     ]
    }
   ],
   "source": [
    "print(copy_restaurants_location)"
   ]
  },
  {
   "cell_type": "code",
   "execution_count": 1360,
   "id": "ceedcd15-60d4-4295-b6e5-c36656b443e6",
   "metadata": {},
   "outputs": [],
   "source": [
    "# Clear the method\n",
    "copy_restaurants_location.clear()"
   ]
  },
  {
   "cell_type": "code",
   "execution_count": 1362,
   "id": "73221d02-2d74-4b3a-82b3-e6a9b0cef6e9",
   "metadata": {},
   "outputs": [
    {
     "data": {
      "text/plain": [
       "{}"
      ]
     },
     "execution_count": 1362,
     "metadata": {},
     "output_type": "execute_result"
    }
   ],
   "source": [
    "copy_restaurants_location"
   ]
  },
  {
   "cell_type": "code",
   "execution_count": 1364,
   "id": "41fb9171-98d4-4c90-afcc-50cecc7543f8",
   "metadata": {},
   "outputs": [
    {
     "data": {
      "text/plain": [
       "{0: 'Mayowa', 1: 'Sandra', 2: 'Andrew', 3: 'Abayomi'}"
      ]
     },
     "execution_count": 1364,
     "metadata": {},
     "output_type": "execute_result"
    }
   ],
   "source": [
    "# Update method \n",
    "numbers_names"
   ]
  },
  {
   "cell_type": "code",
   "execution_count": 1366,
   "id": "91db651c-3eb7-4e8f-84a5-6e22c1ad1e04",
   "metadata": {},
   "outputs": [],
   "source": [
    "numbers_names.update([(4, 'Kehinde')])"
   ]
  },
  {
   "cell_type": "code",
   "execution_count": 1368,
   "id": "51762050-834a-4df7-8b4a-710bca1de2ec",
   "metadata": {},
   "outputs": [
    {
     "data": {
      "text/plain": [
       "{0: 'Mayowa', 1: 'Sandra', 2: 'Andrew', 3: 'Abayomi', 4: 'Kehinde'}"
      ]
     },
     "execution_count": 1368,
     "metadata": {},
     "output_type": "execute_result"
    }
   ],
   "source": [
    "numbers_names"
   ]
  },
  {
   "cell_type": "code",
   "execution_count": 1370,
   "id": "23d674ae-f76c-4c8e-b0a1-b1ec189c2abe",
   "metadata": {},
   "outputs": [
    {
     "data": {
      "text/plain": [
       "'Sandra'"
      ]
     },
     "execution_count": 1370,
     "metadata": {},
     "output_type": "execute_result"
    }
   ],
   "source": [
    "# pop method\n",
    "numbers_names.pop(1)"
   ]
  },
  {
   "cell_type": "code",
   "execution_count": 1372,
   "id": "fccfbad2-46d3-404b-b976-0405f6ffa7ac",
   "metadata": {},
   "outputs": [
    {
     "data": {
      "text/plain": [
       "'not found'"
      ]
     },
     "execution_count": 1372,
     "metadata": {},
     "output_type": "execute_result"
    }
   ],
   "source": [
    "numbers_names.pop(1, 'not found')"
   ]
  },
  {
   "cell_type": "code",
   "execution_count": 1374,
   "id": "0282cc66-97ef-4243-aeeb-fc7e32f0ac93",
   "metadata": {},
   "outputs": [
    {
     "data": {
      "text/plain": [
       "{0: 'Mayowa', 2: 'Andrew', 3: 'Abayomi', 4: 'Kehinde'}"
      ]
     },
     "execution_count": 1374,
     "metadata": {},
     "output_type": "execute_result"
    }
   ],
   "source": [
    "# popitem \n",
    "numbers_names"
   ]
  },
  {
   "cell_type": "code",
   "execution_count": 1376,
   "id": "618e04e6-1c62-4226-ad71-17972e95f8ff",
   "metadata": {},
   "outputs": [
    {
     "data": {
      "text/plain": [
       "(4, 'Kehinde')"
      ]
     },
     "execution_count": 1376,
     "metadata": {},
     "output_type": "execute_result"
    }
   ],
   "source": [
    "numbers_names.popitem()"
   ]
  },
  {
   "cell_type": "code",
   "execution_count": 1378,
   "id": "4326436d-f650-46af-962e-6b4f9fc98aad",
   "metadata": {},
   "outputs": [],
   "source": [
    "popped_item = numbers_names.popitem()"
   ]
  },
  {
   "cell_type": "code",
   "execution_count": 1380,
   "id": "4ad42d9a-bdd4-4ec5-b18d-0ba56901c393",
   "metadata": {},
   "outputs": [
    {
     "data": {
      "text/plain": [
       "(3, 'Abayomi')"
      ]
     },
     "execution_count": 1380,
     "metadata": {},
     "output_type": "execute_result"
    }
   ],
   "source": [
    "popped_item"
   ]
  },
  {
   "cell_type": "markdown",
   "id": "e9803ce2-3389-47ce-9bce-cf109ef910b4",
   "metadata": {},
   "source": [
    "### Modify a dictionary "
   ]
  },
  {
   "cell_type": "code",
   "execution_count": 1383,
   "id": "46a42a81-e661-4960-a237-92da0a1f043b",
   "metadata": {},
   "outputs": [],
   "source": [
    "numbers_names[5] = 'Chinonso' # modify a dictionary "
   ]
  },
  {
   "cell_type": "code",
   "execution_count": 1385,
   "id": "5bd34e62-00ea-4ef7-a911-ab8a7b3d9051",
   "metadata": {},
   "outputs": [
    {
     "data": {
      "text/plain": [
       "{0: 'Mayowa', 2: 'Andrew', 5: 'Chinonso'}"
      ]
     },
     "execution_count": 1385,
     "metadata": {},
     "output_type": "execute_result"
    }
   ],
   "source": [
    "numbers_names"
   ]
  },
  {
   "cell_type": "markdown",
   "id": "0f28afb9-566e-4b57-830a-8157077af14b",
   "metadata": {},
   "source": [
    "### Delete Items from a dictionary "
   ]
  },
  {
   "cell_type": "code",
   "execution_count": 1388,
   "id": "e1f019e5-5fb2-42e9-9a41-a986460fbcd6",
   "metadata": {},
   "outputs": [],
   "source": [
    "del numbers_names[0]"
   ]
  },
  {
   "cell_type": "code",
   "execution_count": 1390,
   "id": "d0c78b8d-9fef-4f28-9259-27310fa7aa81",
   "metadata": {},
   "outputs": [
    {
     "data": {
      "text/plain": [
       "{2: 'Andrew', 5: 'Chinonso'}"
      ]
     },
     "execution_count": 1390,
     "metadata": {},
     "output_type": "execute_result"
    }
   ],
   "source": [
    "numbers_names"
   ]
  },
  {
   "cell_type": "markdown",
   "id": "70fb9977-85bc-44cd-a188-951266f37105",
   "metadata": {},
   "source": [
    "### Looping through a dictionary "
   ]
  },
  {
   "cell_type": "code",
   "execution_count": 1393,
   "id": "d22668a6-4eed-4c44-ab43-d60e0587d14a",
   "metadata": {},
   "outputs": [
    {
     "name": "stdout",
     "output_type": "stream",
     "text": [
      "\n",
      "Key: 2\n",
      "Value: Andrew\n",
      "\n",
      "Key: 5\n",
      "Value: Chinonso\n"
     ]
    }
   ],
   "source": [
    "for key, value in numbers_names.items():\n",
    "    print(f\"\\nKey: {key}\")\n",
    "    print(f\"Value: {value}\")"
   ]
  },
  {
   "cell_type": "code",
   "execution_count": 1395,
   "id": "17c01fd0-4860-4f7e-afc0-64dbd7a5251d",
   "metadata": {},
   "outputs": [
    {
     "name": "stdout",
     "output_type": "stream",
     "text": [
      "2\n",
      "5\n"
     ]
    }
   ],
   "source": [
    "# Loop through the keys in a dictionary \n",
    "for key in numbers_names.keys():\n",
    "    print(key)"
   ]
  },
  {
   "cell_type": "code",
   "execution_count": 1397,
   "id": "c8543c15-a67a-4bd7-b96e-49c177f5e7b6",
   "metadata": {},
   "outputs": [
    {
     "name": "stdout",
     "output_type": "stream",
     "text": [
      "Andrew\n",
      "Chinonso\n"
     ]
    }
   ],
   "source": [
    "# Loop through the values in a dictionary \n",
    "for value in numbers_names.values():\n",
    "    print(value)"
   ]
  },
  {
   "cell_type": "code",
   "execution_count": 1399,
   "id": "6c29d163-f82a-4fc4-a412-0f9d44d57589",
   "metadata": {},
   "outputs": [
    {
     "name": "stderr",
     "output_type": "stream",
     "text": [
      "/Users/pablo/anaconda3/lib/python3.10/site-packages/IPython/core/displayhook.py:281: UserWarning: Output cache limit (currently 1000 entries) hit.\n",
      "Flushing oldest 200 entries.\n",
      "  warn('Output cache limit (currently {sz} entries) hit.\\n'\n"
     ]
    },
    {
     "data": {
      "text/plain": [
       "2"
      ]
     },
     "execution_count": 1399,
     "metadata": {},
     "output_type": "execute_result"
    }
   ],
   "source": [
    "# Question: How do I get the number of items in a dict\n",
    "len(numbers_names)"
   ]
  },
  {
   "cell_type": "code",
   "execution_count": 1401,
   "id": "964a7c74-92fc-4ab4-8654-394da776a8e3",
   "metadata": {},
   "outputs": [],
   "source": [
    "# Can we merge two dictionaries \n",
    "dict1 = {'a': 1, 'b': 2}\n",
    "dict2 = {'b': 3, 'c': 4}"
   ]
  },
  {
   "cell_type": "code",
   "execution_count": 1403,
   "id": "69b4fc12-c6ce-4e9b-9ba6-46ba9310e7a0",
   "metadata": {},
   "outputs": [],
   "source": [
    "dict1.update(dict2) # Using the update method overwrites an existing value"
   ]
  },
  {
   "cell_type": "code",
   "execution_count": 1405,
   "id": "e1e401c5-15cc-4b1c-af33-204fbb2e8544",
   "metadata": {},
   "outputs": [
    {
     "name": "stdout",
     "output_type": "stream",
     "text": [
      "{'a': 1, 'b': 3, 'c': 4}\n"
     ]
    }
   ],
   "source": [
    "print(dict1)"
   ]
  },
  {
   "cell_type": "code",
   "execution_count": 1407,
   "id": "6d83b320-0b78-4820-82db-0ae975678297",
   "metadata": {},
   "outputs": [],
   "source": [
    "dict1 = {'a': 1, 'b': 2}\n",
    "dict2 = {'b': 3, 'c': 4}"
   ]
  },
  {
   "cell_type": "code",
   "execution_count": 1409,
   "id": "3bbcd204-68c5-47e4-aed2-b8c35a71373a",
   "metadata": {},
   "outputs": [],
   "source": [
    "merge_dict = {**dict1, **dict2}"
   ]
  },
  {
   "cell_type": "code",
   "execution_count": 1411,
   "id": "80324d02-8e56-4856-99af-6c9d68449640",
   "metadata": {},
   "outputs": [
    {
     "data": {
      "text/plain": [
       "{'a': 1, 'b': 3, 'c': 4}"
      ]
     },
     "execution_count": 1411,
     "metadata": {},
     "output_type": "execute_result"
    }
   ],
   "source": [
    "merge_dict"
   ]
  },
  {
   "cell_type": "code",
   "execution_count": 1413,
   "id": "8ebd8bad-1344-4d70-b044-0dae1e4db769",
   "metadata": {},
   "outputs": [],
   "source": [
    "# merge_dict_1 = dict1 & dict2"
   ]
  },
  {
   "cell_type": "code",
   "execution_count": 1414,
   "id": "fcfc2d93-7431-4373-ac5e-6d641428c268",
   "metadata": {},
   "outputs": [],
   "source": [
    "merge_dict_2 = {** numbers_names, **restaurants_location}"
   ]
  },
  {
   "cell_type": "code",
   "execution_count": 1415,
   "id": "cd1967b2-fce3-4924-94c4-24d54b5b2698",
   "metadata": {},
   "outputs": [
    {
     "data": {
      "text/plain": [
       "{2: 'Andrew',\n",
       " 5: 'Chinonso',\n",
       " 'Chicken Republic': ['Lagos', 'Kaduna', 'Ogun'],\n",
       " 'KFC': ['Lagos', 'Ogun ', 'Delta'],\n",
       " 'Chicken Man': ['Accra', 'Kumasi', 'Takoradi'],\n",
       " 'Festival de glace': ['Calavy', 'Tokpa', 'Pekadis']}"
      ]
     },
     "execution_count": 1415,
     "metadata": {},
     "output_type": "execute_result"
    }
   ],
   "source": [
    "merge_dict_2"
   ]
  },
  {
   "cell_type": "markdown",
   "id": "d0260efb-fd99-4aea-8a31-7ce815d909cd",
   "metadata": {},
   "source": [
    "### Nesting"
   ]
  },
  {
   "cell_type": "code",
   "execution_count": 1420,
   "id": "0a7661c0-59de-4991-ad42-1c8513a5a02b",
   "metadata": {},
   "outputs": [
    {
     "data": {
      "text/plain": [
       "{'Chicken Republic': ['Lagos', 'Kaduna', 'Ogun'],\n",
       " 'KFC': ['Lagos', 'Ogun ', 'Delta'],\n",
       " 'Chicken Man': ['Accra', 'Kumasi', 'Takoradi'],\n",
       " 'Festival de glace': ['Calavy', 'Tokpa', 'Pekadis']}"
      ]
     },
     "execution_count": 1420,
     "metadata": {},
     "output_type": "execute_result"
    }
   ],
   "source": [
    "numbers_names\n",
    "restaurants_location"
   ]
  },
  {
   "cell_type": "code",
   "execution_count": 1422,
   "id": "9d7a3797-072c-422b-a60c-8e21a6f3de41",
   "metadata": {},
   "outputs": [],
   "source": [
    "# A list of dictionaries \n",
    "numbers_restaurants = [numbers_names, restaurants_location]"
   ]
  },
  {
   "cell_type": "code",
   "execution_count": 1424,
   "id": "57b1fadb-ebce-42a3-8e96-f65fc3c01f6a",
   "metadata": {},
   "outputs": [
    {
     "name": "stdout",
     "output_type": "stream",
     "text": [
      "{2: 'Andrew', 5: 'Chinonso'}\n",
      "{'Chicken Republic': ['Lagos', 'Kaduna', 'Ogun'], 'KFC': ['Lagos', 'Ogun ', 'Delta'], 'Chicken Man': ['Accra', 'Kumasi', 'Takoradi'], 'Festival de glace': ['Calavy', 'Tokpa', 'Pekadis']}\n"
     ]
    }
   ],
   "source": [
    "for dicts in numbers_restaurants:\n",
    "    print(dicts)"
   ]
  },
  {
   "cell_type": "code",
   "execution_count": 1426,
   "id": "ad44a8fd-b735-4e00-b25e-1f2f77435ca5",
   "metadata": {},
   "outputs": [],
   "source": [
    "# Dictionary inside a dictionary \n",
    "users = {\n",
    "'aeinstein': {\n",
    "'first': 'albert',\n",
    "'last': 'einstein',\n",
    "'location': 'princeton',\n",
    "},\n",
    "'mcurie': {\n",
    "'first': 'marie',\n",
    "'last': 'curie',\n",
    "'location': 'paris',\n",
    "},\n",
    "}"
   ]
  },
  {
   "cell_type": "code",
   "execution_count": 1428,
   "id": "05c294cb-d16c-4e7f-b6ae-098053c1e897",
   "metadata": {},
   "outputs": [
    {
     "data": {
      "text/plain": [
       "{'aeinstein': {'first': 'albert', 'last': 'einstein', 'location': 'princeton'},\n",
       " 'mcurie': {'first': 'marie', 'last': 'curie', 'location': 'paris'}}"
      ]
     },
     "execution_count": 1428,
     "metadata": {},
     "output_type": "execute_result"
    }
   ],
   "source": [
    "users"
   ]
  },
  {
   "cell_type": "markdown",
   "id": "f8dff857-9c18-4e4c-adf9-2c50c33692f8",
   "metadata": {},
   "source": [
    "### Python Sets"
   ]
  },
  {
   "cell_type": "code",
   "execution_count": 1431,
   "id": "7a79ca7c-270b-4643-9e8e-f6d8bfdd4cc0",
   "metadata": {},
   "outputs": [],
   "source": [
    "# Unordered  collection of distinct objects\n",
    "# They don't have element positions \n",
    "# They do not support indexing \n",
    "# They do not support slicing "
   ]
  },
  {
   "cell_type": "code",
   "execution_count": 1433,
   "id": "09b82e5e-6f3e-4eb6-9153-09aa499aeb89",
   "metadata": {},
   "outputs": [],
   "source": [
    "# Uniqueness \n",
    "# Mutability \n",
    "# Efficiency "
   ]
  },
  {
   "cell_type": "code",
   "execution_count": 1479,
   "id": "51c3e594-a67c-4239-917b-8ca85bdcc38b",
   "metadata": {},
   "outputs": [],
   "source": [
    "# Creating\n",
    "fruits = {'apple', 'banana', 'cherries'}"
   ]
  },
  {
   "cell_type": "code",
   "execution_count": 1481,
   "id": "fe1a8a7c-a60f-43d9-9e72-de590ee2829a",
   "metadata": {},
   "outputs": [
    {
     "data": {
      "text/plain": [
       "set"
      ]
     },
     "execution_count": 1481,
     "metadata": {},
     "output_type": "execute_result"
    }
   ],
   "source": [
    "type(fruits)"
   ]
  },
  {
   "cell_type": "code",
   "execution_count": 1483,
   "id": "303e7865-1d4a-4112-92f1-1b3a0be26f7c",
   "metadata": {},
   "outputs": [],
   "source": [
    "numbers_sets = set([1,2,3,4,4,4,4,5,5,5,5,6,6,7])"
   ]
  },
  {
   "cell_type": "code",
   "execution_count": 1485,
   "id": "e8038290-489f-4786-a95a-2479e8429c07",
   "metadata": {},
   "outputs": [
    {
     "name": "stdout",
     "output_type": "stream",
     "text": [
      "{1, 2, 3, 4, 5, 6, 7}\n"
     ]
    }
   ],
   "source": [
    "print(numbers_sets)"
   ]
  },
  {
   "cell_type": "code",
   "execution_count": 1487,
   "id": "e9c534ba-43df-4f86-ad10-ce9b286229a6",
   "metadata": {},
   "outputs": [
    {
     "data": {
      "text/plain": [
       "{1, 2, 3, 4, 5, 6, 7}"
      ]
     },
     "execution_count": 1487,
     "metadata": {},
     "output_type": "execute_result"
    }
   ],
   "source": [
    "numbers_sets"
   ]
  },
  {
   "cell_type": "code",
   "execution_count": 1489,
   "id": "cd43af42-9191-42b8-94a4-a3ab0af2d1e1",
   "metadata": {},
   "outputs": [],
   "source": [
    "numbers_sets1 = set([77,55,11,34,90,45,67,54])"
   ]
  },
  {
   "cell_type": "code",
   "execution_count": 1491,
   "id": "2ff7d761-b6f9-422b-8285-6faf901ffb3b",
   "metadata": {},
   "outputs": [
    {
     "data": {
      "text/plain": [
       "{11, 34, 45, 54, 55, 67, 77, 90}"
      ]
     },
     "execution_count": 1491,
     "metadata": {},
     "output_type": "execute_result"
    }
   ],
   "source": [
    "numbers_sets1"
   ]
  },
  {
   "cell_type": "code",
   "execution_count": 1493,
   "id": "d30fbe1b-3544-43a8-8915-2e9a05bc4384",
   "metadata": {},
   "outputs": [],
   "source": [
    "# Add elements to sets\n",
    "fruits.add('orange')"
   ]
  },
  {
   "cell_type": "code",
   "execution_count": 1495,
   "id": "8b0a083d-6219-4436-9c07-4e683ecaa644",
   "metadata": {},
   "outputs": [
    {
     "data": {
      "text/plain": [
       "{'apple', 'banana', 'cherries', 'orange'}"
      ]
     },
     "execution_count": 1495,
     "metadata": {},
     "output_type": "execute_result"
    }
   ],
   "source": [
    "fruits"
   ]
  },
  {
   "cell_type": "code",
   "execution_count": 1497,
   "id": "a354846b-663c-4c0a-9a20-76d77b0e9a17",
   "metadata": {},
   "outputs": [],
   "source": [
    "# Remove elements \n",
    "fruits.remove('orange')"
   ]
  },
  {
   "cell_type": "code",
   "execution_count": 1499,
   "id": "73054a60-f584-4216-a592-80d420ca67aa",
   "metadata": {},
   "outputs": [
    {
     "data": {
      "text/plain": [
       "{'apple', 'banana', 'cherries'}"
      ]
     },
     "execution_count": 1499,
     "metadata": {},
     "output_type": "execute_result"
    }
   ],
   "source": [
    "fruits"
   ]
  },
  {
   "cell_type": "code",
   "execution_count": 1501,
   "id": "784f34bf-44bc-4085-b9dd-4fbecbfbfbe6",
   "metadata": {},
   "outputs": [
    {
     "ename": "KeyError",
     "evalue": "'pear'",
     "output_type": "error",
     "traceback": [
      "\u001b[0;31m---------------------------------------------------------------------------\u001b[0m",
      "\u001b[0;31mKeyError\u001b[0m                                  Traceback (most recent call last)",
      "Cell \u001b[0;32mIn[1501], line 1\u001b[0m\n\u001b[0;32m----> 1\u001b[0m \u001b[43mfruits\u001b[49m\u001b[38;5;241;43m.\u001b[39;49m\u001b[43mremove\u001b[49m\u001b[43m(\u001b[49m\u001b[38;5;124;43m'\u001b[39;49m\u001b[38;5;124;43mpear\u001b[39;49m\u001b[38;5;124;43m'\u001b[39;49m\u001b[43m)\u001b[49m\n",
      "\u001b[0;31mKeyError\u001b[0m: 'pear'"
     ]
    }
   ],
   "source": [
    "fruits.remove('pear')"
   ]
  },
  {
   "cell_type": "code",
   "execution_count": 1503,
   "id": "ef4f533f-c3a1-46ca-b018-792980ebc1a6",
   "metadata": {},
   "outputs": [],
   "source": [
    "fruits.discard('pear')"
   ]
  },
  {
   "cell_type": "code",
   "execution_count": 1505,
   "id": "07746ac3-c36a-4710-8bb8-d89297c18916",
   "metadata": {},
   "outputs": [],
   "source": [
    "# Delete or clear a set\n",
    "numbers_sets1.clear()"
   ]
  },
  {
   "cell_type": "code",
   "execution_count": 1507,
   "id": "c113dd52-3ed9-4d2e-aa7b-310fc6e3930c",
   "metadata": {},
   "outputs": [
    {
     "data": {
      "text/plain": [
       "set()"
      ]
     },
     "execution_count": 1507,
     "metadata": {},
     "output_type": "execute_result"
    }
   ],
   "source": [
    "numbers_sets1"
   ]
  },
  {
   "cell_type": "code",
   "execution_count": 1509,
   "id": "7e6f8e40-294c-4ef2-bfc6-94dca5b5b980",
   "metadata": {},
   "outputs": [],
   "source": [
    "del numbers_sets1"
   ]
  },
  {
   "cell_type": "code",
   "execution_count": 1513,
   "id": "e7ab02f5-1ea1-4dd5-a869-351f0ad3bddb",
   "metadata": {},
   "outputs": [],
   "source": [
    "#numbers_sets1"
   ]
  },
  {
   "cell_type": "code",
   "execution_count": 1515,
   "id": "e752b8b3-bf55-4b01-847d-afb0762f696c",
   "metadata": {},
   "outputs": [
    {
     "data": {
      "text/plain": [
       "{1, 2, 3, 4, 5, 6, 7}"
      ]
     },
     "execution_count": 1515,
     "metadata": {},
     "output_type": "execute_result"
    }
   ],
   "source": [
    "numbers_sets"
   ]
  },
  {
   "cell_type": "code",
   "execution_count": 1517,
   "id": "81c5d9d7-9478-4610-982d-ce4508435d04",
   "metadata": {},
   "outputs": [],
   "source": [
    "numbers_sets_tuples = tuple(numbers_sets)"
   ]
  },
  {
   "cell_type": "code",
   "execution_count": 1519,
   "id": "e9994cf9-fe67-42fc-93a4-2d24c9ef2ca0",
   "metadata": {},
   "outputs": [
    {
     "data": {
      "text/plain": [
       "tuple"
      ]
     },
     "execution_count": 1519,
     "metadata": {},
     "output_type": "execute_result"
    }
   ],
   "source": [
    "type(numbers_sets_tuples)"
   ]
  },
  {
   "cell_type": "code",
   "execution_count": 1521,
   "id": "6a04268a-b6e6-4647-b98a-ed8bdb9769e3",
   "metadata": {},
   "outputs": [
    {
     "data": {
      "text/plain": [
       "{'a': 1, 'b': 2}"
      ]
     },
     "execution_count": 1521,
     "metadata": {},
     "output_type": "execute_result"
    }
   ],
   "source": [
    "# Can we cast dictionaries to tuples\n",
    "dict1"
   ]
  },
  {
   "cell_type": "code",
   "execution_count": 1523,
   "id": "0bddce27-ab2f-4704-891f-d884d9f9b649",
   "metadata": {},
   "outputs": [],
   "source": [
    "dict1_tuple = tuple(dict1.values())"
   ]
  },
  {
   "cell_type": "code",
   "execution_count": 1525,
   "id": "0af0a224-b1af-482e-b943-dbe793727d2d",
   "metadata": {},
   "outputs": [
    {
     "data": {
      "text/plain": [
       "(1, 2)"
      ]
     },
     "execution_count": 1525,
     "metadata": {},
     "output_type": "execute_result"
    }
   ],
   "source": [
    "dict1_tuple"
   ]
  },
  {
   "cell_type": "markdown",
   "id": "a525a894-20ab-446c-9799-bb9807f52fef",
   "metadata": {},
   "source": [
    "### Set Operations"
   ]
  },
  {
   "cell_type": "code",
   "execution_count": null,
   "id": "44bc880f-3a88-4691-8e6e-34f6012d808b",
   "metadata": {},
   "outputs": [],
   "source": [
    "# union() - combines two sets and returns a new set\n",
    "# intersection() - Returns a new set with the common elements \n",
    "# between the two sets\n",
    "# difference() - Returns a new set with elements that are not in the other set"
   ]
  },
  {
   "cell_type": "code",
   "execution_count": 1553,
   "id": "bcc91a0e-adf1-4057-9b63-323cb1dac03d",
   "metadata": {},
   "outputs": [],
   "source": [
    "# Union operation\n",
    "first_set_names = {'Oluwatosin', 'Cynthia', 'Abayomi', 'Kazeem', 'Prince'} "
   ]
  },
  {
   "cell_type": "code",
   "execution_count": 1555,
   "id": "c9ec60f6-db57-4a20-bc92-333e315bd96a",
   "metadata": {},
   "outputs": [
    {
     "data": {
      "text/plain": [
       "{'Abayomi', 'Cynthia', 'Kazeem', 'Oluwatosin', 'Prince'}"
      ]
     },
     "execution_count": 1555,
     "metadata": {},
     "output_type": "execute_result"
    }
   ],
   "source": [
    "first_set_names"
   ]
  },
  {
   "cell_type": "code",
   "execution_count": 1557,
   "id": "c7580a79-36b8-4418-b836-136cba3e0d53",
   "metadata": {},
   "outputs": [],
   "source": [
    "second_set_names = {'Opeyemi', 'Sandra', 'Prince', 'Folusho', 'Abayomi'}"
   ]
  },
  {
   "cell_type": "code",
   "execution_count": 1559,
   "id": "7f9a3541-3b20-401b-a995-68f1f8d9a3dd",
   "metadata": {},
   "outputs": [],
   "source": [
    "all_sets_names = first_set_names.union(second_set_names)"
   ]
  },
  {
   "cell_type": "code",
   "execution_count": 1561,
   "id": "0deaf477-2a88-49d6-932a-896d3aabee38",
   "metadata": {},
   "outputs": [
    {
     "data": {
      "text/plain": [
       "{'Abayomi',\n",
       " 'Cynthia',\n",
       " 'Folusho',\n",
       " 'Kazeem',\n",
       " 'Oluwatosin',\n",
       " 'Opeyemi',\n",
       " 'Prince',\n",
       " 'Sandra'}"
      ]
     },
     "execution_count": 1561,
     "metadata": {},
     "output_type": "execute_result"
    }
   ],
   "source": [
    "all_sets_names"
   ]
  },
  {
   "cell_type": "code",
   "execution_count": 1563,
   "id": "7cfd1dc7-0f6e-479b-8d86-abfc18563e17",
   "metadata": {},
   "outputs": [],
   "source": [
    "# Intersection \n",
    "intersect_set_names = first_set_names.intersection(second_set_names)"
   ]
  },
  {
   "cell_type": "code",
   "execution_count": 1565,
   "id": "a821e0bf-60f4-4caf-a574-742a73f59f90",
   "metadata": {},
   "outputs": [
    {
     "data": {
      "text/plain": [
       "{'Abayomi', 'Prince'}"
      ]
     },
     "execution_count": 1565,
     "metadata": {},
     "output_type": "execute_result"
    }
   ],
   "source": [
    "intersect_set_names"
   ]
  },
  {
   "cell_type": "code",
   "execution_count": 1567,
   "id": "0d28b9f2-3c17-43df-81f8-9f8ffa286cc8",
   "metadata": {},
   "outputs": [],
   "source": [
    "# Difference \n",
    "diff_sets_names = first_set_names.difference(second_set_names)"
   ]
  },
  {
   "cell_type": "code",
   "execution_count": 1569,
   "id": "21665673-418a-4162-9440-27f05a724fb5",
   "metadata": {},
   "outputs": [
    {
     "data": {
      "text/plain": [
       "{'Cynthia', 'Kazeem', 'Oluwatosin'}"
      ]
     },
     "execution_count": 1569,
     "metadata": {},
     "output_type": "execute_result"
    }
   ],
   "source": [
    "diff_sets_names"
   ]
  },
  {
   "cell_type": "markdown",
   "id": "e5b89e20-449d-4552-a4d4-c8d0dee0724b",
   "metadata": {},
   "source": [
    "### Input function "
   ]
  },
  {
   "cell_type": "code",
   "execution_count": 1,
   "id": "36f4f322-80bb-40a4-99b5-39f5d4ee0a36",
   "metadata": {},
   "outputs": [],
   "source": [
    "# An input function makes it possible to accept user inputs"
   ]
  },
  {
   "cell_type": "code",
   "execution_count": 3,
   "id": "1c204180-4f72-4ce7-8a3f-e743e1f13713",
   "metadata": {},
   "outputs": [
    {
     "name": "stdin",
     "output_type": "stream",
     "text": [
      "Tell me something, and I will repeat it back to you:  Sometimes \n"
     ]
    },
    {
     "name": "stdout",
     "output_type": "stream",
     "text": [
      "Sometimes \n"
     ]
    }
   ],
   "source": [
    "# Simple input function \n",
    "message = input(\"Tell me something, and I will repeat it back to you: \") \n",
    "print(message)"
   ]
  },
  {
   "cell_type": "code",
   "execution_count": 4,
   "id": "3f8bd319-0010-438a-af80-ba86e0095b7c",
   "metadata": {},
   "outputs": [],
   "source": [
    "# Break it down:\n",
    "# It takes one argument - the prompt \n",
    "# The program will wait for an input"
   ]
  },
  {
   "cell_type": "code",
   "execution_count": 5,
   "id": "96447355-8286-4b8d-bf77-c5dc3048564f",
   "metadata": {
    "scrolled": true
   },
   "outputs": [
    {
     "name": "stdin",
     "output_type": "stream",
     "text": [
      "Please enter your name:  Pablo\n"
     ]
    },
    {
     "name": "stdout",
     "output_type": "stream",
     "text": [
      "\n",
      "Hello, Pablo!\n"
     ]
    }
   ],
   "source": [
    "# Write clear prompts \n",
    "name = input(\"Please enter your name: \")\n",
    "print(f\"\\nHello, {name}!\") # f-strings make for readability "
   ]
  },
  {
   "cell_type": "code",
   "execution_count": 6,
   "id": "181d5f0e-2485-48f3-954b-af02f255d4ad",
   "metadata": {},
   "outputs": [
    {
     "name": "stdin",
     "output_type": "stream",
     "text": [
      "How old are you?  21\n"
     ]
    }
   ],
   "source": [
    "# User inputs default output is a string \n",
    "age = input(\"How old are you? \")"
   ]
  },
  {
   "cell_type": "code",
   "execution_count": 11,
   "id": "c83f7b09-2b15-4196-b43a-5188df3e0a94",
   "metadata": {},
   "outputs": [
    {
     "data": {
      "text/plain": [
       "str"
      ]
     },
     "execution_count": 11,
     "metadata": {},
     "output_type": "execute_result"
    }
   ],
   "source": [
    "type(age)"
   ]
  },
  {
   "cell_type": "code",
   "execution_count": 13,
   "id": "c81b8b3c-6816-4ec0-ae50-c084b3f4b67b",
   "metadata": {},
   "outputs": [
    {
     "ename": "TypeError",
     "evalue": "'>=' not supported between instances of 'str' and 'int'",
     "output_type": "error",
     "traceback": [
      "\u001b[0;31m---------------------------------------------------------------------------\u001b[0m",
      "\u001b[0;31mTypeError\u001b[0m                                 Traceback (most recent call last)",
      "Cell \u001b[0;32mIn[13], line 1\u001b[0m\n\u001b[0;32m----> 1\u001b[0m age \u001b[38;5;241m>\u001b[39m\u001b[38;5;241m=\u001b[39m \u001b[38;5;241m18\u001b[39m\n",
      "\u001b[0;31mTypeError\u001b[0m: '>=' not supported between instances of 'str' and 'int'"
     ]
    }
   ],
   "source": [
    "age >= 18 # using a comparison operator"
   ]
  },
  {
   "cell_type": "code",
   "execution_count": 15,
   "id": "a3fb3f49-e8fb-489c-a38b-2e8d3bb08d55",
   "metadata": {},
   "outputs": [
    {
     "name": "stdin",
     "output_type": "stream",
     "text": [
      "How old are you? #Age has to be in months  21\n"
     ]
    }
   ],
   "source": [
    "# Use the int() to accept numerical inputs\n",
    "age = input(\"How old are you? #Age has to be in months \")\n",
    "age = int(age)"
   ]
  },
  {
   "cell_type": "code",
   "execution_count": 17,
   "id": "b824eb92-62c7-4c89-9c42-76f594901596",
   "metadata": {},
   "outputs": [
    {
     "data": {
      "text/plain": [
       "int"
      ]
     },
     "execution_count": 17,
     "metadata": {},
     "output_type": "execute_result"
    }
   ],
   "source": [
    "type(age)"
   ]
  },
  {
   "cell_type": "code",
   "execution_count": 19,
   "id": "7dafca78-2681-4211-9c12-2607acd6708c",
   "metadata": {},
   "outputs": [
    {
     "data": {
      "text/plain": [
       "True"
      ]
     },
     "execution_count": 19,
     "metadata": {},
     "output_type": "execute_result"
    }
   ],
   "source": [
    "age >= 19"
   ]
  },
  {
   "cell_type": "code",
   "execution_count": 21,
   "id": "8227b46d-a63e-4c20-ba0d-16bd7ebb4edd",
   "metadata": {},
   "outputs": [
    {
     "data": {
      "text/plain": [
       "1"
      ]
     },
     "execution_count": 21,
     "metadata": {},
     "output_type": "execute_result"
    }
   ],
   "source": [
    "# The modulo operator %\n",
    "4 % 3"
   ]
  },
  {
   "cell_type": "code",
   "execution_count": 23,
   "id": "75fdac25-86f2-4612-a9ad-c70c6f18a037",
   "metadata": {},
   "outputs": [
    {
     "data": {
      "text/plain": [
       "1"
      ]
     },
     "execution_count": 23,
     "metadata": {},
     "output_type": "execute_result"
    }
   ],
   "source": [
    "10 % 3"
   ]
  },
  {
   "cell_type": "code",
   "execution_count": 25,
   "id": "5e3b741e-45fd-4616-b3d8-4f8402e66ac7",
   "metadata": {},
   "outputs": [
    {
     "name": "stdin",
     "output_type": "stream",
     "text": [
      "Enter a number, and I'll tell you if it's even or odd:  23\n"
     ]
    },
    {
     "name": "stdout",
     "output_type": "stream",
     "text": [
      "\n",
      "The number 23 is odd.\n"
     ]
    }
   ],
   "source": [
    "number = input(\"Enter a number, and I'll tell you if it's even or odd: \")\n",
    "number = int(number)\n",
    "\n",
    "if number % 2 == 0: \n",
    "    print(f\"\\nThe number {number} is even.\")\n",
    "else:\n",
    "    print(f\"\\nThe number {number} is odd.\")"
   ]
  },
  {
   "cell_type": "code",
   "execution_count": 27,
   "id": "9e589f5f-04a0-4ae7-87ab-9723f42c2ee7",
   "metadata": {},
   "outputs": [
    {
     "name": "stdin",
     "output_type": "stream",
     "text": [
      "How many people are in your dinner party tonight?  89\n"
     ]
    },
    {
     "name": "stdout",
     "output_type": "stream",
     "text": [
      "\n",
      "I'm sorry, you'll have to wait for a table\n"
     ]
    }
   ],
   "source": [
    "party_size = input(\"How many people are in your dinner party tonight? \")\n",
    "party_size = int(party_size)\n",
    "\n",
    "if party_size > 8:\n",
    "    print(\"\\nI'm sorry, you'll have to wait for a table\")\n",
    "else:\n",
    "    print(\"\\nYour table is ready\")"
   ]
  },
  {
   "cell_type": "markdown",
   "id": "9b517c21-c079-4404-9dd5-8edd40831300",
   "metadata": {},
   "source": [
    "### The while loop"
   ]
  },
  {
   "cell_type": "code",
   "execution_count": 29,
   "id": "545ee73d-35ad-41c7-88a6-cf68a3cbc8ab",
   "metadata": {},
   "outputs": [],
   "source": [
    "# for loop: executes a block code for each item in a collection\n",
    "# while loop: it runs as long as or while a specific condition is True"
   ]
  },
  {
   "cell_type": "code",
   "execution_count": 31,
   "id": "7e0a2f1c-8055-43d7-9766-0887ea410e1c",
   "metadata": {},
   "outputs": [
    {
     "name": "stdout",
     "output_type": "stream",
     "text": [
      "1\n",
      "2\n",
      "3\n",
      "4\n",
      "5\n"
     ]
    }
   ],
   "source": [
    "# Simple while loop\n",
    "current_number = 1\n",
    "while current_number <= 5:\n",
    "    print(current_number)\n",
    "    current_number += 1"
   ]
  },
  {
   "cell_type": "code",
   "execution_count": 35,
   "id": "71108edc-b4fb-4643-ac74-642eadb1ced6",
   "metadata": {},
   "outputs": [
    {
     "name": "stdin",
     "output_type": "stream",
     "text": [
      "\n",
      "Tell me something, and I'll repeat it back to you\n",
      "Enter 'quit' to end the program. quit\n"
     ]
    },
    {
     "name": "stdout",
     "output_type": "stream",
     "text": [
      "quit\n"
     ]
    }
   ],
   "source": [
    "# input function and while loop\n",
    "prompt = \"\\nTell me something, and I'll repeat it back to you\"\n",
    "prompt += \"\\nEnter 'quit' to end the program.\"\n",
    "\n",
    "message = \"\"\n",
    "while message != 'quit':\n",
    "    message = input(prompt)\n",
    "    print(message)"
   ]
  },
  {
   "cell_type": "code",
   "execution_count": 51,
   "id": "d850cf62-05d5-431e-a1cc-c22f247ab724",
   "metadata": {},
   "outputs": [
    {
     "name": "stdin",
     "output_type": "stream",
     "text": [
      "\n",
      "Please enter the name of a city you have visited: \n",
      "(Enter 'quit' when you are finished.)  Kaduna\n"
     ]
    },
    {
     "name": "stdout",
     "output_type": "stream",
     "text": [
      "I'd love to go to Kaduna!\n"
     ]
    },
    {
     "name": "stdin",
     "output_type": "stream",
     "text": [
      "\n",
      "Please enter the name of a city you have visited: \n",
      "(Enter 'quit' when you are finished.)  Nnewi\n"
     ]
    },
    {
     "name": "stdout",
     "output_type": "stream",
     "text": [
      "I'd love to go to Nnewi!\n"
     ]
    },
    {
     "name": "stdin",
     "output_type": "stream",
     "text": [
      "\n",
      "Please enter the name of a city you have visited: \n",
      "(Enter 'quit' when you are finished.)  quit\n"
     ]
    }
   ],
   "source": [
    "# Use break statement to exit a loop\n",
    "prompt = \"\\nPlease enter the name of a city you have visited: \"\n",
    "prompt += \"\\n(Enter 'quit' when you are finished.) \" \n",
    "\n",
    "while True:\n",
    "    city = input(prompt)\n",
    "\n",
    "    if city == 'quit':\n",
    "        break\n",
    "    else:\n",
    "        print(f\"I'd love to go to {city.title()}!\")"
   ]
  },
  {
   "cell_type": "code",
   "execution_count": 45,
   "id": "80f26713-466e-4669-89fa-c4df2972d2d3",
   "metadata": {},
   "outputs": [],
   "source": [
    "# Use case\n",
    "def get_float_input(prompt):\n",
    "    while True:\n",
    "        user_input = input(prompt)\n",
    "        try:\n",
    "            # Attempt to convert the input to a float\n",
    "            float_value = float(user_input)\n",
    "            return float_value\n",
    "        except ValueError:\n",
    "            # Handle the error\n",
    "            print(\"Invalid input. Please enter a valid floating point number\")"
   ]
  },
  {
   "cell_type": "code",
   "execution_count": 49,
   "id": "c60f7b8f-0931-4607-b644-60d5724134c1",
   "metadata": {},
   "outputs": [
    {
     "name": "stdin",
     "output_type": "stream",
     "text": [
      "Please enter a floating point number:  enter\n"
     ]
    },
    {
     "name": "stdout",
     "output_type": "stream",
     "text": [
      "Invalid input. Please enter a valid floating point number\n"
     ]
    },
    {
     "name": "stdin",
     "output_type": "stream",
     "text": [
      "Please enter a floating point number:  floats\n"
     ]
    },
    {
     "name": "stdout",
     "output_type": "stream",
     "text": [
      "Invalid input. Please enter a valid floating point number\n"
     ]
    },
    {
     "name": "stdin",
     "output_type": "stream",
     "text": [
      "Please enter a floating point number:  8.9\n"
     ]
    },
    {
     "name": "stdout",
     "output_type": "stream",
     "text": [
      "You entered: 8.9\n"
     ]
    }
   ],
   "source": [
    "# Use the example\n",
    "user_float = get_float_input(\"Please enter a floating point number: \")\n",
    "print(f\"You entered: {user_float}\")"
   ]
  },
  {
   "cell_type": "code",
   "execution_count": 67,
   "id": "0f99d0da-07c6-4e2f-be08-763d27fb2177",
   "metadata": {},
   "outputs": [
    {
     "name": "stdout",
     "output_type": "stream",
     "text": [
      "1\n",
      "3\n",
      "5\n",
      "7\n",
      "9\n"
     ]
    }
   ],
   "source": [
    "# Continue statement\n",
    "# Rather than break out of a loop entirely,\n",
    "# The continue statement returns to the beginning of the loop\n",
    "# Based on the existing conditional statement.\n",
    "current_number = 0\n",
    "while current_number < 10:\n",
    "    current_number += 1\n",
    "    if current_number % 2 == 0:\n",
    "        #break\n",
    "        continue\n",
    "    print(current_number)"
   ]
  },
  {
   "cell_type": "code",
   "execution_count": null,
   "id": "cfeb30d9-2dbd-4096-bc72-9e596b9ba4a7",
   "metadata": {},
   "outputs": [],
   "source": [
    "# Summary \n",
    "# input() - Allows users to provide their own information \n",
    "# With input functions, you can work with text and numbers(int)\n",
    "# while loop - program runs as long as the condition is true\n",
    "# break and continue - exit loop and continue in a loop"
   ]
  },
  {
   "cell_type": "code",
   "execution_count": null,
   "id": "b4c9d723-81cb-4396-a50b-030436a5cfb0",
   "metadata": {},
   "outputs": [],
   "source": []
  },
  {
   "cell_type": "markdown",
   "id": "b8f49171-efa6-4c3c-b043-c8db878119a1",
   "metadata": {},
   "source": [
    "### Python Functions"
   ]
  },
  {
   "cell_type": "code",
   "execution_count": 1,
   "id": "8bbd79e9-951d-45af-ba7e-3411bc84fc00",
   "metadata": {},
   "outputs": [],
   "source": [
    "# Python functions are reusable pieces of code \n",
    "# Python functions allow you to break your program into small parts,\n",
    "# each of which does a specific job"
   ]
  },
  {
   "cell_type": "code",
   "execution_count": 3,
   "id": "8899f5c7-2ea9-47d2-97bb-c37e41874239",
   "metadata": {},
   "outputs": [],
   "source": [
    "# If you find your self writing the same code twice. - You need a function"
   ]
  },
  {
   "cell_type": "code",
   "execution_count": 4,
   "id": "76a6008b-822e-4189-95ea-960f7f6f57f2",
   "metadata": {},
   "outputs": [],
   "source": [
    "# Create a simple function for salutation\n",
    "# 1. Use the def keyword\n",
    "# 2. The name of the function\n",
    "# 3. My parameter symbol(optionally, it can have a parameter)\n",
    "# 4. colon ':' - for indenting the code - code block\n",
    "# 5. Optional(input a documentation)\n",
    "# 6. Block of code - the specific task\n",
    "# 7. Function call"
   ]
  },
  {
   "cell_type": "code",
   "execution_count": 39,
   "id": "c84cc27b-c5d7-4278-b3cd-4aa7196d2440",
   "metadata": {},
   "outputs": [],
   "source": [
    "# Code - 1st function \n",
    "def greeter():\n",
    "    \"\"\" Displays a simple greeting. \"\"\"\n",
    "    # This is for greeting each other\n",
    "    print(\"Hello!\")"
   ]
  },
  {
   "cell_type": "code",
   "execution_count": 41,
   "id": "afb58a78-0ec2-4866-a12b-60bb8a2fa507",
   "metadata": {},
   "outputs": [
    {
     "name": "stdout",
     "output_type": "stream",
     "text": [
      "Hello!\n"
     ]
    }
   ],
   "source": [
    "greeter() # Calling a function"
   ]
  },
  {
   "cell_type": "code",
   "execution_count": 11,
   "id": "52514cc2-8442-4daa-b792-0f95ee3cbb85",
   "metadata": {},
   "outputs": [],
   "source": [
    "# Python has built-in functions\n",
    "# sum, print "
   ]
  },
  {
   "cell_type": "code",
   "execution_count": 13,
   "id": "06f1afb3-1d63-446e-8c54-a22a6d433cc0",
   "metadata": {},
   "outputs": [],
   "source": [
    "# 2nd function \n",
    "# Pass information into a function."
   ]
  },
  {
   "cell_type": "code",
   "execution_count": 43,
   "id": "e2f72719-a915-4e5d-af6a-5f51c4b67707",
   "metadata": {},
   "outputs": [],
   "source": [
    "# Code\n",
    "def greet_name(name): # added a parameter\n",
    "    \"\"\" Displays a simple greeting. \"\"\"\n",
    "    # This is for greeting each other\n",
    "    print(f\"Hello, {name.title()}. How are you?\")"
   ]
  },
  {
   "cell_type": "code",
   "execution_count": 45,
   "id": "d821ad85-c918-4993-86fd-816ad2d469b0",
   "metadata": {},
   "outputs": [
    {
     "name": "stdout",
     "output_type": "stream",
     "text": [
      "Hello!\n"
     ]
    }
   ],
   "source": [
    "# function call\n",
    "greeter()"
   ]
  },
  {
   "cell_type": "code",
   "execution_count": 47,
   "id": "327069ea-a352-46b8-a4bb-714d9c5cb0af",
   "metadata": {},
   "outputs": [
    {
     "ename": "TypeError",
     "evalue": "greet_name() missing 1 required positional argument: 'name'",
     "output_type": "error",
     "traceback": [
      "\u001b[0;31m---------------------------------------------------------------------------\u001b[0m",
      "\u001b[0;31mTypeError\u001b[0m                                 Traceback (most recent call last)",
      "Cell \u001b[0;32mIn[47], line 1\u001b[0m\n\u001b[0;32m----> 1\u001b[0m greet_name()\n",
      "\u001b[0;31mTypeError\u001b[0m: greet_name() missing 1 required positional argument: 'name'"
     ]
    }
   ],
   "source": [
    "greet_name() # without an argument"
   ]
  },
  {
   "cell_type": "code",
   "execution_count": 49,
   "id": "2abb04aa-aeba-4f25-b440-6eeb38adc4d3",
   "metadata": {},
   "outputs": [
    {
     "name": "stdout",
     "output_type": "stream",
     "text": [
      "Hello, Prince. How are you?\n"
     ]
    }
   ],
   "source": [
    "# function call\n",
    "greet_name(\"Prince\") # With an argument "
   ]
  },
  {
   "cell_type": "markdown",
   "id": "39f6a45e-9175-4714-b7c2-297faf45125a",
   "metadata": {},
   "source": [
    "### Arguments & Parameters "
   ]
  },
  {
   "cell_type": "code",
   "execution_count": 24,
   "id": "967cd88d-f6a5-4fca-bc93-c02038d0a5df",
   "metadata": {},
   "outputs": [],
   "source": [
    "# The function greet_name(name) - name is the Parameter\n",
    "# At the function call - \"Prince\" is an argument "
   ]
  },
  {
   "cell_type": "code",
   "execution_count": 26,
   "id": "0370f450-6e53-4c6a-bf29-28b6c2d50074",
   "metadata": {},
   "outputs": [],
   "source": [
    "# A function definition can have multiple parameters\n",
    "# You can pass in multiple arguments "
   ]
  },
  {
   "cell_type": "markdown",
   "id": "24359354-4c8e-4570-8c3c-d03921dd95ff",
   "metadata": {},
   "source": [
    "### Positional arguments"
   ]
  },
  {
   "cell_type": "code",
   "execution_count": 51,
   "id": "e43d4852-6567-49b5-9b70-e225220c5748",
   "metadata": {},
   "outputs": [],
   "source": [
    "def describe_mypet(animal_type, name_pet): # two parameters\n",
    "    \"\"\" Display the information about a pet. \"\"\"\n",
    "    print(f\"\\nI have a {animal_type}.\")\n",
    "    print(f\"My {animal_type}'s name is {name_pet.title()}.\")"
   ]
  },
  {
   "cell_type": "code",
   "execution_count": 53,
   "id": "367f167b-e2ca-4bec-a4c2-7d68972fe825",
   "metadata": {},
   "outputs": [
    {
     "name": "stdout",
     "output_type": "stream",
     "text": [
      "\n",
      "I have a Cat.\n",
      "My Cat's name is Memphis.\n"
     ]
    }
   ],
   "source": [
    "# function call \n",
    "describe_mypet('Cat', 'Memphis')"
   ]
  },
  {
   "cell_type": "code",
   "execution_count": 55,
   "id": "25d174db-c8a3-4aea-9168-01be365e3eb1",
   "metadata": {},
   "outputs": [
    {
     "name": "stdout",
     "output_type": "stream",
     "text": [
      "\n",
      "I have a Memphis.\n",
      "My Memphis's name is Cat.\n"
     ]
    }
   ],
   "source": [
    "# Interchanging positional arguments\n",
    "# Order in positional arguments \n",
    "describe_mypet('Memphis', 'Cat')"
   ]
  },
  {
   "cell_type": "code",
   "execution_count": 57,
   "id": "0e8552e1-e2cb-4019-9192-765c5060e0c9",
   "metadata": {},
   "outputs": [
    {
     "name": "stdout",
     "output_type": "stream",
     "text": [
      "\n",
      "I have a Cat.\n",
      "My Cat's name is Memphis.\n"
     ]
    }
   ],
   "source": [
    "# Keyword argument \n",
    "describe_mypet(name_pet='Memphis', animal_type='Cat')"
   ]
  },
  {
   "cell_type": "markdown",
   "id": "68e2f847-44ff-4252-8ad8-c00598161eaf",
   "metadata": {},
   "source": [
    "### Default Values in Functions"
   ]
  },
  {
   "cell_type": "code",
   "execution_count": 105,
   "id": "01cc32d5-8eb7-456e-9fa0-8ff981cc2e22",
   "metadata": {},
   "outputs": [],
   "source": [
    "# You can define a parameter from the beginning \n",
    "# If you make a function call without a value, it will use the default value"
   ]
  },
  {
   "cell_type": "code",
   "execution_count": 113,
   "id": "332012ca-a5be-47f5-87af-b33ba7180b10",
   "metadata": {},
   "outputs": [],
   "source": [
    "def describe_mypet(name_pet, animal_type='cat'): # two parameters\n",
    "    \"\"\" Display the information about a pet. \"\"\"\n",
    "    print(f\"\\nI have a {animal_type}.\")\n",
    "    print(f\"My {animal_type}'s name is {name_pet.title()}.\")"
   ]
  },
  {
   "cell_type": "code",
   "execution_count": 109,
   "id": "e4796bc7-2b6e-4f74-8f41-0044b170f03c",
   "metadata": {},
   "outputs": [
    {
     "name": "stdout",
     "output_type": "stream",
     "text": [
      "\n",
      "I have a cat.\n",
      "My cat's name is Memphis.\n"
     ]
    }
   ],
   "source": [
    "describe_mypet('cat', 'Memphis') # function call with values"
   ]
  },
  {
   "cell_type": "code",
   "execution_count": 111,
   "id": "0bc774dd-9377-409d-bd01-42638187ccaa",
   "metadata": {},
   "outputs": [
    {
     "ename": "TypeError",
     "evalue": "describe_mypet() missing 1 required positional argument: 'name_pet'",
     "output_type": "error",
     "traceback": [
      "\u001b[0;31m---------------------------------------------------------------------------\u001b[0m",
      "\u001b[0;31mTypeError\u001b[0m                                 Traceback (most recent call last)",
      "Cell \u001b[0;32mIn[111], line 1\u001b[0m\n\u001b[0;32m----> 1\u001b[0m describe_mypet(\u001b[38;5;124m'\u001b[39m\u001b[38;5;124mcat\u001b[39m\u001b[38;5;124m'\u001b[39m)\n",
      "\u001b[0;31mTypeError\u001b[0m: describe_mypet() missing 1 required positional argument: 'name_pet'"
     ]
    }
   ],
   "source": [
    "describe_mypet('cat')"
   ]
  },
  {
   "cell_type": "code",
   "execution_count": null,
   "id": "6a2a167b-01fb-4672-ac71-c1c4105b0769",
   "metadata": {},
   "outputs": [],
   "source": []
  },
  {
   "cell_type": "code",
   "execution_count": 115,
   "id": "f59ad97f-f614-4a8d-b2ec-6bc1a7a13c63",
   "metadata": {},
   "outputs": [
    {
     "name": "stdout",
     "output_type": "stream",
     "text": [
      "\n",
      "I have a cat.\n",
      "My cat's name is Memphis.\n"
     ]
    }
   ],
   "source": [
    "describe_mypet('Memphis')"
   ]
  },
  {
   "cell_type": "code",
   "execution_count": 134,
   "id": "86b21406-6df8-4da0-8b08-03e07549ba7a",
   "metadata": {},
   "outputs": [],
   "source": [
    "# Example\n",
    "def send_message(recipient, message, log=False):\n",
    "    \"\"\"Send a message to a specified recipient. Optionally log the message.\"\"\"\n",
    "    print(f\"Sending message to {recipient}: {message}\")\n",
    "    if log:\n",
    "        print(f\"Log: The message '{message}' was sent to {recipient}.\")"
   ]
  },
  {
   "cell_type": "code",
   "execution_count": 136,
   "id": "8f1c8fe3-bc6c-4b81-808d-3807f6a351f6",
   "metadata": {},
   "outputs": [
    {
     "name": "stdout",
     "output_type": "stream",
     "text": [
      "Sending message to Trust: I am definitely drinking malt\n"
     ]
    }
   ],
   "source": [
    "send_message(\"Trust\", \"I am definitely drinking malt\")"
   ]
  },
  {
   "cell_type": "code",
   "execution_count": 140,
   "id": "c6ab99ca-8ecb-47ab-8bef-1d031f83aacf",
   "metadata": {},
   "outputs": [
    {
     "name": "stdout",
     "output_type": "stream",
     "text": [
      "Sending message to Trust: I am definitely drinking malt\n",
      "Log: The message 'I am definitely drinking malt' was sent to Trust.\n"
     ]
    }
   ],
   "source": [
    "send_message(\"Trust\", \"I am definitely drinking malt\",log=True)"
   ]
  },
  {
   "cell_type": "markdown",
   "id": "2926a733-6664-474f-9b7e-a59413aae52a",
   "metadata": {},
   "source": [
    "### Return Values"
   ]
  },
  {
   "cell_type": "code",
   "execution_count": null,
   "id": "a29d0a60-5e29-447c-a441-8f7040d8faf4",
   "metadata": {},
   "outputs": [],
   "source": [
    "# The return statement returns a set of values or value\n",
    "# instead of printing an output"
   ]
  },
  {
   "cell_type": "code",
   "execution_count": 194,
   "id": "cda5b311-2177-4031-a5cf-b544d41a606e",
   "metadata": {},
   "outputs": [],
   "source": [
    "# Example \n",
    "def get_formatted_name(first_name, last_name):\n",
    "    \"\"\" Returns a full name, neatly formatted. \"\"\"\n",
    "    full_name = f\"{first_name} {last_name}\"\n",
    "    return full_name.title()"
   ]
  },
  {
   "cell_type": "code",
   "execution_count": 196,
   "id": "460d018a-0dd0-4063-a617-0d5e87c16600",
   "metadata": {},
   "outputs": [],
   "source": [
    "altschooler = get_formatted_name('cynthia', 'esumei')"
   ]
  },
  {
   "cell_type": "code",
   "execution_count": 198,
   "id": "1acf9a55-4e2f-4186-816d-c76046eb2e73",
   "metadata": {},
   "outputs": [
    {
     "name": "stdout",
     "output_type": "stream",
     "text": [
      "Cynthia Esumei\n"
     ]
    }
   ],
   "source": [
    "print(altschooler)"
   ]
  },
  {
   "cell_type": "code",
   "execution_count": 200,
   "id": "dcdf7b9e-8fef-400d-99fa-a4249345fbf1",
   "metadata": {},
   "outputs": [
    {
     "data": {
      "text/plain": [
       "'Cynthia Esumei'"
      ]
     },
     "execution_count": 200,
     "metadata": {},
     "output_type": "execute_result"
    }
   ],
   "source": [
    "altschooler"
   ]
  },
  {
   "cell_type": "code",
   "execution_count": 202,
   "id": "0b1e8722-c27e-447a-bb90-2b2bc32144b4",
   "metadata": {},
   "outputs": [],
   "source": [
    "# Second example with a twist\n",
    "def get_formatted_name(first_name,last_name, middle_name=''):\n",
    "    \"\"\" Returns a full name, neatly formatted. \"\"\"\n",
    "    if middle_name:\n",
    "        full_name = f\"{first_name} {middle_name} {last_name}\"\n",
    "    else: \n",
    "        full_name = f\"{first_name} {last_name}\"\n",
    "    return full_name.title()"
   ]
  },
  {
   "cell_type": "code",
   "execution_count": 204,
   "id": "c993e22e-b9ea-4af1-9932-1bc11b7c1e39",
   "metadata": {},
   "outputs": [
    {
     "data": {
      "text/plain": [
       "'Joy Onyeaghala-Stanley Tule'"
      ]
     },
     "execution_count": 204,
     "metadata": {},
     "output_type": "execute_result"
    }
   ],
   "source": [
    "get_formatted_name('Joy', 'Tule', 'Onyeaghala-Stanley')"
   ]
  },
  {
   "cell_type": "code",
   "execution_count": 206,
   "id": "5d648774-8ed2-4b92-9e42-ac2902c35b7c",
   "metadata": {},
   "outputs": [
    {
     "data": {
      "text/plain": [
       "'Joy Onyeaghala-Stanley'"
      ]
     },
     "execution_count": 206,
     "metadata": {},
     "output_type": "execute_result"
    }
   ],
   "source": [
    "get_formatted_name('Joy', 'Onyeaghala-Stanley')"
   ]
  },
  {
   "cell_type": "code",
   "execution_count": 244,
   "id": "c0991aab-548a-4f88-b692-f37877926cff",
   "metadata": {},
   "outputs": [],
   "source": [
    "# 3rd example with twist(print)\n",
    "def salute_students(names):\n",
    "    \"\"\" Recognize outstanding students. \"\"\"\n",
    "    for name in names:\n",
    "        message = f\"Welldone, {name.title()}\"\n",
    "        print(message)"
   ]
  },
  {
   "cell_type": "code",
   "execution_count": 246,
   "id": "7a309b81-5f94-41ff-8c42-d0fbe8939c49",
   "metadata": {},
   "outputs": [],
   "source": [
    "altschoolers_names = ['Ndidi', 'Emeka','Andrew','Mayowa','Kennedy']"
   ]
  },
  {
   "cell_type": "code",
   "execution_count": 248,
   "id": "5b3fbe6c-fc79-44bf-af7f-1c45d3c3a3ce",
   "metadata": {},
   "outputs": [
    {
     "name": "stdout",
     "output_type": "stream",
     "text": [
      "Welldone, Ndidi\n",
      "Welldone, Emeka\n",
      "Welldone, Andrew\n",
      "Welldone, Mayowa\n",
      "Welldone, Kennedy\n"
     ]
    }
   ],
   "source": [
    "salute_students(altschoolers_names)"
   ]
  },
  {
   "cell_type": "code",
   "execution_count": 256,
   "id": "f109435f-8022-498b-a013-f0dd62b5db44",
   "metadata": {},
   "outputs": [],
   "source": [
    "def salute_students(names):\n",
    "    \"\"\" Recognize outstanding students. \"\"\"\n",
    "    for name in names:\n",
    "        message = f\"Welldone, {name.title()}\"\n",
    "        return message"
   ]
  },
  {
   "cell_type": "code",
   "execution_count": 258,
   "id": "8c05d839-9672-4d31-b0d5-5913df925a16",
   "metadata": {},
   "outputs": [],
   "source": [
    "altschoolers_names = ['Ndidi', 'Emeka','Andrew','Mayowa','Kennedy']"
   ]
  },
  {
   "cell_type": "code",
   "execution_count": 260,
   "id": "ebc4596d-e6e9-4621-afed-3486efe5e988",
   "metadata": {},
   "outputs": [
    {
     "data": {
      "text/plain": [
       "'Welldone, Ndidi'"
      ]
     },
     "execution_count": 260,
     "metadata": {},
     "output_type": "execute_result"
    }
   ],
   "source": [
    "salute_students(altschoolers_names)"
   ]
  },
  {
   "cell_type": "code",
   "execution_count": null,
   "id": "f0e71697-2322-4643-aecd-266d246ecc8d",
   "metadata": {},
   "outputs": [],
   "source": []
  },
  {
   "cell_type": "code",
   "execution_count": null,
   "id": "0ed681ec-0cd0-4beb-acf6-138076c37cbd",
   "metadata": {},
   "outputs": [],
   "source": []
  },
  {
   "cell_type": "code",
   "execution_count": null,
   "id": "b774060c-d670-4a0c-99dc-782f4f1fd212",
   "metadata": {},
   "outputs": [],
   "source": []
  },
  {
   "cell_type": "code",
   "execution_count": null,
   "id": "bc16084f-f501-4bf9-aa18-464fa12e2cb7",
   "metadata": {},
   "outputs": [],
   "source": []
  },
  {
   "cell_type": "code",
   "execution_count": null,
   "id": "be18e260-a1d2-4056-9186-9fd0429cc0ac",
   "metadata": {},
   "outputs": [],
   "source": []
  },
  {
   "cell_type": "code",
   "execution_count": null,
   "id": "14ef3034-0795-4600-a4fb-04dbd0c68379",
   "metadata": {},
   "outputs": [],
   "source": []
  },
  {
   "cell_type": "markdown",
   "id": "ce8ba2a6-a964-4e65-be76-cb30a9488b70",
   "metadata": {},
   "source": [
    "### Testing out a function on a dataset"
   ]
  },
  {
   "cell_type": "code",
   "execution_count": null,
   "id": "34b9996c-5a01-40f6-8dfa-5b5164a8c6d9",
   "metadata": {},
   "outputs": [],
   "source": [
    "# titanic dataset - Training\n",
    "# Test"
   ]
  },
  {
   "cell_type": "code",
   "execution_count": 60,
   "id": "34c2046f-2a0c-40a8-8d40-d3ae944647c4",
   "metadata": {},
   "outputs": [],
   "source": [
    "# import packages \n",
    "import pandas as pd \n",
    "import numpy as np "
   ]
  },
  {
   "cell_type": "code",
   "execution_count": 62,
   "id": "618e516e-f45f-4f86-99c3-7686c9e519f0",
   "metadata": {},
   "outputs": [],
   "source": [
    "# first function\n",
    "def concat_df(train_data, test_data): \n",
    "    \"\"\" Returns a concatenated data frame of train & test. \"\"\"\n",
    "    return pd.concat([train_data, test_data], sort=True).reset_index(drop=True)"
   ]
  },
  {
   "cell_type": "code",
   "execution_count": 64,
   "id": "3b1b1d85-84bf-4e43-bea2-0edc2bad1cc3",
   "metadata": {},
   "outputs": [],
   "source": [
    "# second function\n",
    "def divide_df(all_data):\n",
    "    \"\"\" Return divided data frames of training & test. \"\"\"\n",
    "    return all_data.loc[:890], all_data.loc[891:].drop(['Survived'], axis=1)"
   ]
  },
  {
   "cell_type": "code",
   "execution_count": 70,
   "id": "1826d8cd-7d24-47cb-a5c1-3d5d9c2e0a25",
   "metadata": {},
   "outputs": [],
   "source": [
    "# Create data frames \n",
    "df_train = pd.read_csv('titanic.csv')\n",
    "df_test = pd.read_csv('titanic_test.csv')"
   ]
  },
  {
   "cell_type": "code",
   "execution_count": 92,
   "id": "c15f3fd9-bfb8-41f2-8945-5989132015af",
   "metadata": {},
   "outputs": [
    {
     "data": {
      "text/html": [
       "<div>\n",
       "<style scoped>\n",
       "    .dataframe tbody tr th:only-of-type {\n",
       "        vertical-align: middle;\n",
       "    }\n",
       "\n",
       "    .dataframe tbody tr th {\n",
       "        vertical-align: top;\n",
       "    }\n",
       "\n",
       "    .dataframe thead th {\n",
       "        text-align: right;\n",
       "    }\n",
       "</style>\n",
       "<table border=\"1\" class=\"dataframe\">\n",
       "  <thead>\n",
       "    <tr style=\"text-align: right;\">\n",
       "      <th></th>\n",
       "      <th>PassengerId</th>\n",
       "      <th>Survived</th>\n",
       "      <th>Pclass</th>\n",
       "      <th>Name</th>\n",
       "      <th>Sex</th>\n",
       "      <th>Age</th>\n",
       "      <th>SibSp</th>\n",
       "      <th>Parch</th>\n",
       "      <th>Ticket</th>\n",
       "      <th>Fare</th>\n",
       "      <th>Cabin</th>\n",
       "      <th>Embarked</th>\n",
       "    </tr>\n",
       "  </thead>\n",
       "  <tbody>\n",
       "    <tr>\n",
       "      <th>0</th>\n",
       "      <td>1</td>\n",
       "      <td>0</td>\n",
       "      <td>3</td>\n",
       "      <td>Braund, Mr. Owen Harris</td>\n",
       "      <td>male</td>\n",
       "      <td>22.0</td>\n",
       "      <td>1</td>\n",
       "      <td>0</td>\n",
       "      <td>A/5 21171</td>\n",
       "      <td>7.2500</td>\n",
       "      <td>NaN</td>\n",
       "      <td>S</td>\n",
       "    </tr>\n",
       "    <tr>\n",
       "      <th>1</th>\n",
       "      <td>2</td>\n",
       "      <td>1</td>\n",
       "      <td>1</td>\n",
       "      <td>Cumings, Mrs. John Bradley (Florence Briggs Th...</td>\n",
       "      <td>female</td>\n",
       "      <td>38.0</td>\n",
       "      <td>1</td>\n",
       "      <td>0</td>\n",
       "      <td>PC 17599</td>\n",
       "      <td>71.2833</td>\n",
       "      <td>C85</td>\n",
       "      <td>C</td>\n",
       "    </tr>\n",
       "    <tr>\n",
       "      <th>2</th>\n",
       "      <td>3</td>\n",
       "      <td>1</td>\n",
       "      <td>3</td>\n",
       "      <td>Heikkinen, Miss. Laina</td>\n",
       "      <td>female</td>\n",
       "      <td>26.0</td>\n",
       "      <td>0</td>\n",
       "      <td>0</td>\n",
       "      <td>STON/O2. 3101282</td>\n",
       "      <td>7.9250</td>\n",
       "      <td>NaN</td>\n",
       "      <td>S</td>\n",
       "    </tr>\n",
       "    <tr>\n",
       "      <th>3</th>\n",
       "      <td>4</td>\n",
       "      <td>1</td>\n",
       "      <td>1</td>\n",
       "      <td>Futrelle, Mrs. Jacques Heath (Lily May Peel)</td>\n",
       "      <td>female</td>\n",
       "      <td>35.0</td>\n",
       "      <td>1</td>\n",
       "      <td>0</td>\n",
       "      <td>113803</td>\n",
       "      <td>53.1000</td>\n",
       "      <td>C123</td>\n",
       "      <td>S</td>\n",
       "    </tr>\n",
       "    <tr>\n",
       "      <th>4</th>\n",
       "      <td>5</td>\n",
       "      <td>0</td>\n",
       "      <td>3</td>\n",
       "      <td>Allen, Mr. William Henry</td>\n",
       "      <td>male</td>\n",
       "      <td>35.0</td>\n",
       "      <td>0</td>\n",
       "      <td>0</td>\n",
       "      <td>373450</td>\n",
       "      <td>8.0500</td>\n",
       "      <td>NaN</td>\n",
       "      <td>S</td>\n",
       "    </tr>\n",
       "  </tbody>\n",
       "</table>\n",
       "</div>"
      ],
      "text/plain": [
       "   PassengerId  Survived  Pclass  \\\n",
       "0            1         0       3   \n",
       "1            2         1       1   \n",
       "2            3         1       3   \n",
       "3            4         1       1   \n",
       "4            5         0       3   \n",
       "\n",
       "                                                Name     Sex   Age  SibSp  \\\n",
       "0                            Braund, Mr. Owen Harris    male  22.0      1   \n",
       "1  Cumings, Mrs. John Bradley (Florence Briggs Th...  female  38.0      1   \n",
       "2                             Heikkinen, Miss. Laina  female  26.0      0   \n",
       "3       Futrelle, Mrs. Jacques Heath (Lily May Peel)  female  35.0      1   \n",
       "4                           Allen, Mr. William Henry    male  35.0      0   \n",
       "\n",
       "   Parch            Ticket     Fare Cabin Embarked  \n",
       "0      0         A/5 21171   7.2500   NaN        S  \n",
       "1      0          PC 17599  71.2833   C85        C  \n",
       "2      0  STON/O2. 3101282   7.9250   NaN        S  \n",
       "3      0            113803  53.1000  C123        S  \n",
       "4      0            373450   8.0500   NaN        S  "
      ]
     },
     "execution_count": 92,
     "metadata": {},
     "output_type": "execute_result"
    }
   ],
   "source": [
    "df_train.head()"
   ]
  },
  {
   "cell_type": "code",
   "execution_count": 88,
   "id": "e48a9819-ad19-4452-8b31-8462cd2e251a",
   "metadata": {},
   "outputs": [
    {
     "data": {
      "text/plain": [
       "Index(['PassengerId', 'Pclass', 'Name', 'Sex', 'Age', 'SibSp', 'Parch',\n",
       "       'Ticket', 'Fare', 'Cabin', 'Embarked'],\n",
       "      dtype='object')"
      ]
     },
     "execution_count": 88,
     "metadata": {},
     "output_type": "execute_result"
    }
   ],
   "source": [
    "df_test.columns"
   ]
  },
  {
   "cell_type": "code",
   "execution_count": 74,
   "id": "293c0a91-fcf9-44b2-9c38-790ffec921bd",
   "metadata": {},
   "outputs": [
    {
     "data": {
      "text/plain": [
       "(891, 12)"
      ]
     },
     "execution_count": 74,
     "metadata": {},
     "output_type": "execute_result"
    }
   ],
   "source": [
    "df_train.shape # Returns number of rows & columns"
   ]
  },
  {
   "cell_type": "code",
   "execution_count": 78,
   "id": "b0b20458-bdd0-4b4d-9071-179f263dd5d8",
   "metadata": {},
   "outputs": [
    {
     "data": {
      "text/plain": [
       "(418, 11)"
      ]
     },
     "execution_count": 78,
     "metadata": {},
     "output_type": "execute_result"
    }
   ],
   "source": [
    "df_test.shape # Returns number of rows and columns "
   ]
  },
  {
   "cell_type": "code",
   "execution_count": 80,
   "id": "ac825f7f-0cdd-4463-94d9-69b9679c3210",
   "metadata": {},
   "outputs": [],
   "source": [
    "df_all = concat_df(df_train, df_test) # first use of our functions"
   ]
  },
  {
   "cell_type": "code",
   "execution_count": 82,
   "id": "47e39510-71be-41ff-badd-60e21d7b230c",
   "metadata": {},
   "outputs": [
    {
     "data": {
      "text/plain": [
       "(1309, 12)"
      ]
     },
     "execution_count": 82,
     "metadata": {},
     "output_type": "execute_result"
    }
   ],
   "source": [
    "df_all.shape"
   ]
  },
  {
   "cell_type": "code",
   "execution_count": 96,
   "id": "c5dcbb08-de50-4b99-bc48-e602f8f82b28",
   "metadata": {},
   "outputs": [
    {
     "data": {
      "text/html": [
       "<div>\n",
       "<style scoped>\n",
       "    .dataframe tbody tr th:only-of-type {\n",
       "        vertical-align: middle;\n",
       "    }\n",
       "\n",
       "    .dataframe tbody tr th {\n",
       "        vertical-align: top;\n",
       "    }\n",
       "\n",
       "    .dataframe thead th {\n",
       "        text-align: right;\n",
       "    }\n",
       "</style>\n",
       "<table border=\"1\" class=\"dataframe\">\n",
       "  <thead>\n",
       "    <tr style=\"text-align: right;\">\n",
       "      <th></th>\n",
       "      <th>PassengerId</th>\n",
       "      <th>Survived</th>\n",
       "      <th>Pclass</th>\n",
       "      <th>Name</th>\n",
       "      <th>Sex</th>\n",
       "      <th>Age</th>\n",
       "      <th>SibSp</th>\n",
       "      <th>Parch</th>\n",
       "      <th>Ticket</th>\n",
       "      <th>Fare</th>\n",
       "      <th>Cabin</th>\n",
       "      <th>Embarked</th>\n",
       "    </tr>\n",
       "  </thead>\n",
       "  <tbody>\n",
       "    <tr>\n",
       "      <th>0</th>\n",
       "      <td>1</td>\n",
       "      <td>0</td>\n",
       "      <td>3</td>\n",
       "      <td>Braund, Mr. Owen Harris</td>\n",
       "      <td>male</td>\n",
       "      <td>22.0</td>\n",
       "      <td>1</td>\n",
       "      <td>0</td>\n",
       "      <td>A/5 21171</td>\n",
       "      <td>7.2500</td>\n",
       "      <td>NaN</td>\n",
       "      <td>S</td>\n",
       "    </tr>\n",
       "    <tr>\n",
       "      <th>1</th>\n",
       "      <td>2</td>\n",
       "      <td>1</td>\n",
       "      <td>1</td>\n",
       "      <td>Cumings, Mrs. John Bradley (Florence Briggs Th...</td>\n",
       "      <td>female</td>\n",
       "      <td>38.0</td>\n",
       "      <td>1</td>\n",
       "      <td>0</td>\n",
       "      <td>PC 17599</td>\n",
       "      <td>71.2833</td>\n",
       "      <td>C85</td>\n",
       "      <td>C</td>\n",
       "    </tr>\n",
       "    <tr>\n",
       "      <th>2</th>\n",
       "      <td>3</td>\n",
       "      <td>1</td>\n",
       "      <td>3</td>\n",
       "      <td>Heikkinen, Miss. Laina</td>\n",
       "      <td>female</td>\n",
       "      <td>26.0</td>\n",
       "      <td>0</td>\n",
       "      <td>0</td>\n",
       "      <td>STON/O2. 3101282</td>\n",
       "      <td>7.9250</td>\n",
       "      <td>NaN</td>\n",
       "      <td>S</td>\n",
       "    </tr>\n",
       "    <tr>\n",
       "      <th>3</th>\n",
       "      <td>4</td>\n",
       "      <td>1</td>\n",
       "      <td>1</td>\n",
       "      <td>Futrelle, Mrs. Jacques Heath (Lily May Peel)</td>\n",
       "      <td>female</td>\n",
       "      <td>35.0</td>\n",
       "      <td>1</td>\n",
       "      <td>0</td>\n",
       "      <td>113803</td>\n",
       "      <td>53.1000</td>\n",
       "      <td>C123</td>\n",
       "      <td>S</td>\n",
       "    </tr>\n",
       "    <tr>\n",
       "      <th>4</th>\n",
       "      <td>5</td>\n",
       "      <td>0</td>\n",
       "      <td>3</td>\n",
       "      <td>Allen, Mr. William Henry</td>\n",
       "      <td>male</td>\n",
       "      <td>35.0</td>\n",
       "      <td>0</td>\n",
       "      <td>0</td>\n",
       "      <td>373450</td>\n",
       "      <td>8.0500</td>\n",
       "      <td>NaN</td>\n",
       "      <td>S</td>\n",
       "    </tr>\n",
       "  </tbody>\n",
       "</table>\n",
       "</div>"
      ],
      "text/plain": [
       "   PassengerId  Survived  Pclass  \\\n",
       "0            1         0       3   \n",
       "1            2         1       1   \n",
       "2            3         1       3   \n",
       "3            4         1       1   \n",
       "4            5         0       3   \n",
       "\n",
       "                                                Name     Sex   Age  SibSp  \\\n",
       "0                            Braund, Mr. Owen Harris    male  22.0      1   \n",
       "1  Cumings, Mrs. John Bradley (Florence Briggs Th...  female  38.0      1   \n",
       "2                             Heikkinen, Miss. Laina  female  26.0      0   \n",
       "3       Futrelle, Mrs. Jacques Heath (Lily May Peel)  female  35.0      1   \n",
       "4                           Allen, Mr. William Henry    male  35.0      0   \n",
       "\n",
       "   Parch            Ticket     Fare Cabin Embarked  \n",
       "0      0         A/5 21171   7.2500   NaN        S  \n",
       "1      0          PC 17599  71.2833   C85        C  \n",
       "2      0  STON/O2. 3101282   7.9250   NaN        S  \n",
       "3      0            113803  53.1000  C123        S  \n",
       "4      0            373450   8.0500   NaN        S  "
      ]
     },
     "execution_count": 96,
     "metadata": {},
     "output_type": "execute_result"
    }
   ],
   "source": [
    "df_train.head()"
   ]
  },
  {
   "cell_type": "code",
   "execution_count": 94,
   "id": "a56f177f-c709-426a-85aa-d7b7d30f13a4",
   "metadata": {},
   "outputs": [
    {
     "data": {
      "text/plain": [
       "PassengerId                 322\n",
       "Survived                      0\n",
       "Pclass                        3\n",
       "Name           Danoff, Mr. Yoto\n",
       "Sex                        male\n",
       "Age                        27.0\n",
       "SibSp                         0\n",
       "Parch                         0\n",
       "Ticket                   349219\n",
       "Fare                     7.8958\n",
       "Cabin                       NaN\n",
       "Embarked                      S\n",
       "Name: 321, dtype: object"
      ]
     },
     "execution_count": 94,
     "metadata": {},
     "output_type": "execute_result"
    }
   ],
   "source": [
    "df_train.loc[321]"
   ]
  },
  {
   "cell_type": "code",
   "execution_count": null,
   "id": "bc09e79f-f7a6-4a39-a667-71e5e802f34b",
   "metadata": {},
   "outputs": [],
   "source": [
    "# axis=0 - Row-wise operation\n",
    "# axis=1 - column-wise operation"
   ]
  },
  {
   "cell_type": "code",
   "execution_count": null,
   "id": "2b8ceac5-656c-40bb-8430-3de90725d383",
   "metadata": {},
   "outputs": [],
   "source": []
  },
  {
   "cell_type": "code",
   "execution_count": null,
   "id": "39742f72-de3f-4e53-a1ae-8711408a17d8",
   "metadata": {},
   "outputs": [],
   "source": []
  },
  {
   "cell_type": "code",
   "execution_count": null,
   "id": "bc2a750f-75b3-49d2-9ad8-8ba4b1e42194",
   "metadata": {},
   "outputs": [],
   "source": []
  },
  {
   "cell_type": "code",
   "execution_count": null,
   "id": "8043fd8d-d0b1-4e47-af91-4ce614970233",
   "metadata": {},
   "outputs": [],
   "source": []
  },
  {
   "cell_type": "code",
   "execution_count": null,
   "id": "24b68ea4-dab0-438c-9aa5-3187c89302b9",
   "metadata": {},
   "outputs": [],
   "source": []
  },
  {
   "cell_type": "code",
   "execution_count": null,
   "id": "3651226b-ba68-41ad-9466-ab6683d63995",
   "metadata": {},
   "outputs": [],
   "source": []
  },
  {
   "cell_type": "code",
   "execution_count": null,
   "id": "7a741680-be23-41c0-acb0-251e2342f752",
   "metadata": {},
   "outputs": [],
   "source": []
  },
  {
   "cell_type": "code",
   "execution_count": null,
   "id": "12130c52-747b-4bbf-977d-1734bf940115",
   "metadata": {},
   "outputs": [],
   "source": []
  },
  {
   "cell_type": "code",
   "execution_count": null,
   "id": "65861447-751c-4a47-97b2-6b8e251c55e5",
   "metadata": {},
   "outputs": [],
   "source": []
  },
  {
   "cell_type": "code",
   "execution_count": null,
   "id": "09e17cca-c5dc-422a-b1b2-6ee94418dba1",
   "metadata": {},
   "outputs": [],
   "source": []
  },
  {
   "cell_type": "code",
   "execution_count": null,
   "id": "dff49640-452a-4b32-981b-292e66a07945",
   "metadata": {},
   "outputs": [],
   "source": []
  },
  {
   "cell_type": "code",
   "execution_count": null,
   "id": "41cd814f-656f-417e-bf02-ad5b0c6be8ce",
   "metadata": {},
   "outputs": [],
   "source": []
  },
  {
   "cell_type": "code",
   "execution_count": null,
   "id": "ef75ec12-6f08-43e2-8c00-2b8cc8cd4863",
   "metadata": {},
   "outputs": [],
   "source": []
  },
  {
   "cell_type": "code",
   "execution_count": null,
   "id": "821f6be0-e383-498a-a99b-1de1c6abda6f",
   "metadata": {},
   "outputs": [],
   "source": []
  },
  {
   "cell_type": "code",
   "execution_count": null,
   "id": "9d12dc6b-a774-496e-959d-cfe5c8d67911",
   "metadata": {},
   "outputs": [],
   "source": []
  },
  {
   "cell_type": "code",
   "execution_count": null,
   "id": "d8060a1e-3135-44b4-bca0-041cdf59d4dd",
   "metadata": {},
   "outputs": [],
   "source": []
  },
  {
   "cell_type": "code",
   "execution_count": 59,
   "id": "d0d1f539-ed90-4748-96b8-927bfaedad06",
   "metadata": {},
   "outputs": [
    {
     "name": "stdout",
     "output_type": "stream",
     "text": [
      "First even number found: 2\n",
      "First even number found: 4\n",
      "First even number found: 6\n",
      "First even number found: 8\n",
      "First even number found: 22\n"
     ]
    }
   ],
   "source": [
    "# Are break statements exclusively for while loops?\n",
    "# Example of break in a for loop\n",
    "numbers = [1, 3, 5, 7, 9, 2, 4, 6, 8, 22]\n",
    "for number in numbers:\n",
    "    if number % 2 == 0:\n",
    "        print(\"First even number found:\", number)\n",
    "        #break  # Exit the loop on finding the first even number"
   ]
  },
  {
   "cell_type": "code",
   "execution_count": 61,
   "id": "4b3ff5f0-4ff6-4e98-aa47-c3887fc995f8",
   "metadata": {},
   "outputs": [
    {
     "name": "stdout",
     "output_type": "stream",
     "text": [
      "First even number found: 2\n"
     ]
    }
   ],
   "source": [
    "# Example of break in a for loop\n",
    "numbers = [1, 3, 5, 7, 9, 2, 4, 6, 8, 22]\n",
    "for number in numbers:\n",
    "    if number % 2 == 0:\n",
    "        print(\"First even number found:\", number)\n",
    "        break  # Exit the loop on finding the first even number"
   ]
  },
  {
   "cell_type": "code",
   "execution_count": 69,
   "id": "8b63bd64-0731-4154-862f-889a868b04c2",
   "metadata": {},
   "outputs": [
    {
     "name": "stdout",
     "output_type": "stream",
     "text": [
      "Skipped a small number: 1\n",
      "Skipped a small number: 2\n",
      "Skipped a negative number: -1\n",
      "Processed number: 4\n",
      "Skipped a negative number: -5\n",
      "Processed number: 6\n",
      "Processed number: 7\n",
      "Skipped a negative number: -8\n"
     ]
    }
   ],
   "source": [
    "# Can we have two or more continue statements in while loop? \n",
    "# Yes\n",
    "# Example: Processing numbers with multiple continue statements\n",
    "\n",
    "numbers = [1, 2, -1, 4, -5, 6, 7, -8]\n",
    "index = 0\n",
    "\n",
    "while index < len(numbers):\n",
    "    number = numbers[index]\n",
    "    index += 1  # Increment index at the beginning to avoid infinite loops\n",
    "\n",
    "    # Skip processing for negative numbers\n",
    "    if number < 0:\n",
    "        print(f\"Skipped a negative number: {number}\")\n",
    "        continue\n",
    "\n",
    "    # Skip processing if the number is too small\n",
    "    if number < 3:\n",
    "        print(f\"Skipped a small number: {number}\")\n",
    "        continue\n",
    "\n",
    "    # Process the number\n",
    "    print(f\"Processed number: {number}\")\n"
   ]
  },
  {
   "cell_type": "code",
   "execution_count": 75,
   "id": "3b8e00c0-bb5d-4716-ae5f-25d298b62b0b",
   "metadata": {},
   "outputs": [
    {
     "name": "stdout",
     "output_type": "stream",
     "text": [
      "Processing number: 1\n",
      "Skipping even number: 2\n",
      "Processing number: 3\n",
      "Skipping even number: 4\n",
      "Processing number: 5\n",
      "Negative number encountered. Exiting loop.\n"
     ]
    }
   ],
   "source": [
    "# Can break and continue statements be in one block of codes?\n",
    "# Yes\n",
    "numbers = [1, 2, 3, 4, 5, -1, 6, 7, 8, 9, 10]\n",
    "\n",
    "# Process numbers until a negative number is found\n",
    "for number in numbers:\n",
    "    if number == -1:\n",
    "        print(\"Negative number encountered. Exiting loop.\")\n",
    "        break  # Exit the loop if a negative number is found\n",
    "    if number % 2 == 0:\n",
    "        print(f\"Skipping even number: {number}\")\n",
    "        continue  # Skip further processing for even numbers\n",
    "    print(f\"Processing number: {number}\")\n"
   ]
  },
  {
   "cell_type": "code",
   "execution_count": 66,
   "id": "71f826ae-dc31-465f-a658-ecfd02a93443",
   "metadata": {},
   "outputs": [
    {
     "data": {
      "text/html": [
       "<div>\n",
       "<style scoped>\n",
       "    .dataframe tbody tr th:only-of-type {\n",
       "        vertical-align: middle;\n",
       "    }\n",
       "\n",
       "    .dataframe tbody tr th {\n",
       "        vertical-align: top;\n",
       "    }\n",
       "\n",
       "    .dataframe thead th {\n",
       "        text-align: right;\n",
       "    }\n",
       "</style>\n",
       "<table border=\"1\" class=\"dataframe\">\n",
       "  <thead>\n",
       "    <tr style=\"text-align: right;\">\n",
       "      <th></th>\n",
       "      <th>max_speed</th>\n",
       "      <th>shield</th>\n",
       "    </tr>\n",
       "  </thead>\n",
       "  <tbody>\n",
       "    <tr>\n",
       "      <th>cobra</th>\n",
       "      <td>1</td>\n",
       "      <td>2</td>\n",
       "    </tr>\n",
       "    <tr>\n",
       "      <th>viper</th>\n",
       "      <td>4</td>\n",
       "      <td>5</td>\n",
       "    </tr>\n",
       "    <tr>\n",
       "      <th>sidewinder</th>\n",
       "      <td>7</td>\n",
       "      <td>8</td>\n",
       "    </tr>\n",
       "  </tbody>\n",
       "</table>\n",
       "</div>"
      ],
      "text/plain": [
       "            max_speed  shield\n",
       "cobra               1       2\n",
       "viper               4       5\n",
       "sidewinder          7       8"
      ]
     },
     "execution_count": 66,
     "metadata": {},
     "output_type": "execute_result"
    }
   ],
   "source": [
    "# What does the pd.loc() do?\n",
    "df = pd.DataFrame([[1, 2], [4, 5], [7, 8]],\n",
    "                  index=['cobra', 'viper', 'sidewinder'],\n",
    "                  columns=['max_speed', 'shield'])\n",
    "df"
   ]
  },
  {
   "cell_type": "code",
   "execution_count": 68,
   "id": "b63221d1-b270-436c-9445-15e92a29b9c2",
   "metadata": {},
   "outputs": [
    {
     "data": {
      "text/plain": [
       "max_speed    1\n",
       "shield       2\n",
       "Name: cobra, dtype: int64"
      ]
     },
     "execution_count": 68,
     "metadata": {},
     "output_type": "execute_result"
    }
   ],
   "source": [
    "df.loc['cobra']"
   ]
  },
  {
   "cell_type": "code",
   "execution_count": 98,
   "id": "37e01d0c-07f9-4015-8184-0429c8056b52",
   "metadata": {},
   "outputs": [
    {
     "data": {
      "text/html": [
       "<div>\n",
       "<style scoped>\n",
       "    .dataframe tbody tr th:only-of-type {\n",
       "        vertical-align: middle;\n",
       "    }\n",
       "\n",
       "    .dataframe tbody tr th {\n",
       "        vertical-align: top;\n",
       "    }\n",
       "\n",
       "    .dataframe thead th {\n",
       "        text-align: right;\n",
       "    }\n",
       "</style>\n",
       "<table border=\"1\" class=\"dataframe\">\n",
       "  <thead>\n",
       "    <tr style=\"text-align: right;\">\n",
       "      <th></th>\n",
       "      <th>max_speed</th>\n",
       "      <th>shield</th>\n",
       "    </tr>\n",
       "  </thead>\n",
       "  <tbody>\n",
       "    <tr>\n",
       "      <th>1</th>\n",
       "      <td>1</td>\n",
       "      <td>2</td>\n",
       "    </tr>\n",
       "    <tr>\n",
       "      <th>2</th>\n",
       "      <td>4</td>\n",
       "      <td>5</td>\n",
       "    </tr>\n",
       "    <tr>\n",
       "      <th>3</th>\n",
       "      <td>7</td>\n",
       "      <td>8</td>\n",
       "    </tr>\n",
       "  </tbody>\n",
       "</table>\n",
       "</div>"
      ],
      "text/plain": [
       "   max_speed  shield\n",
       "1          1       2\n",
       "2          4       5\n",
       "3          7       8"
      ]
     },
     "execution_count": 98,
     "metadata": {},
     "output_type": "execute_result"
    }
   ],
   "source": [
    "# What does the pd.loc() do?\n",
    "df_1 = pd.DataFrame([[1, 2], [4, 5], [7, 8]],\n",
    "                  index=[1,2,3],\n",
    "                  columns=['max_speed', 'shield'])\n",
    "df_1"
   ]
  },
  {
   "cell_type": "code",
   "execution_count": 102,
   "id": "382860cd-4ed2-4983-9903-448a19bd1d5e",
   "metadata": {},
   "outputs": [
    {
     "data": {
      "text/plain": [
       "max_speed    4\n",
       "shield       5\n",
       "Name: 2, dtype: int64"
      ]
     },
     "execution_count": 102,
     "metadata": {},
     "output_type": "execute_result"
    }
   ],
   "source": [
    "df_1.iloc[1]"
   ]
  },
  {
   "cell_type": "code",
   "execution_count": null,
   "id": "dadf6fa4-b58c-45e8-b8fb-af16010e4d6d",
   "metadata": {},
   "outputs": [],
   "source": []
  }
 ],
 "metadata": {
  "kernelspec": {
   "display_name": "Python 3 (ipykernel)",
   "language": "python",
   "name": "python3"
  },
  "language_info": {
   "codemirror_mode": {
    "name": "ipython",
    "version": 3
   },
   "file_extension": ".py",
   "mimetype": "text/x-python",
   "name": "python",
   "nbconvert_exporter": "python",
   "pygments_lexer": "ipython3",
   "version": "3.12.4"
  }
 },
 "nbformat": 4,
 "nbformat_minor": 5
}
